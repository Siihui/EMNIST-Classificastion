{
 "cells": [
  {
   "cell_type": "markdown",
   "id": "58dbbd9a",
   "metadata": {},
   "source": [
    "## VGG, Data: EMNIST"
   ]
  },
  {
   "cell_type": "markdown",
   "id": "5e47904e",
   "metadata": {},
   "source": [
    "**READ ME**\n",
    "\n",
    " Before running the code, make sure that data folder and code are in the same directory, and the data folder needs to contain four decompressed input files, which are named as ‘emnist-byclass-test-images-idx3-ubyte’, ‘emnist-byclass-test-labels-idx1-ubyte’, ‘emnist-byclass-train-images-idx3-ubyte’, ‘emnist-byclass-train-labels-idx1-ubyte’.\n",
    "The code cells in the Setup and Preprocessing parts need to be run one by one. If you want to explore the whole building model step completely, you can run all the code cells in Build and tunning model one by one. If you only want to get the final tunned model, then you can run the summary module directly. Then run the complete prediction to predict on the test set.\n"
   ]
  },
  {
   "cell_type": "markdown",
   "id": "34606f6e",
   "metadata": {},
   "source": [
    "## Setup"
   ]
  },
  {
   "cell_type": "code",
   "execution_count": 2,
   "id": "2083ac07",
   "metadata": {},
   "outputs": [],
   "source": [
    "import numpy as np\n",
    "import struct\n",
    "import matplotlib.pyplot as plt\n",
    "import sys\n",
    "import pandas as pd\n",
    "import sklearn\n",
    "import time\n",
    "import tensorflow as tf\n",
    "from tensorflow import keras\n",
    "from sklearn.model_selection import train_test_split\n",
    "\n",
    "# Data direction\n",
    "train_data_dir='./data/emnist-byclass-train-images-idx3-ubyte'\n",
    "train_label_dir = './data/emnist-byclass-train-labels-idx1-ubyte'\n",
    "test_data_dir = './data/emnist-byclass-test-images-idx3-ubyte'\n",
    "test_label_dir = './data/emnist-byclass-test-labels-idx1-ubyte'\n",
    "\n",
    "def decode_idx3_ubyte(file):\n",
    "    '''\n",
    "    file: file dirction\n",
    "    return: data set\n",
    "    '''\n",
    "\n",
    "    # read binary data\n",
    "    bin_read_data = open(file,'rb').read()\n",
    "\n",
    "    offset = 0\n",
    "    header = '>iiii'\n",
    "    magic_num, num_img, num_row, num_col = struct.unpack_from(header, bin_read_data,offset)\n",
    "    print('magic number: %d, number of images: %d, image size: %d*%d' % (magic_num, num_img, num_row, num_col ))\n",
    "\n",
    "    img_size = num_row * num_col\n",
    "    offset += struct.calcsize(header)\n",
    "    print(offset)\n",
    "    fmt_image = '>' + str(img_size) + 'B'\n",
    "    print(fmt_image, offset, struct.calcsize(fmt_image))\n",
    "    images = np.empty((num_img, num_row, num_col))\n",
    "\n",
    "    for i in range(num_img):\n",
    "        if (i +1) % 10000 == 0:\n",
    "            print('Decode: %d' % (i+1))\n",
    "            print(offset)\n",
    "        images[i] = np.array(struct.unpack_from(fmt_image, bin_read_data, offset)).reshape((num_row, num_col))\n",
    "        offset += struct.calcsize(fmt_image)\n",
    "    return images\n",
    "\n",
    "def decode_idx1_ubyte(file):\n",
    "    bin_read_data = open(file, 'rb').read()\n",
    "    offset = 0\n",
    "    header = '>ii'\n",
    "    magic_num, num_img = struct.unpack_from(header, bin_read_data,offset)\n",
    "    print('magic number: %d, number of images: %d' % (magic_num, num_img))\n",
    "\n",
    "    offset += struct.calcsize(header)\n",
    "    fmt_img ='>B'\n",
    "    labels = np.empty(num_img)\n",
    "    for i in range(num_img):\n",
    "        if (i + 1) % 10000 ==0:\n",
    "            print('Decode: %d' %(i+1))\n",
    "        labels[i] = struct.unpack_from(fmt_img,bin_read_data,offset)[0]\n",
    "        offset += struct.calcsize(fmt_img)\n",
    "    return labels"
   ]
  },
  {
   "cell_type": "markdown",
   "id": "8de23c36",
   "metadata": {},
   "source": [
    "### Data loading"
   ]
  },
  {
   "cell_type": "code",
   "execution_count": 3,
   "id": "3c441a2b",
   "metadata": {},
   "outputs": [
    {
     "name": "stdout",
     "output_type": "stream",
     "text": [
      "magic number: 2051, number of images: 697932, image size: 28*28\n",
      "16\n",
      ">784B 16 784\n",
      "Decode: 10000\n",
      "7839232\n",
      "Decode: 20000\n",
      "15679232\n",
      "Decode: 30000\n",
      "23519232\n",
      "Decode: 40000\n",
      "31359232\n",
      "Decode: 50000\n",
      "39199232\n",
      "Decode: 60000\n",
      "47039232\n",
      "Decode: 70000\n",
      "54879232\n",
      "Decode: 80000\n",
      "62719232\n",
      "Decode: 90000\n",
      "70559232\n",
      "Decode: 100000\n",
      "78399232\n",
      "Decode: 110000\n",
      "86239232\n",
      "Decode: 120000\n",
      "94079232\n",
      "Decode: 130000\n",
      "101919232\n",
      "Decode: 140000\n",
      "109759232\n",
      "Decode: 150000\n",
      "117599232\n",
      "Decode: 160000\n",
      "125439232\n",
      "Decode: 170000\n",
      "133279232\n",
      "Decode: 180000\n",
      "141119232\n",
      "Decode: 190000\n",
      "148959232\n",
      "Decode: 200000\n",
      "156799232\n",
      "Decode: 210000\n",
      "164639232\n",
      "Decode: 220000\n",
      "172479232\n",
      "Decode: 230000\n",
      "180319232\n",
      "Decode: 240000\n",
      "188159232\n",
      "Decode: 250000\n",
      "195999232\n",
      "Decode: 260000\n",
      "203839232\n",
      "Decode: 270000\n",
      "211679232\n",
      "Decode: 280000\n",
      "219519232\n",
      "Decode: 290000\n",
      "227359232\n",
      "Decode: 300000\n",
      "235199232\n",
      "Decode: 310000\n",
      "243039232\n",
      "Decode: 320000\n",
      "250879232\n",
      "Decode: 330000\n",
      "258719232\n",
      "Decode: 340000\n",
      "266559232\n",
      "Decode: 350000\n",
      "274399232\n",
      "Decode: 360000\n",
      "282239232\n",
      "Decode: 370000\n",
      "290079232\n",
      "Decode: 380000\n",
      "297919232\n",
      "Decode: 390000\n",
      "305759232\n",
      "Decode: 400000\n",
      "313599232\n",
      "Decode: 410000\n",
      "321439232\n",
      "Decode: 420000\n",
      "329279232\n",
      "Decode: 430000\n",
      "337119232\n",
      "Decode: 440000\n",
      "344959232\n",
      "Decode: 450000\n",
      "352799232\n",
      "Decode: 460000\n",
      "360639232\n",
      "Decode: 470000\n",
      "368479232\n",
      "Decode: 480000\n",
      "376319232\n",
      "Decode: 490000\n",
      "384159232\n",
      "Decode: 500000\n",
      "391999232\n",
      "Decode: 510000\n",
      "399839232\n",
      "Decode: 520000\n",
      "407679232\n",
      "Decode: 530000\n",
      "415519232\n",
      "Decode: 540000\n",
      "423359232\n",
      "Decode: 550000\n",
      "431199232\n",
      "Decode: 560000\n",
      "439039232\n",
      "Decode: 570000\n",
      "446879232\n",
      "Decode: 580000\n",
      "454719232\n",
      "Decode: 590000\n",
      "462559232\n",
      "Decode: 600000\n",
      "470399232\n",
      "Decode: 610000\n",
      "478239232\n",
      "Decode: 620000\n",
      "486079232\n",
      "Decode: 630000\n",
      "493919232\n",
      "Decode: 640000\n",
      "501759232\n",
      "Decode: 650000\n",
      "509599232\n",
      "Decode: 660000\n",
      "517439232\n",
      "Decode: 670000\n",
      "525279232\n",
      "Decode: 680000\n",
      "533119232\n",
      "Decode: 690000\n",
      "540959232\n",
      "magic number: 2051, number of images: 116323, image size: 28*28\n",
      "16\n",
      ">784B 16 784\n",
      "Decode: 10000\n",
      "7839232\n",
      "Decode: 20000\n",
      "15679232\n",
      "Decode: 30000\n",
      "23519232\n",
      "Decode: 40000\n",
      "31359232\n",
      "Decode: 50000\n",
      "39199232\n",
      "Decode: 60000\n",
      "47039232\n",
      "Decode: 70000\n",
      "54879232\n",
      "Decode: 80000\n",
      "62719232\n",
      "Decode: 90000\n",
      "70559232\n",
      "Decode: 100000\n",
      "78399232\n",
      "Decode: 110000\n",
      "86239232\n"
     ]
    }
   ],
   "source": [
    "trian_img_raw = decode_idx3_ubyte(train_data_dir)\n",
    "test_img_raw = decode_idx3_ubyte(test_data_dir)"
   ]
  },
  {
   "cell_type": "code",
   "execution_count": 4,
   "id": "29389c9f",
   "metadata": {},
   "outputs": [
    {
     "name": "stdout",
     "output_type": "stream",
     "text": [
      "magic number: 2049, number of images: 697932\n",
      "Decode: 10000\n",
      "Decode: 20000\n",
      "Decode: 30000\n",
      "Decode: 40000\n",
      "Decode: 50000\n",
      "Decode: 60000\n",
      "Decode: 70000\n",
      "Decode: 80000\n",
      "Decode: 90000\n",
      "Decode: 100000\n",
      "Decode: 110000\n",
      "Decode: 120000\n",
      "Decode: 130000\n",
      "Decode: 140000\n",
      "Decode: 150000\n",
      "Decode: 160000\n",
      "Decode: 170000\n",
      "Decode: 180000\n",
      "Decode: 190000\n",
      "Decode: 200000\n",
      "Decode: 210000\n",
      "Decode: 220000\n",
      "Decode: 230000\n",
      "Decode: 240000\n",
      "Decode: 250000\n",
      "Decode: 260000\n",
      "Decode: 270000\n",
      "Decode: 280000\n",
      "Decode: 290000\n",
      "Decode: 300000\n",
      "Decode: 310000\n",
      "Decode: 320000\n",
      "Decode: 330000\n",
      "Decode: 340000\n",
      "Decode: 350000\n",
      "Decode: 360000\n",
      "Decode: 370000\n",
      "Decode: 380000\n",
      "Decode: 390000\n",
      "Decode: 400000\n",
      "Decode: 410000\n",
      "Decode: 420000\n",
      "Decode: 430000\n",
      "Decode: 440000\n",
      "Decode: 450000\n",
      "Decode: 460000\n",
      "Decode: 470000\n",
      "Decode: 480000\n",
      "Decode: 490000\n",
      "Decode: 500000\n",
      "Decode: 510000\n",
      "Decode: 520000\n",
      "Decode: 530000\n",
      "Decode: 540000\n",
      "Decode: 550000\n",
      "Decode: 560000\n",
      "Decode: 570000\n",
      "Decode: 580000\n",
      "Decode: 590000\n",
      "Decode: 600000\n",
      "Decode: 610000\n",
      "Decode: 620000\n",
      "Decode: 630000\n",
      "Decode: 640000\n",
      "Decode: 650000\n",
      "Decode: 660000\n",
      "Decode: 670000\n",
      "Decode: 680000\n",
      "Decode: 690000\n",
      "magic number: 2049, number of images: 116323\n",
      "Decode: 10000\n",
      "Decode: 20000\n",
      "Decode: 30000\n",
      "Decode: 40000\n",
      "Decode: 50000\n",
      "Decode: 60000\n",
      "Decode: 70000\n",
      "Decode: 80000\n",
      "Decode: 90000\n",
      "Decode: 100000\n",
      "Decode: 110000\n"
     ]
    }
   ],
   "source": [
    "train_lab_raw = decode_idx1_ubyte(train_label_dir)\n",
    "test_lab_raw = decode_idx1_ubyte(test_label_dir)"
   ]
  },
  {
   "cell_type": "markdown",
   "id": "f8ad154b",
   "metadata": {},
   "source": [
    "## Preprocess data"
   ]
  },
  {
   "cell_type": "markdown",
   "id": "2ac578da",
   "metadata": {},
   "source": [
    "### Scale data"
   ]
  },
  {
   "cell_type": "code",
   "execution_count": 5,
   "id": "c8d60a8f",
   "metadata": {},
   "outputs": [],
   "source": [
    "X_train_full = trian_img_raw / 255.\n",
    "X_test = test_img_raw / 255."
   ]
  },
  {
   "cell_type": "markdown",
   "id": "d1d0b29e",
   "metadata": {},
   "source": [
    "### View all labels"
   ]
  },
  {
   "cell_type": "code",
   "execution_count": 6,
   "id": "db76f2d0",
   "metadata": {},
   "outputs": [
    {
     "name": "stdout",
     "output_type": "stream",
     "text": [
      "[ 0.  1.  2.  3.  4.  5.  6.  7.  8.  9. 10. 11. 12. 13. 14. 15. 16. 17.\n",
      " 18. 19. 20. 21. 22. 23. 24. 25. 26. 27. 28. 29. 30. 31. 32. 33. 34. 35.\n",
      " 36. 37. 38. 39. 40. 41. 42. 43. 44. 45. 46. 47. 48. 49. 50. 51. 52. 53.\n",
      " 54. 55. 56. 57. 58. 59. 60. 61.]\n"
     ]
    }
   ],
   "source": [
    "print(np.unique(train_lab_raw))"
   ]
  },
  {
   "cell_type": "markdown",
   "id": "ed770094",
   "metadata": {},
   "source": [
    "### Split training set into training set and validation set"
   ]
  },
  {
   "cell_type": "code",
   "execution_count": 7,
   "id": "a976dd5b",
   "metadata": {},
   "outputs": [
    {
     "name": "stdout",
     "output_type": "stream",
     "text": [
      "Shape of X_train: (628138, 28, 28)\n"
     ]
    }
   ],
   "source": [
    "X_train, X_valid, y_train, y_valid = train_test_split(X_train_full, train_lab_raw, train_size=0.9)\n",
    "\n",
    "print(f\"Shape of X_train: {X_train.shape}\")"
   ]
  },
  {
   "cell_type": "code",
   "execution_count": 8,
   "id": "2d4de6ef",
   "metadata": {},
   "outputs": [
    {
     "name": "stdout",
     "output_type": "stream",
     "text": [
      "Shape of X_train: (628138, 28, 28, 1)\n",
      "Shape of X_valid: (69794, 28, 28, 1)\n",
      "Shape of y_train: (628138,)\n",
      "Shape of y_valid: (69794,)\n"
     ]
    }
   ],
   "source": [
    "X_train = np.expand_dims(X_train, -1)\n",
    "X_valid = np.expand_dims(X_valid, -1)\n",
    "print(f\"Shape of X_train: {X_train.shape}\")\n",
    "print(f\"Shape of X_valid: {X_valid.shape}\")\n",
    "print(f\"Shape of y_train: {y_train.shape}\")\n",
    "print(f\"Shape of y_valid: {y_valid.shape}\")"
   ]
  },
  {
   "cell_type": "markdown",
   "id": "9559dd5b",
   "metadata": {},
   "source": [
    "## VGG model using Keras"
   ]
  },
  {
   "cell_type": "code",
   "execution_count": 9,
   "id": "c8e6944e",
   "metadata": {},
   "outputs": [],
   "source": [
    "import keras,os\n",
    "from keras.models import Sequential\n",
    "from keras.layers import Dense, Conv2D, MaxPooling2D , Flatten, Dropout, ZeroPadding2D\n",
    "from keras.preprocessing.image import ImageDataGenerator\n",
    "import numpy as np"
   ]
  },
  {
   "cell_type": "markdown",
   "id": "8ebc1983",
   "metadata": {},
   "source": [
    "### Tuning model layers and neurons"
   ]
  },
  {
   "cell_type": "markdown",
   "id": "5387593a",
   "metadata": {},
   "source": [
    "### VGG - two layers - neurons: 16,32"
   ]
  },
  {
   "cell_type": "code",
   "execution_count": 52,
   "id": "28ab90f8",
   "metadata": {},
   "outputs": [
    {
     "name": "stdout",
     "output_type": "stream",
     "text": [
      "Model: \"sequential_8\"\n",
      "_________________________________________________________________\n",
      "Layer (type)                 Output Shape              Param #   \n",
      "=================================================================\n",
      "conv2d_20 (Conv2D)           (None, 26, 26, 16)        160       \n",
      "_________________________________________________________________\n",
      "max_pooling2d_19 (MaxPooling (None, 13, 13, 16)        0         \n",
      "_________________________________________________________________\n",
      "conv2d_21 (Conv2D)           (None, 11, 11, 32)        4640      \n",
      "_________________________________________________________________\n",
      "max_pooling2d_20 (MaxPooling (None, 5, 5, 32)          0         \n",
      "_________________________________________________________________\n",
      "flatten_7 (Flatten)          (None, 800)               0         \n",
      "_________________________________________________________________\n",
      "dense_14 (Dense)             (None, 256)               205056    \n",
      "_________________________________________________________________\n",
      "dropout_7 (Dropout)          (None, 256)               0         \n",
      "_________________________________________________________________\n",
      "dense_15 (Dense)             (None, 62)                15934     \n",
      "=================================================================\n",
      "Total params: 225,790\n",
      "Trainable params: 225,790\n",
      "Non-trainable params: 0\n",
      "_________________________________________________________________\n"
     ]
    }
   ],
   "source": [
    "model_1 = Sequential()\n",
    "\n",
    "# layer_1\n",
    "model_1.add(Conv2D(16, (3, 3), strides=(1, 1), input_shape=(28, 28, 1)))\n",
    "model_1.add(MaxPooling2D(pool_size=(2, 2)))\n",
    "\n",
    "# layer_2\n",
    "model_1.add(Conv2D(32, (3, 3), activation='relu'))\n",
    "model_1.add(MaxPooling2D(pool_size=(2, 2)))\n",
    "\n",
    "#full connected layer\n",
    "model_1.add(Flatten())\n",
    "model_1.add(Dense(256, activation='relu'))\n",
    "model_1.add(Dropout(0.5))\n",
    "model_1.add(Dense(62, activation='softmax'))\n",
    "\n",
    "model_1.summary()"
   ]
  },
  {
   "cell_type": "code",
   "execution_count": 53,
   "id": "100b0ebc",
   "metadata": {},
   "outputs": [],
   "source": [
    "model_1.compile(loss='sparse_categorical_crossentropy',\n",
    "              optimizer=\"sgd\",\n",
    "              metrics=['accuracy'])"
   ]
  },
  {
   "cell_type": "code",
   "execution_count": 55,
   "id": "ec39a1b7",
   "metadata": {},
   "outputs": [
    {
     "name": "stdout",
     "output_type": "stream",
     "text": [
      "Epoch 1/5\n",
      "4908/4908 [==============================] - 52s 10ms/step - loss: 1.4904 - accuracy: 0.6029 - val_loss: 0.7288 - val_accuracy: 0.7718\n",
      "Epoch 2/5\n",
      "4908/4908 [==============================] - 51s 10ms/step - loss: 0.8283 - accuracy: 0.7467 - val_loss: 0.5873 - val_accuracy: 0.8061\n",
      "Epoch 3/5\n",
      "4908/4908 [==============================] - 52s 11ms/step - loss: 0.7027 - accuracy: 0.7775 - val_loss: 0.5329 - val_accuracy: 0.8195\n",
      "Epoch 4/5\n",
      "4908/4908 [==============================] - 57s 12ms/step - loss: 0.6441 - accuracy: 0.7924 - val_loss: 0.5042 - val_accuracy: 0.8275\n",
      "Epoch 5/5\n",
      "4908/4908 [==============================] - 61s 12ms/step - loss: 0.6086 - accuracy: 0.8016 - val_loss: 0.4851 - val_accuracy: 0.8319\n"
     ]
    }
   ],
   "source": [
    "batch_size = 128\n",
    "epochs = 5\n",
    "history_1 = model_1.fit(X_train, y_train, batch_size=batch_size,\n",
    "                    epochs=epochs, validation_data=(X_valid, y_valid))"
   ]
  },
  {
   "cell_type": "code",
   "execution_count": 56,
   "id": "a1ad998a",
   "metadata": {},
   "outputs": [
    {
     "data": {
      "image/png": "[encoded data removed]",
      "text/plain": [
       "<Figure size 576x360 with 1 Axes>"
      ]
     },
     "metadata": {
      "needs_background": "light"
     },
     "output_type": "display_data"
    }
   ],
   "source": [
    "import pandas as pd\n",
    "accuracies_1 = pd.DataFrame(history_1.history)[['accuracy','val_accuracy']]\n",
    "\n",
    "accuracies_1.plot(figsize=(8,5))\n",
    "plt.grid(True)\n",
    "plt.gca().set_ylim(0.4,0.9)\n",
    "plt.xlabel('Epoch')\n",
    "plt.show()"
   ]
  },
  {
   "cell_type": "code",
   "execution_count": 57,
   "id": "b7525f2c",
   "metadata": {},
   "outputs": [
    {
     "name": "stdout",
     "output_type": "stream",
     "text": [
      "VGG with two layers 32 and 64\n",
      "   accuracy  val_accuracy\n",
      "0  0.602931      0.771757\n",
      "1  0.746731      0.806144\n",
      "2  0.777465      0.819540\n",
      "3  0.792380      0.827507\n",
      "4  0.801566      0.831934\n"
     ]
    }
   ],
   "source": [
    "print(\"VGG with two layers 32 and 64\")\n",
    "print(accuracies_1)"
   ]
  },
  {
   "cell_type": "markdown",
   "id": "844878fb",
   "metadata": {},
   "source": [
    "### VGG - two layers - neurons: 32,64"
   ]
  },
  {
   "cell_type": "code",
   "execution_count": 20,
   "id": "15cf75dd",
   "metadata": {},
   "outputs": [
    {
     "name": "stdout",
     "output_type": "stream",
     "text": [
      "Model: \"sequential_3\"\n",
      "_________________________________________________________________\n",
      "Layer (type)                 Output Shape              Param #   \n",
      "=================================================================\n",
      "conv2d_6 (Conv2D)            (None, 26, 26, 32)        320       \n",
      "_________________________________________________________________\n",
      "max_pooling2d_6 (MaxPooling2 (None, 13, 13, 32)        0         \n",
      "_________________________________________________________________\n",
      "conv2d_7 (Conv2D)            (None, 11, 11, 64)        18496     \n",
      "_________________________________________________________________\n",
      "max_pooling2d_7 (MaxPooling2 (None, 5, 5, 64)          0         \n",
      "_________________________________________________________________\n",
      "flatten_3 (Flatten)          (None, 1600)              0         \n",
      "_________________________________________________________________\n",
      "dense_6 (Dense)              (None, 256)               409856    \n",
      "_________________________________________________________________\n",
      "dropout_3 (Dropout)          (None, 256)               0         \n",
      "_________________________________________________________________\n",
      "dense_7 (Dense)              (None, 62)                15934     \n",
      "=================================================================\n",
      "Total params: 444,606\n",
      "Trainable params: 444,606\n",
      "Non-trainable params: 0\n",
      "_________________________________________________________________\n"
     ]
    }
   ],
   "source": [
    "model_2 = Sequential()\n",
    "\n",
    "# layer_1\n",
    "model_2.add(Conv2D(32, (3, 3), strides=(1, 1), input_shape=(28, 28, 1)))\n",
    "model_2.add(MaxPooling2D(pool_size=(2, 2)))\n",
    "\n",
    "# layer_2\n",
    "model_2.add(Conv2D(64, (3, 3), activation='relu'))\n",
    "model_2.add(MaxPooling2D(pool_size=(2, 2)))\n",
    "\n",
    "#full connected layer\n",
    "model_2.add(Flatten())\n",
    "model_2.add(Dense(256, activation='relu'))\n",
    "model_2.add(Dropout(0.5))\n",
    "model_2.add(Dense(62, activation='softmax'))\n",
    "\n",
    "model_2.summary()"
   ]
  },
  {
   "cell_type": "code",
   "execution_count": 21,
   "id": "b5cbe875",
   "metadata": {},
   "outputs": [],
   "source": [
    "model_2.compile(loss='sparse_categorical_crossentropy',\n",
    "              optimizer=\"sgd\",\n",
    "              metrics=['accuracy'])"
   ]
  },
  {
   "cell_type": "code",
   "execution_count": 23,
   "id": "b3edab24",
   "metadata": {},
   "outputs": [
    {
     "name": "stdout",
     "output_type": "stream",
     "text": [
      "Epoch 1/5\n",
      "4908/4908 [==============================] - 115s 23ms/step - loss: 1.4574 - accuracy: 0.6119 - val_loss: 0.7130 - val_accuracy: 0.7777\n",
      "Epoch 2/5\n",
      "4908/4908 [==============================] - 131s 27ms/step - loss: 0.7881 - accuracy: 0.7572 - val_loss: 0.5649 - val_accuracy: 0.8120\n",
      "Epoch 3/5\n",
      "4908/4908 [==============================] - 132s 27ms/step - loss: 0.6688 - accuracy: 0.7863 - val_loss: 0.5141 - val_accuracy: 0.8248\n",
      "Epoch 4/5\n",
      "4908/4908 [==============================] - 137s 28ms/step - loss: 0.6135 - accuracy: 0.8001 - val_loss: 0.4877 - val_accuracy: 0.8311\n",
      "Epoch 5/5\n",
      "4908/4908 [==============================] - 126s 26ms/step - loss: 0.5802 - accuracy: 0.8088 - val_loss: 0.4709 - val_accuracy: 0.8356\n"
     ]
    }
   ],
   "source": [
    "batch_size = 128\n",
    "epochs = 5\n",
    "history_2 = model_2.fit(X_train, y_train, batch_size=batch_size,\n",
    "                    epochs=epochs, validation_data=(X_valid, y_valid))"
   ]
  },
  {
   "cell_type": "code",
   "execution_count": 39,
   "id": "56bd3d7a",
   "metadata": {},
   "outputs": [
    {
     "data": {
      "image/png": "[encoded data removed]",
      "text/plain": [
       "<Figure size 576x360 with 1 Axes>"
      ]
     },
     "metadata": {
      "needs_background": "light"
     },
     "output_type": "display_data"
    }
   ],
   "source": [
    "accuracies_2 = pd.DataFrame(history_2.history)[['accuracy','val_accuracy']]\n",
    "\n",
    "accuracies_2.plot(figsize=(8,5))\n",
    "plt.grid(True)\n",
    "plt.gca().set_ylim(0.4,0.9)\n",
    "plt.xlabel('Epoch')\n",
    "plt.show()"
   ]
  },
  {
   "cell_type": "code",
   "execution_count": 43,
   "id": "5643841c",
   "metadata": {},
   "outputs": [
    {
     "name": "stdout",
     "output_type": "stream",
     "text": [
      "VGG with two layers 32 and 64\n",
      "   accuracy  val_accuracy\n",
      "0  0.611910      0.777689\n",
      "1  0.757243      0.812047\n",
      "2  0.786264      0.824827\n",
      "3  0.800066      0.831146\n",
      "4  0.808808      0.835573\n"
     ]
    }
   ],
   "source": [
    "print(\"VGG with two layers 32 and 64\")\n",
    "print(accuracies_2)"
   ]
  },
  {
   "cell_type": "markdown",
   "id": "996924fa",
   "metadata": {},
   "source": [
    "### VGG - two layers - neurons: 64,128"
   ]
  },
  {
   "cell_type": "code",
   "execution_count": 47,
   "id": "9c9a0af6",
   "metadata": {},
   "outputs": [
    {
     "name": "stdout",
     "output_type": "stream",
     "text": [
      "Model: \"sequential_7\"\n",
      "_________________________________________________________________\n",
      "Layer (type)                 Output Shape              Param #   \n",
      "=================================================================\n",
      "conv2d_18 (Conv2D)           (None, 26, 26, 64)        640       \n",
      "_________________________________________________________________\n",
      "max_pooling2d_17 (MaxPooling (None, 13, 13, 64)        0         \n",
      "_________________________________________________________________\n",
      "conv2d_19 (Conv2D)           (None, 11, 11, 128)       73856     \n",
      "_________________________________________________________________\n",
      "max_pooling2d_18 (MaxPooling (None, 5, 5, 128)         0         \n",
      "_________________________________________________________________\n",
      "flatten_6 (Flatten)          (None, 3200)              0         \n",
      "_________________________________________________________________\n",
      "dense_12 (Dense)             (None, 256)               819456    \n",
      "_________________________________________________________________\n",
      "dropout_6 (Dropout)          (None, 256)               0         \n",
      "_________________________________________________________________\n",
      "dense_13 (Dense)             (None, 62)                15934     \n",
      "=================================================================\n",
      "Total params: 909,886\n",
      "Trainable params: 909,886\n",
      "Non-trainable params: 0\n",
      "_________________________________________________________________\n"
     ]
    }
   ],
   "source": [
    "model_3 = Sequential()\n",
    "\n",
    "# layer_1\n",
    "model_3.add(Conv2D(64, (3, 3), strides=(1, 1), input_shape=(28, 28, 1)))\n",
    "model_3.add(MaxPooling2D(pool_size=(2, 2)))\n",
    "\n",
    "# layer_2\n",
    "model_3.add(Conv2D(128, (3, 3), activation='relu'))\n",
    "model_3.add(MaxPooling2D(pool_size=(2, 2)))\n",
    "\n",
    "#full connected layer\n",
    "model_3.add(Flatten())\n",
    "model_3.add(Dense(256, activation='relu'))\n",
    "model_3.add(Dropout(0.5))\n",
    "model_3.add(Dense(62, activation='softmax'))\n",
    "\n",
    "model_3.summary()"
   ]
  },
  {
   "cell_type": "code",
   "execution_count": 48,
   "id": "65ec5fff",
   "metadata": {},
   "outputs": [],
   "source": [
    "model_3.compile(loss='sparse_categorical_crossentropy',\n",
    "              optimizer=\"sgd\",\n",
    "              metrics=['accuracy'])"
   ]
  },
  {
   "cell_type": "code",
   "execution_count": 18,
   "id": "f9feaeb1",
   "metadata": {},
   "outputs": [
    {
     "name": "stdout",
     "output_type": "stream",
     "text": [
      "Epoch 1/5\n",
      "4908/4908 [==============================] - 373s 76ms/step - loss: 1.4250 - accuracy: 0.6176 - val_loss: 0.6951 - val_accuracy: 0.7818\n",
      "Epoch 2/5\n",
      "4908/4908 [==============================] - 372s 76ms/step - loss: 0.7642 - accuracy: 0.7632 - val_loss: 0.5541 - val_accuracy: 0.8146cur - ETA: 42s - loss: 0.7734 - accuracy: 0.76 - ET - ETA: 39s - loss: 0.7727 - ETA: 38s - l - ETA: 36s - loss: 0.772 - ETA: 34 - ETA: 32s - loss: 0.7 - ETA: 30 - ETA: 27s - loss: 0.7701 - accuracy: 0.76 - ETA: 27s - loss: 0.7700 - accurac - ETA: 27s - loss: 0.7699 - accuracy: 0. - ETA: 26s - loss: 0.7698 - acc - ETA: 25s -  - ETA: 23s - los - ETA: 21s - loss: 0.7686 - accuracy: 0 - ETA: 21s - loss: 0.7685 - accuracy: 0.7 - ETA: 20s - ETA: 15s - loss: 0.7673 - accuracy: 0.76 - ETA: 15s - loss: 0. - ETA: 8s - loss: 0.7659 - accuracy: 0. - ETA: 8s - loss: 0.7659 - accura - ETA: 7s - loss: 0.7659 - accuracy:  - ETA: 7s - loss: 0.7 - E - ETA: 5s - loss: - ETA: 4s - loss: 0.7651 -  - ETA: 3s - ETA - ETA: 1s -\n",
      "Epoch 3/5\n",
      "4908/4908 [==============================] - 389s 79ms/step - loss: 0.6468 - accuracy: 0.7925 - val_loss: 0.4984 - val_accuracy: 0.8296\n",
      "Epoch 4/5\n",
      "4908/4908 [==============================] - 378s 77ms/step - loss: 0.5936 - accuracy: 0.8058 - val_loss: 0.4747 - val_accuracy: 0.8361\n",
      "Epoch 5/5\n",
      "4908/4908 [==============================] - 386s 79ms/step - loss: 0.5611 - accuracy: 0.8145 - val_loss: 0.4589 - val_accuracy: 0.8403\n"
     ]
    }
   ],
   "source": [
    "batch_size = 128\n",
    "epochs = 5\n",
    "history_3 = model_3.fit(X_train, y_train, batch_size=batch_size,\n",
    "                    epochs=epochs, validation_data=(X_valid, y_valid))"
   ]
  },
  {
   "cell_type": "code",
   "execution_count": 38,
   "id": "a9ade9f9",
   "metadata": {},
   "outputs": [
    {
     "data": {
      "image/png": "[encoded data removed]",
      "text/plain": [
       "<Figure size 576x432 with 1 Axes>"
      ]
     },
     "metadata": {
      "needs_background": "light"
     },
     "output_type": "display_data"
    }
   ],
   "source": [
    "accuracies_3 = pd.DataFrame(history_3.history)[['accuracy','val_accuracy']]\n",
    "\n",
    "accuracies_3.plot(figsize=(8,6))\n",
    "plt.grid(True)\n",
    "plt.gca().set_ylim(0.4,0.9)\n",
    "plt.xlabel('Epoch')\n",
    "plt.show()"
   ]
  },
  {
   "cell_type": "code",
   "execution_count": 44,
   "id": "12cd8683",
   "metadata": {},
   "outputs": [
    {
     "name": "stdout",
     "output_type": "stream",
     "text": [
      "VGG with two layers 64 and 128\n",
      "   accuracy  val_accuracy\n",
      "0  0.617627      0.781772\n",
      "1  0.763234      0.814583\n",
      "2  0.792463      0.829627\n",
      "3  0.805777      0.836075\n",
      "4  0.814469      0.840258\n"
     ]
    }
   ],
   "source": [
    "print(\"VGG with two layers 64 and 128\")\n",
    "print(accuracies_3)"
   ]
  },
  {
   "cell_type": "markdown",
   "id": "03dc6c64",
   "metadata": {},
   "source": [
    "### Compare: neurons of two layers"
   ]
  },
  {
   "cell_type": "code",
   "execution_count": 81,
   "id": "c4ddfc8c",
   "metadata": {},
   "outputs": [
    {
     "data": {
      "image/png": "[encoded data removed]",
      "text/plain": [
       "<Figure size 432x288 with 1 Axes>"
      ]
     },
     "metadata": {
      "needs_background": "light"
     },
     "output_type": "display_data"
    }
   ],
   "source": [
    "plt.plot(history_1.history['val_accuracy'],label = \"model_1 (16,32)\")\n",
    "plt.plot(history_2.history['val_accuracy'],label = \"model_2 (32,64)\")\n",
    "plt.plot(history_3.history['val_accuracy'],label = \"model_3 (64,128)\")\n",
    "plt.title(\"val_accuracy\")\n",
    "plt.legend()\n",
    "plt.show()\n"
   ]
  },
  {
   "cell_type": "code",
   "execution_count": 80,
   "id": "cb056e3d",
   "metadata": {},
   "outputs": [
    {
     "data": {
      "image/png": "[encoded data removed]",
      "text/plain": [
       "<Figure size 432x288 with 1 Axes>"
      ]
     },
     "metadata": {
      "needs_background": "light"
     },
     "output_type": "display_data"
    }
   ],
   "source": [
    "plt.plot(history_1.history['accuracy'],label = \"model_1 (16,32)\")\n",
    "plt.plot(history_2.history['accuracy'],label = \"model_2 (32,64)\")\n",
    "plt.plot(history_3.history['accuracy'],label = \"model_3 (64,128)\")\n",
    "plt.title(\"accuracy\")\n",
    "plt.legend()\n",
    "plt.show()\n"
   ]
  },
  {
   "cell_type": "markdown",
   "id": "1f725e90",
   "metadata": {},
   "source": [
    "### The best number of neurons in two layers model is 64,128.   "
   ]
  },
  {
   "cell_type": "markdown",
   "id": "e5a1c789",
   "metadata": {},
   "source": [
    "### VGG - three layers - neurons: 64,128,256"
   ]
  },
  {
   "cell_type": "code",
   "execution_count": 9,
   "id": "6f964f3d",
   "metadata": {},
   "outputs": [
    {
     "name": "stdout",
     "output_type": "stream",
     "text": [
      "Model: \"sequential\"\n",
      "_________________________________________________________________\n",
      "Layer (type)                 Output Shape              Param #   \n",
      "=================================================================\n",
      "conv2d (Conv2D)              (None, 26, 26, 64)        640       \n",
      "_________________________________________________________________\n",
      "max_pooling2d (MaxPooling2D) (None, 13, 13, 64)        0         \n",
      "_________________________________________________________________\n",
      "conv2d_1 (Conv2D)            (None, 11, 11, 128)       73856     \n",
      "_________________________________________________________________\n",
      "max_pooling2d_1 (MaxPooling2 (None, 5, 5, 128)         0         \n",
      "_________________________________________________________________\n",
      "conv2d_2 (Conv2D)            (None, 3, 3, 256)         295168    \n",
      "_________________________________________________________________\n",
      "max_pooling2d_2 (MaxPooling2 (None, 1, 1, 256)         0         \n",
      "_________________________________________________________________\n",
      "flatten (Flatten)            (None, 256)               0         \n",
      "_________________________________________________________________\n",
      "dense (Dense)                (None, 256)               65792     \n",
      "_________________________________________________________________\n",
      "dropout (Dropout)            (None, 256)               0         \n",
      "_________________________________________________________________\n",
      "dense_1 (Dense)              (None, 62)                15934     \n",
      "=================================================================\n",
      "Total params: 451,390\n",
      "Trainable params: 451,390\n",
      "Non-trainable params: 0\n",
      "_________________________________________________________________\n"
     ]
    }
   ],
   "source": [
    "model_4 = Sequential()\n",
    "\n",
    "# layer_1\n",
    "model_4.add(Conv2D(64, (3, 3), strides=(1, 1), input_shape=(28, 28, 1)))\n",
    "model_4.add(MaxPooling2D(pool_size=(2, 2)))\n",
    "\n",
    "# layer_2\n",
    "model_4.add(Conv2D(128, (3, 3), activation='relu'))\n",
    "model_4.add(MaxPooling2D(pool_size=(2, 2)))\n",
    "\n",
    "# layer_3\n",
    "model_4.add(Conv2D(256, (3, 3), activation='relu'))\n",
    "model_4.add(MaxPooling2D(pool_size=(2, 2)))\n",
    "\n",
    "#full connected layer\n",
    "model_4.add(Flatten())\n",
    "model_4.add(Dense(256, activation='relu'))\n",
    "model_4.add(Dropout(0.5))\n",
    "model_4.add(Dense(62, activation='softmax'))\n",
    "\n",
    "model_4.summary()"
   ]
  },
  {
   "cell_type": "code",
   "execution_count": 10,
   "id": "23f27107",
   "metadata": {},
   "outputs": [],
   "source": [
    "model_4.compile(loss='sparse_categorical_crossentropy',\n",
    "              optimizer=\"sgd\",\n",
    "              metrics=['accuracy'])"
   ]
  },
  {
   "cell_type": "code",
   "execution_count": 11,
   "id": "4c967ae4",
   "metadata": {},
   "outputs": [
    {
     "name": "stdout",
     "output_type": "stream",
     "text": [
      "Epoch 1/5\n",
      "4908/4908 [==============================] - 438s 89ms/step - loss: 1.8002 - accuracy: 0.5288 - val_loss: 0.8816 - val_accuracy: 0.7258\n",
      "Epoch 2/5\n",
      "4908/4908 [==============================] - 425s 87ms/step - loss: 0.9090 - accuracy: 0.7195 - val_loss: 0.6899 - val_accuracy: 0.7734\n",
      "Epoch 3/5\n",
      "4908/4908 [==============================] - 419s 85ms/step - loss: 0.7572 - accuracy: 0.7572 - val_loss: 0.6093 - val_accuracy: 0.7971\n",
      "Epoch 4/5\n",
      "4908/4908 [==============================] - 414s 84ms/step - loss: 0.6866 - accuracy: 0.7762 - val_loss: 0.5663 - val_accuracy: 0.8100\n",
      "Epoch 5/5\n",
      "4908/4908 [==============================] - 417s 85ms/step - loss: 0.6445 - accuracy: 0.7877 - val_loss: 0.5438 - val_accuracy: 0.8153\n"
     ]
    }
   ],
   "source": [
    "batch_size = 128\n",
    "epochs = 5\n",
    "history_4 = model_4.fit(X_train, y_train, batch_size=batch_size,\n",
    "                    epochs=epochs, validation_data=(X_valid, y_valid))"
   ]
  },
  {
   "cell_type": "code",
   "execution_count": 12,
   "id": "ef111dc7",
   "metadata": {},
   "outputs": [
    {
     "data": {
      "image/png": "[encoded data removed]",
      "text/plain": [
       "<Figure size 576x432 with 1 Axes>"
      ]
     },
     "metadata": {
      "needs_background": "light"
     },
     "output_type": "display_data"
    }
   ],
   "source": [
    "accuracies_4 = pd.DataFrame(history_4.history)[['accuracy','val_accuracy']]\n",
    "\n",
    "accuracies_4.plot(figsize=(8,6))\n",
    "plt.grid(True)\n",
    "plt.gca().set_ylim(0.4,0.9)\n",
    "plt.xlabel('Epoch')\n",
    "plt.show()"
   ]
  },
  {
   "cell_type": "code",
   "execution_count": 20,
   "id": "32df6c60",
   "metadata": {},
   "outputs": [
    {
     "name": "stdout",
     "output_type": "stream",
     "text": [
      "VGG with three layers 64,128,256\n",
      "   accuracy  val_accuracy\n",
      "0  0.528777      0.725793\n",
      "1  0.719482      0.773390\n",
      "2  0.757163      0.797146\n",
      "3  0.776218      0.809984\n",
      "4  0.787725      0.815285\n"
     ]
    }
   ],
   "source": [
    "print(\"VGG with three layers 64,128,256\")\n",
    "print(accuracies_4)"
   ]
  },
  {
   "cell_type": "markdown",
   "id": "b56f2064",
   "metadata": {},
   "source": [
    "### VGG - four layers - neurons: 64,128,256,256"
   ]
  },
  {
   "cell_type": "code",
   "execution_count": 31,
   "id": "a7339028",
   "metadata": {},
   "outputs": [
    {
     "name": "stdout",
     "output_type": "stream",
     "text": [
      "Model: \"sequential_4\"\n",
      "_________________________________________________________________\n",
      "Layer (type)                 Output Shape              Param #   \n",
      "=================================================================\n",
      "conv2d_15 (Conv2D)           (None, 28, 28, 64)        640       \n",
      "_________________________________________________________________\n",
      "max_pooling2d_12 (MaxPooling (None, 14, 14, 64)        0         \n",
      "_________________________________________________________________\n",
      "conv2d_16 (Conv2D)           (None, 14, 14, 128)       73856     \n",
      "_________________________________________________________________\n",
      "max_pooling2d_13 (MaxPooling (None, 7, 7, 128)         0         \n",
      "_________________________________________________________________\n",
      "conv2d_17 (Conv2D)           (None, 7, 7, 256)         295168    \n",
      "_________________________________________________________________\n",
      "max_pooling2d_14 (MaxPooling (None, 4, 4, 256)         0         \n",
      "_________________________________________________________________\n",
      "conv2d_18 (Conv2D)           (None, 4, 4, 256)         590080    \n",
      "_________________________________________________________________\n",
      "max_pooling2d_15 (MaxPooling (None, 2, 2, 256)         0         \n",
      "_________________________________________________________________\n",
      "flatten_1 (Flatten)          (None, 1024)              0         \n",
      "_________________________________________________________________\n",
      "dense_2 (Dense)              (None, 256)               262400    \n",
      "_________________________________________________________________\n",
      "dropout_1 (Dropout)          (None, 256)               0         \n",
      "_________________________________________________________________\n",
      "dense_3 (Dense)              (None, 62)                15934     \n",
      "=================================================================\n",
      "Total params: 1,238,078\n",
      "Trainable params: 1,238,078\n",
      "Non-trainable params: 0\n",
      "_________________________________________________________________\n"
     ]
    }
   ],
   "source": [
    "model_5 = Sequential()\n",
    "\n",
    "# layer_1\n",
    "model_5.add(Conv2D(64, (3, 3), strides=(1, 1), input_shape=(28, 28, 1), padding='same'))\n",
    "model_5.add(MaxPooling2D(pool_size=(2, 2), padding = 'same'))\n",
    "\n",
    "# layer_2\n",
    "model_5.add(Conv2D(128, (3, 3), activation='relu', padding='same'))\n",
    "model_5.add(MaxPooling2D(pool_size=(2, 2), padding = 'same'))\n",
    "\n",
    "# layer_3\n",
    "model_5.add(Conv2D(256, (3, 3), activation='relu', padding='same'))\n",
    "model_5.add(MaxPooling2D(pool_size=(2, 2), padding = 'same'))\n",
    "\n",
    "# layer_4\n",
    "model_5.add(Conv2D(256, (3, 3), activation='relu', padding='same'))\n",
    "model_5.add(MaxPooling2D(pool_size=(2, 2), padding = 'same'))\n",
    "\n",
    "#full connected layer\n",
    "model_5.add(Flatten())\n",
    "model_5.add(Dense(256, activation='relu'))\n",
    "model_5.add(Dropout(0.5))\n",
    "model_5.add(Dense(62, activation='softmax'))\n",
    "\n",
    "model_5.summary()"
   ]
  },
  {
   "cell_type": "code",
   "execution_count": 32,
   "id": "9d34f616",
   "metadata": {},
   "outputs": [],
   "source": [
    "model_5.compile(loss='sparse_categorical_crossentropy',\n",
    "              optimizer=\"sgd\",\n",
    "              metrics=['accuracy'])"
   ]
  },
  {
   "cell_type": "code",
   "execution_count": 33,
   "id": "09609dc8",
   "metadata": {},
   "outputs": [
    {
     "name": "stdout",
     "output_type": "stream",
     "text": [
      "Epoch 1/5\n",
      "4908/4908 [==============================] - 1166s 237ms/step - loss: 1.3456 - accuracy: 0.6363 - val_loss: 0.6104 - val_accuracy: 0.7963\n",
      "Epoch 2/5\n",
      "4908/4908 [==============================] - 1209s 246ms/step - loss: 0.6256 - accuracy: 0.7968 - val_loss: 0.4893 - val_accuracy: 0.8298\n",
      "Epoch 3/5\n",
      "4908/4908 [==============================] - 1242s 253ms/step - loss: 0.5401 - accuracy: 0.8189 - val_loss: 0.4558 - val_accuracy: 0.8398\n",
      "Epoch 4/5\n",
      "4908/4908 [==============================] - 1197s 244ms/step - loss: 0.4992 - accuracy: 0.8299 - val_loss: 0.4318 - val_accuracy: 0.8450\n",
      "Epoch 5/5\n",
      "4908/4908 [==============================] - 1128s 230ms/step - loss: 0.4726 - accuracy: 0.8367 - val_loss: 0.4170 - val_accuracy: 0.8507\n"
     ]
    }
   ],
   "source": [
    "batch_size = 128\n",
    "epochs = 5\n",
    "history_5 = model_5.fit(X_train, y_train, batch_size=batch_size,\n",
    "                    epochs=epochs, validation_data=(X_valid, y_valid))"
   ]
  },
  {
   "cell_type": "code",
   "execution_count": 41,
   "id": "29c5c783",
   "metadata": {},
   "outputs": [
    {
     "data": {
      "image/png": "[encoded data removed]",
      "text/plain": [
       "<Figure size 576x432 with 1 Axes>"
      ]
     },
     "metadata": {
      "needs_background": "light"
     },
     "output_type": "display_data"
    }
   ],
   "source": [
    "accuracies_5 = pd.DataFrame(history_5.history)[['accuracy','val_accuracy']]\n",
    "\n",
    "accuracies_5.plot(figsize=(8,6))\n",
    "plt.grid(True)\n",
    "plt.gca().set_ylim(0.4,0.9)\n",
    "plt.xlabel('Epoch')\n",
    "plt.show()"
   ]
  },
  {
   "cell_type": "code",
   "execution_count": 42,
   "id": "061bc625",
   "metadata": {},
   "outputs": [
    {
     "name": "stdout",
     "output_type": "stream",
     "text": [
      "VGG with three layers 64,128,256\n",
      "   accuracy  val_accuracy\n",
      "0  0.636285      0.796301\n",
      "1  0.796760      0.829756\n",
      "2  0.818861      0.839814\n",
      "3  0.829865      0.845030\n",
      "4  0.836746      0.850718\n"
     ]
    }
   ],
   "source": [
    "print(\"VGG with three layers 64,128,256\")\n",
    "print(accuracies_5)"
   ]
  },
  {
   "cell_type": "markdown",
   "id": "061e2177",
   "metadata": {},
   "source": [
    "### Compare:  2 or 3 layers"
   ]
  },
  {
   "cell_type": "code",
   "execution_count": 38,
   "id": "9603db79",
   "metadata": {},
   "outputs": [
    {
     "data": {
      "image/png": "[encoded data removed]",
      "text/plain": [
       "<Figure size 432x288 with 1 Axes>"
      ]
     },
     "metadata": {
      "needs_background": "light"
     },
     "output_type": "display_data"
    }
   ],
   "source": [
    "plt.plot(history_4.history['val_accuracy'],label = \"model_4 (64,125,256)\")\n",
    "plt.plot(history_5.history['val_accuracy'],label = \"model_5 (64,128,256,256)\")\n",
    "plt.title(\"val_accuracy\")\n",
    "plt.legend()\n",
    "plt.show()"
   ]
  },
  {
   "cell_type": "code",
   "execution_count": 39,
   "id": "7feb16a6",
   "metadata": {},
   "outputs": [
    {
     "data": {
      "image/png": "[encoded data removed]",
      "text/plain": [
       "<Figure size 432x288 with 1 Axes>"
      ]
     },
     "metadata": {
      "needs_background": "light"
     },
     "output_type": "display_data"
    }
   ],
   "source": [
    "plt.plot(history_4.history['accuracy'],label = \"model_4 (64,125,256)\")\n",
    "plt.plot(history_5.history['accuracy'],label = \"model_5 (64,128,256,256)\")\n",
    "plt.title(\"accuracy\")\n",
    "plt.legend()\n",
    "plt.show()"
   ]
  },
  {
   "cell_type": "markdown",
   "id": "78e6c5b7",
   "metadata": {},
   "source": [
    "#### Four-layer model is better than three-layer model."
   ]
  },
  {
   "cell_type": "markdown",
   "id": "18110b2a",
   "metadata": {},
   "source": [
    "### VGG - four layers - neurons: 64,128,256,512 (BEST)"
   ]
  },
  {
   "cell_type": "code",
   "execution_count": 16,
   "id": "913d76d2",
   "metadata": {},
   "outputs": [
    {
     "name": "stdout",
     "output_type": "stream",
     "text": [
      "Model: \"sequential_1\"\n",
      "_________________________________________________________________\n",
      "Layer (type)                 Output Shape              Param #   \n",
      "=================================================================\n",
      "conv2d_4 (Conv2D)            (None, 28, 28, 64)        640       \n",
      "_________________________________________________________________\n",
      "max_pooling2d_4 (MaxPooling2 (None, 14, 14, 64)        0         \n",
      "_________________________________________________________________\n",
      "conv2d_5 (Conv2D)            (None, 14, 14, 128)       73856     \n",
      "_________________________________________________________________\n",
      "max_pooling2d_5 (MaxPooling2 (None, 7, 7, 128)         0         \n",
      "_________________________________________________________________\n",
      "conv2d_6 (Conv2D)            (None, 7, 7, 256)         295168    \n",
      "_________________________________________________________________\n",
      "max_pooling2d_6 (MaxPooling2 (None, 4, 4, 256)         0         \n",
      "_________________________________________________________________\n",
      "conv2d_7 (Conv2D)            (None, 4, 4, 512)         1180160   \n",
      "_________________________________________________________________\n",
      "max_pooling2d_7 (MaxPooling2 (None, 2, 2, 512)         0         \n",
      "_________________________________________________________________\n",
      "flatten_1 (Flatten)          (None, 2048)              0         \n",
      "_________________________________________________________________\n",
      "dense_2 (Dense)              (None, 256)               524544    \n",
      "_________________________________________________________________\n",
      "dropout_1 (Dropout)          (None, 256)               0         \n",
      "_________________________________________________________________\n",
      "dense_3 (Dense)              (None, 62)                15934     \n",
      "=================================================================\n",
      "Total params: 2,090,302\n",
      "Trainable params: 2,090,302\n",
      "Non-trainable params: 0\n",
      "_________________________________________________________________\n"
     ]
    }
   ],
   "source": [
    "model_6 = Sequential()\n",
    "\n",
    "# layer_1\n",
    "model_6.add(Conv2D(64, (3, 3), strides=(1, 1), input_shape=(28, 28, 1), padding='same'))\n",
    "model_6.add(MaxPooling2D(pool_size=(2, 2), padding = 'same'))\n",
    "\n",
    "# layer_2\n",
    "model_6.add(Conv2D(128, (3, 3), activation='relu', padding='same'))\n",
    "model_6.add(MaxPooling2D(pool_size=(2, 2), padding = 'same'))\n",
    "\n",
    "# layer_3\n",
    "model_6.add(Conv2D(256, (3, 3), activation='relu', padding='same'))\n",
    "model_6.add(MaxPooling2D(pool_size=(2, 2), padding = 'same'))\n",
    "\n",
    "# layer_4\n",
    "model_6.add(Conv2D(512, (3, 3), activation='relu', padding='same'))\n",
    "model_6.add(MaxPooling2D(pool_size=(2, 2), padding = 'same'))\n",
    "\n",
    "#full connected layer\n",
    "model_6.add(Flatten())\n",
    "model_6.add(Dense(256, activation='relu'))\n",
    "model_6.add(Dropout(0.5))\n",
    "model_6.add(Dense(62, activation='softmax'))\n",
    "\n",
    "model_6.summary()"
   ]
  },
  {
   "cell_type": "code",
   "execution_count": 18,
   "id": "1c1e91a2",
   "metadata": {},
   "outputs": [],
   "source": [
    "model_6.compile(loss='sparse_categorical_crossentropy',\n",
    "              optimizer=\"sgd\",\n",
    "              metrics=['accuracy'])"
   ]
  },
  {
   "cell_type": "code",
   "execution_count": 45,
   "id": "2ebe92eb",
   "metadata": {},
   "outputs": [
    {
     "name": "stdout",
     "output_type": "stream",
     "text": [
      "Epoch 1/5\n",
      "4908/4908 [==============================] - 1385s 282ms/step - loss: 1.3429 - accuracy: 0.6361 - val_loss: 0.5673 - val_accuracy: 0.8107\n",
      "Epoch 2/5\n",
      "4908/4908 [==============================] - 1304s 266ms/step - loss: 0.6065 - accuracy: 0.8021 - val_loss: 0.4815 - val_accuracy: 0.8323\n",
      "Epoch 3/5\n",
      "4908/4908 [==============================] - 1305s 266ms/step - loss: 0.5237 - accuracy: 0.8233 - val_loss: 0.4427 - val_accuracy: 0.8421\n",
      "Epoch 4/5\n",
      "4908/4908 [==============================] - 1306s 266ms/step - loss: 0.4849 - accuracy: 0.8337 - val_loss: 0.4268 - val_accuracy: 0.8464\n",
      "Epoch 5/5\n",
      "4908/4908 [==============================] - 1315s 268ms/step - loss: 0.4603 - accuracy: 0.8406 - val_loss: 0.4096 - val_accuracy: 0.8524\n"
     ]
    }
   ],
   "source": [
    "batch_size = 128\n",
    "epochs = 5\n",
    "history_6 = model_6.fit(X_train, y_train, batch_size=batch_size,\n",
    "                    epochs=epochs, validation_data=(X_valid, y_valid))"
   ]
  },
  {
   "cell_type": "code",
   "execution_count": 47,
   "id": "59c1072e",
   "metadata": {},
   "outputs": [
    {
     "data": {
      "image/png": "[encoded data removed]",
      "text/plain": [
       "<Figure size 576x432 with 1 Axes>"
      ]
     },
     "metadata": {
      "needs_background": "light"
     },
     "output_type": "display_data"
    }
   ],
   "source": [
    "accuracies_6 = pd.DataFrame(history_6.history)[['accuracy','val_accuracy']]\n",
    "\n",
    "accuracies_6.plot(figsize=(8,6))\n",
    "plt.grid(True)\n",
    "plt.gca().set_ylim(0.4,0.9)\n",
    "plt.xlabel('Epoch')\n",
    "plt.show()"
   ]
  },
  {
   "cell_type": "code",
   "execution_count": 48,
   "id": "d4e4622e",
   "metadata": {},
   "outputs": [
    {
     "name": "stdout",
     "output_type": "stream",
     "text": [
      "VGG with three layers 64,128,256\n",
      "   accuracy  val_accuracy\n",
      "0  0.636064      0.810714\n",
      "1  0.802133      0.832307\n",
      "2  0.823268      0.842121\n",
      "3  0.833726      0.846362\n",
      "4  0.840615      0.852394\n"
     ]
    }
   ],
   "source": [
    "print(\"VGG with three layers 64,128,256，256\")\n",
    "print(accuracies_6)"
   ]
  },
  {
   "cell_type": "markdown",
   "id": "e3f86732",
   "metadata": {},
   "source": [
    "### Compare: neurons on the forth layer"
   ]
  },
  {
   "cell_type": "code",
   "execution_count": 49,
   "id": "df0c91d3",
   "metadata": {},
   "outputs": [
    {
     "data": {
      "image/png": "[encoded data removed]",
      "text/plain": [
       "<Figure size 432x288 with 1 Axes>"
      ]
     },
     "metadata": {
      "needs_background": "light"
     },
     "output_type": "display_data"
    }
   ],
   "source": [
    "plt.plot(history_5.history['val_accuracy'],label = \"model_5 (64,128,256,256)\")\n",
    "plt.plot(model_6.history['val_accuracy'],label = \"model_6 (64,128,256,512)\")\n",
    "plt.title(\"val_accuracy\")\n",
    "plt.legend()\n",
    "plt.show()"
   ]
  },
  {
   "cell_type": "code",
   "execution_count": 50,
   "id": "d7b5c332",
   "metadata": {},
   "outputs": [
    {
     "data": {
      "image/png": "[encoded data removed]",
      "text/plain": [
       "<Figure size 432x288 with 1 Axes>"
      ]
     },
     "metadata": {
      "needs_background": "light"
     },
     "output_type": "display_data"
    }
   ],
   "source": [
    "plt.plot(history_5.history['val_accuracy'],label = \"model_5 (64,125,256,256)\")\n",
    "plt.plot(model_6.history['val_accuracy'],label = \"model_6 (64,128,256,512)\")\n",
    "plt.title(\"val_accuracy\")\n",
    "plt.legend()\n",
    "plt.show()"
   ]
  },
  {
   "cell_type": "markdown",
   "id": "78377cd7",
   "metadata": {},
   "source": [
    "#### 512 on the forth layer is better than 256 on the forth layer."
   ]
  },
  {
   "cell_type": "markdown",
   "id": "f548c960",
   "metadata": {},
   "source": [
    "### VGG - four layers - neurons: 64,128,256,512,512"
   ]
  },
  {
   "cell_type": "code",
   "execution_count": 9,
   "id": "abb9e994",
   "metadata": {},
   "outputs": [
    {
     "name": "stdout",
     "output_type": "stream",
     "text": [
      "Model: \"sequential\"\n",
      "_________________________________________________________________\n",
      "Layer (type)                 Output Shape              Param #   \n",
      "=================================================================\n",
      "conv2d (Conv2D)              (None, 28, 28, 64)        640       \n",
      "_________________________________________________________________\n",
      "max_pooling2d (MaxPooling2D) (None, 14, 14, 64)        0         \n",
      "_________________________________________________________________\n",
      "conv2d_1 (Conv2D)            (None, 14, 14, 128)       73856     \n",
      "_________________________________________________________________\n",
      "max_pooling2d_1 (MaxPooling2 (None, 7, 7, 128)         0         \n",
      "_________________________________________________________________\n",
      "conv2d_2 (Conv2D)            (None, 7, 7, 256)         295168    \n",
      "_________________________________________________________________\n",
      "max_pooling2d_2 (MaxPooling2 (None, 4, 4, 256)         0         \n",
      "_________________________________________________________________\n",
      "conv2d_3 (Conv2D)            (None, 4, 4, 512)         1180160   \n",
      "_________________________________________________________________\n",
      "max_pooling2d_3 (MaxPooling2 (None, 2, 2, 512)         0         \n",
      "_________________________________________________________________\n",
      "conv2d_4 (Conv2D)            (None, 2, 2, 512)         2359808   \n",
      "_________________________________________________________________\n",
      "max_pooling2d_4 (MaxPooling2 (None, 1, 1, 512)         0         \n",
      "_________________________________________________________________\n",
      "flatten (Flatten)            (None, 512)               0         \n",
      "_________________________________________________________________\n",
      "dense (Dense)                (None, 256)               131328    \n",
      "_________________________________________________________________\n",
      "dropout (Dropout)            (None, 256)               0         \n",
      "_________________________________________________________________\n",
      "dense_1 (Dense)              (None, 62)                15934     \n",
      "=================================================================\n",
      "Total params: 4,056,894\n",
      "Trainable params: 4,056,894\n",
      "Non-trainable params: 0\n",
      "_________________________________________________________________\n"
     ]
    }
   ],
   "source": [
    "model_7 = Sequential()\n",
    "\n",
    "# layer_1\n",
    "model_7.add(Conv2D(64, (3, 3), strides=(1, 1), input_shape=(28, 28, 1), padding='same'))\n",
    "model_7.add(MaxPooling2D(pool_size=(2, 2), padding='same'))\n",
    "\n",
    "# layer_2\n",
    "model_7.add(Conv2D(128, (3, 3), activation='relu', padding='same'))\n",
    "model_7.add(MaxPooling2D(pool_size=(2, 2), padding='same'))\n",
    "\n",
    "# layer_3\n",
    "model_7.add(Conv2D(256, (3, 3), activation='relu', padding='same'))\n",
    "model_7.add(MaxPooling2D(pool_size=(2, 2), padding='same'))\n",
    "\n",
    "# layer_4\n",
    "model_7.add(Conv2D(512, (3, 3), activation='relu', padding='same'))\n",
    "model_7.add(MaxPooling2D(pool_size=(2, 2), padding='same'))\n",
    "\n",
    "# layer_5\n",
    "model_7.add(Conv2D(512, (3, 3), activation='relu', padding='same'))\n",
    "model_7.add(MaxPooling2D(pool_size=(2, 2), padding='same'))\n",
    "\n",
    "#full connected layer\n",
    "model_7.add(Flatten())\n",
    "model_7.add(Dense(256, activation='relu'))\n",
    "model_7.add(Dropout(0.5))\n",
    "model_7.add(Dense(62, activation='softmax'))\n",
    "\n",
    "model_7.summary()"
   ]
  },
  {
   "cell_type": "code",
   "execution_count": 10,
   "id": "29abb134",
   "metadata": {},
   "outputs": [],
   "source": [
    "model_7.compile(loss='sparse_categorical_crossentropy',\n",
    "              optimizer=\"sgd\",\n",
    "              metrics=['accuracy'])"
   ]
  },
  {
   "cell_type": "code",
   "execution_count": 11,
   "id": "040be457",
   "metadata": {},
   "outputs": [
    {
     "name": "stdout",
     "output_type": "stream",
     "text": [
      "Epoch 1/5\n",
      "4908/4908 [==============================] - 2135s 435ms/step - loss: 1.4139 - accuracy: 0.6189 - val_loss: 0.5651 - val_accuracy: 0.8092\n",
      "Epoch 2/5\n",
      "4908/4908 [==============================] - 2676s 545ms/step - loss: 0.5849 - accuracy: 0.8071 - val_loss: 0.4560 - val_accuracy: 0.8395\n",
      "Epoch 3/5\n",
      "4908/4908 [==============================] - 2712s 553ms/step - loss: 0.5003 - accuracy: 0.8295 - val_loss: 0.4538 - val_accuracy: 0.8405\n",
      "Epoch 4/5\n",
      "4908/4908 [==============================] - 2291s 467ms/step - loss: 0.4616 - accuracy: 0.8401 - val_loss: 0.4083 - val_accuracy: 0.8542\n",
      "Epoch 5/5\n",
      "4908/4908 [==============================] - 2124s 433ms/step - loss: 0.4375 - accuracy: 0.8466 - val_loss: 0.3961 - val_accuracy: 0.8556\n"
     ]
    }
   ],
   "source": [
    "batch_size = 128\n",
    "epochs = 5\n",
    "history_7 = model_7.fit(X_train, y_train, batch_size=batch_size,\n",
    "                    epochs=epochs, validation_data=(X_valid, y_valid))"
   ]
  },
  {
   "cell_type": "code",
   "execution_count": 14,
   "id": "3e636934",
   "metadata": {},
   "outputs": [
    {
     "data": {
      "image/png": "[encoded data removed]",
      "text/plain": [
       "<Figure size 576x360 with 1 Axes>"
      ]
     },
     "metadata": {
      "needs_background": "light"
     },
     "output_type": "display_data"
    }
   ],
   "source": [
    "accuracies_7 = pd.DataFrame(history_7.history)[['accuracy','val_accuracy']]\n",
    "\n",
    "accuracies_7.plot(figsize=(8,5))\n",
    "plt.grid(True)\n",
    "plt.gca().set_ylim(0.4,0.9)\n",
    "plt.xlabel('Epoch')\n",
    "plt.show()"
   ]
  },
  {
   "cell_type": "code",
   "execution_count": 15,
   "id": "63e46b4f",
   "metadata": {},
   "outputs": [
    {
     "name": "stdout",
     "output_type": "stream",
     "text": [
      "VGG with three layers 64,128,256,512,521\n",
      "   accuracy  val_accuracy\n",
      "0  0.618917      0.809167\n",
      "1  0.807133      0.839456\n",
      "2  0.829537      0.840488\n",
      "3  0.840067      0.854171\n",
      "4  0.846648      0.855575\n"
     ]
    }
   ],
   "source": [
    "print(\"VGG with three layers 64,128,256,512,521\")\n",
    "print(accuracies_7)"
   ]
  },
  {
   "cell_type": "markdown",
   "id": "c625e85a",
   "metadata": {},
   "source": [
    "#### Although the accuracy of the 5-layer model is 0.0032 higher than that of the 4-layer model, it takes twice as long. Therefore, the number of layers of the final selected model is 4."
   ]
  },
  {
   "cell_type": "code",
   "execution_count": null,
   "id": "02dcdba0",
   "metadata": {},
   "outputs": [],
   "source": []
  },
  {
   "cell_type": "markdown",
   "id": "a1ea6a6f",
   "metadata": {},
   "source": [
    "### Choose the best optimizer: 'RMSprop', 'Adam', 'SGD'"
   ]
  },
  {
   "cell_type": "markdown",
   "id": "2be43348",
   "metadata": {},
   "source": [
    "#### Adam"
   ]
  },
  {
   "cell_type": "code",
   "execution_count": 9,
   "id": "92fe198c",
   "metadata": {},
   "outputs": [
    {
     "name": "stdout",
     "output_type": "stream",
     "text": [
      "Model: \"sequential\"\n",
      "_________________________________________________________________\n",
      "Layer (type)                 Output Shape              Param #   \n",
      "=================================================================\n",
      "conv2d (Conv2D)              (None, 28, 28, 64)        640       \n",
      "_________________________________________________________________\n",
      "max_pooling2d (MaxPooling2D) (None, 14, 14, 64)        0         \n",
      "_________________________________________________________________\n",
      "conv2d_1 (Conv2D)            (None, 14, 14, 128)       73856     \n",
      "_________________________________________________________________\n",
      "max_pooling2d_1 (MaxPooling2 (None, 7, 7, 128)         0         \n",
      "_________________________________________________________________\n",
      "conv2d_2 (Conv2D)            (None, 7, 7, 256)         295168    \n",
      "_________________________________________________________________\n",
      "max_pooling2d_2 (MaxPooling2 (None, 4, 4, 256)         0         \n",
      "_________________________________________________________________\n",
      "conv2d_3 (Conv2D)            (None, 4, 4, 512)         1180160   \n",
      "_________________________________________________________________\n",
      "max_pooling2d_3 (MaxPooling2 (None, 2, 2, 512)         0         \n",
      "_________________________________________________________________\n",
      "flatten (Flatten)            (None, 2048)              0         \n",
      "_________________________________________________________________\n",
      "dense (Dense)                (None, 256)               524544    \n",
      "_________________________________________________________________\n",
      "dropout (Dropout)            (None, 256)               0         \n",
      "_________________________________________________________________\n",
      "dense_1 (Dense)              (None, 62)                15934     \n",
      "=================================================================\n",
      "Total params: 2,090,302\n",
      "Trainable params: 2,090,302\n",
      "Non-trainable params: 0\n",
      "_________________________________________________________________\n"
     ]
    }
   ],
   "source": [
    "model_9 = Sequential()\n",
    "\n",
    "# layer_1\n",
    "model_9.add(Conv2D(64, (3, 3), strides=(1, 1), input_shape=(28, 28, 1), padding='same'))\n",
    "model_9.add(MaxPooling2D(pool_size=(2, 2), padding = 'same'))\n",
    "\n",
    "# layer_2\n",
    "model_9.add(Conv2D(128, (3, 3), activation='relu', padding='same'))\n",
    "model_9.add(MaxPooling2D(pool_size=(2, 2), padding = 'same'))\n",
    "\n",
    "# layer_3\n",
    "model_9.add(Conv2D(256, (3, 3), activation='relu', padding='same'))\n",
    "model_9.add(MaxPooling2D(pool_size=(2, 2), padding = 'same'))\n",
    "\n",
    "# layer_4\n",
    "model_9.add(Conv2D(512, (3, 3), activation='relu', padding='same'))\n",
    "model_9.add(MaxPooling2D(pool_size=(2, 2), padding = 'same'))\n",
    "\n",
    "#full connected layer\n",
    "model_9.add(Flatten())\n",
    "model_9.add(Dense(256, activation='relu'))\n",
    "model_9.add(Dropout(0.5))\n",
    "model_9.add(Dense(62, activation='softmax'))\n",
    "\n",
    "model_9.summary()"
   ]
  },
  {
   "cell_type": "code",
   "execution_count": 10,
   "id": "21b132c2",
   "metadata": {},
   "outputs": [],
   "source": [
    "model_9.compile(loss='sparse_categorical_crossentropy',\n",
    "              optimizer=\"adam\",\n",
    "              metrics=['accuracy'])"
   ]
  },
  {
   "cell_type": "code",
   "execution_count": 14,
   "id": "2a965774",
   "metadata": {},
   "outputs": [
    {
     "name": "stdout",
     "output_type": "stream",
     "text": [
      "Epoch 1/3\n",
      "4908/4908 [==============================] - 1338s 272ms/step - loss: 0.5415 - accuracy: 0.8225 - val_loss: 0.3748 - val_accuracy: 0.8624\n",
      "Epoch 2/3\n",
      "4908/4908 [==============================] - 1304s 266ms/step - loss: 0.3963 - accuracy: 0.8588 - val_loss: 0.3757 - val_accuracy: 0.8615\n",
      "Epoch 3/3\n",
      "4908/4908 [==============================] - 1312s 267ms/step - loss: 0.3712 - accuracy: 0.8651 - val_loss: 0.3598 - val_accuracy: 0.8677\n"
     ]
    }
   ],
   "source": [
    "batch_size = 128\n",
    "epochs = 3\n",
    "history_9 = model_9.fit(X_train, y_train, batch_size=batch_size,\n",
    "                    epochs=epochs, validation_data=(X_valid, y_valid))"
   ]
  },
  {
   "cell_type": "code",
   "execution_count": 15,
   "id": "ddb2e512",
   "metadata": {},
   "outputs": [
    {
     "data": {
      "image/png": "[encoded data removed]",
      "text/plain": [
       "<Figure size 576x360 with 1 Axes>"
      ]
     },
     "metadata": {
      "needs_background": "light"
     },
     "output_type": "display_data"
    }
   ],
   "source": [
    "accuracies_9 = pd.DataFrame(history_9.history)[['accuracy','val_accuracy']]\n",
    "\n",
    "accuracies_9.plot(figsize=(8,5))\n",
    "plt.title(\"optimizer=adam\")\n",
    "plt.grid(True)\n",
    "plt.gca().set_ylim(0.4,0.9)\n",
    "plt.xlabel('Epoch')\n",
    "plt.ylabel('Accuracy')\n",
    "plt.show()"
   ]
  },
  {
   "cell_type": "markdown",
   "id": "5bb38c75",
   "metadata": {},
   "source": [
    "#### SGD"
   ]
  },
  {
   "cell_type": "code",
   "execution_count": 19,
   "id": "f54755f2",
   "metadata": {},
   "outputs": [
    {
     "name": "stdout",
     "output_type": "stream",
     "text": [
      "Epoch 1/3\n",
      "4908/4908 [==============================] - 1363s 277ms/step - loss: 1.3052 - accuracy: 0.6439 - val_loss: 0.5541 - val_accuracy: 0.8144\n",
      "Epoch 2/3\n",
      "4908/4908 [==============================] - 1362s 277ms/step - loss: 0.6063 - accuracy: 0.8018 - val_loss: 0.4815 - val_accuracy: 0.8327\n",
      "Epoch 3/3\n",
      "4908/4908 [==============================] - 1277s 260ms/step - loss: 0.5251 - accuracy: 0.8231 - val_loss: 0.4383 - val_accuracy: 0.8442\n"
     ]
    }
   ],
   "source": [
    "batch_size = 128\n",
    "epochs = 3\n",
    "history_6 = model_6.fit(X_train, y_train, batch_size=batch_size,\n",
    "                    epochs=epochs, validation_data=(X_valid, y_valid))"
   ]
  },
  {
   "cell_type": "code",
   "execution_count": 22,
   "id": "5f548c37",
   "metadata": {},
   "outputs": [
    {
     "data": {
      "image/png": "[encoded data removed]",
      "text/plain": [
       "<Figure size 576x360 with 1 Axes>"
      ]
     },
     "metadata": {
      "needs_background": "light"
     },
     "output_type": "display_data"
    }
   ],
   "source": [
    "accuracies_6 = pd.DataFrame(history_6.history)[['accuracy','val_accuracy']]\n",
    "\n",
    "accuracies_6.plot(figsize=(8,5))\n",
    "plt.title(\"optimizer=SGD\")\n",
    "plt.grid(True)\n",
    "plt.gca().set_ylim(0.4,0.9)\n",
    "plt.xlabel('Epoch')\n",
    "plt.ylabel('Accuracy')\n",
    "plt.show()"
   ]
  },
  {
   "cell_type": "markdown",
   "id": "97027465",
   "metadata": {},
   "source": [
    "#### RMSprop"
   ]
  },
  {
   "cell_type": "code",
   "execution_count": 23,
   "id": "b58a67d5",
   "metadata": {},
   "outputs": [
    {
     "name": "stdout",
     "output_type": "stream",
     "text": [
      "Model: \"sequential_2\"\n",
      "_________________________________________________________________\n",
      "Layer (type)                 Output Shape              Param #   \n",
      "=================================================================\n",
      "conv2d_8 (Conv2D)            (None, 28, 28, 64)        640       \n",
      "_________________________________________________________________\n",
      "max_pooling2d_8 (MaxPooling2 (None, 14, 14, 64)        0         \n",
      "_________________________________________________________________\n",
      "conv2d_9 (Conv2D)            (None, 14, 14, 128)       73856     \n",
      "_________________________________________________________________\n",
      "max_pooling2d_9 (MaxPooling2 (None, 7, 7, 128)         0         \n",
      "_________________________________________________________________\n",
      "conv2d_10 (Conv2D)           (None, 7, 7, 256)         295168    \n",
      "_________________________________________________________________\n",
      "max_pooling2d_10 (MaxPooling (None, 4, 4, 256)         0         \n",
      "_________________________________________________________________\n",
      "conv2d_11 (Conv2D)           (None, 4, 4, 512)         1180160   \n",
      "_________________________________________________________________\n",
      "max_pooling2d_11 (MaxPooling (None, 2, 2, 512)         0         \n",
      "_________________________________________________________________\n",
      "flatten_2 (Flatten)          (None, 2048)              0         \n",
      "_________________________________________________________________\n",
      "dense_4 (Dense)              (None, 256)               524544    \n",
      "_________________________________________________________________\n",
      "dropout_2 (Dropout)          (None, 256)               0         \n",
      "_________________________________________________________________\n",
      "dense_5 (Dense)              (None, 62)                15934     \n",
      "=================================================================\n",
      "Total params: 2,090,302\n",
      "Trainable params: 2,090,302\n",
      "Non-trainable params: 0\n",
      "_________________________________________________________________\n"
     ]
    }
   ],
   "source": [
    "model_10 = Sequential()\n",
    "\n",
    "# layer_1\n",
    "model_10.add(Conv2D(64, (3, 3), strides=(1, 1), input_shape=(28, 28, 1), padding='same'))\n",
    "model_10.add(MaxPooling2D(pool_size=(2, 2), padding = 'same'))\n",
    "\n",
    "# layer_2\n",
    "model_10.add(Conv2D(128, (3, 3), activation='relu', padding='same'))\n",
    "model_10.add(MaxPooling2D(pool_size=(2, 2), padding = 'same'))\n",
    "\n",
    "# layer_3\n",
    "model_10.add(Conv2D(256, (3, 3), activation='relu', padding='same'))\n",
    "model_10.add(MaxPooling2D(pool_size=(2, 2), padding = 'same'))\n",
    "\n",
    "# layer_4\n",
    "model_10.add(Conv2D(512, (3, 3), activation='relu', padding='same'))\n",
    "model_10.add(MaxPooling2D(pool_size=(2, 2), padding = 'same'))\n",
    "\n",
    "#full connected layer\n",
    "model_10.add(Flatten())\n",
    "model_10.add(Dense(256, activation='relu'))\n",
    "model_10.add(Dropout(0.5))\n",
    "model_10.add(Dense(62, activation='softmax'))\n",
    "\n",
    "model_10.summary()"
   ]
  },
  {
   "cell_type": "code",
   "execution_count": 24,
   "id": "738031ab",
   "metadata": {},
   "outputs": [],
   "source": [
    "model_10.compile(loss='sparse_categorical_crossentropy',\n",
    "              optimizer=\"RMSprop\",\n",
    "              metrics=['accuracy'])"
   ]
  },
  {
   "cell_type": "code",
   "execution_count": 25,
   "id": "02c74ab1",
   "metadata": {},
   "outputs": [
    {
     "name": "stdout",
     "output_type": "stream",
     "text": [
      "Epoch 1/3\n",
      "4908/4908 [==============================] - 1269s 258ms/step - loss: 0.5376 - accuracy: 0.8254 - val_loss: 0.4238 - val_accuracy: 0.8501\n",
      "Epoch 2/3\n",
      "4908/4908 [==============================] - 1277s 260ms/step - loss: 0.4541 - accuracy: 0.8481 - val_loss: 0.4498 - val_accuracy: 0.8505\n",
      "Epoch 3/3\n",
      "4908/4908 [==============================] - 1282s 261ms/step - loss: 0.4863 - accuracy: 0.8424 - val_loss: 0.4855 - val_accuracy: 0.8379\n"
     ]
    }
   ],
   "source": [
    "batch_size = 128\n",
    "epochs = 3\n",
    "history_10 = model_10.fit(X_train, y_train, batch_size=batch_size,\n",
    "                    epochs=epochs, validation_data=(X_valid, y_valid))"
   ]
  },
  {
   "cell_type": "code",
   "execution_count": 26,
   "id": "28894534",
   "metadata": {},
   "outputs": [
    {
     "data": {
      "image/png": "[encoded data removed]",
      "text/plain": [
       "<Figure size 576x360 with 1 Axes>"
      ]
     },
     "metadata": {
      "needs_background": "light"
     },
     "output_type": "display_data"
    }
   ],
   "source": [
    "accuracies_10 = pd.DataFrame(history_10.history)[['accuracy','val_accuracy']]\n",
    "\n",
    "accuracies_10.plot(figsize=(8,5))\n",
    "plt.title(\"optimizer=RMSprop\")\n",
    "plt.grid(True)\n",
    "plt.gca().set_ylim(0.4,0.9)\n",
    "plt.xlabel('Epoch')\n",
    "plt.ylabel('Accuracy')\n",
    "plt.show()"
   ]
  },
  {
   "cell_type": "markdown",
   "id": "db48506e",
   "metadata": {},
   "source": [
    "### Compare three optimizer"
   ]
  },
  {
   "cell_type": "code",
   "execution_count": 27,
   "id": "df1b07c0",
   "metadata": {},
   "outputs": [
    {
     "data": {
      "image/png": "[encoded data removed]",
      "text/plain": [
       "<Figure size 432x288 with 1 Axes>"
      ]
     },
     "metadata": {
      "needs_background": "light"
     },
     "output_type": "display_data"
    }
   ],
   "source": [
    "plt.plot(history_9.history['val_accuracy'],label = \"Adam\")\n",
    "plt.plot(history_6.history['val_accuracy'],label = \"SGD\")\n",
    "plt.plot(history_10.history['val_accuracy'],label = \"RMSprop\")\n",
    "plt.title(\"val_accuracy\")\n",
    "plt.xlabel('Epoch')\n",
    "plt.ylabel('Accuracy')\n",
    "plt.legend()\n",
    "plt.show()\n"
   ]
  },
  {
   "cell_type": "code",
   "execution_count": 28,
   "id": "dbe8ebe3",
   "metadata": {},
   "outputs": [
    {
     "data": {
      "image/png": "[encoded data removed]",
      "text/plain": [
       "<Figure size 432x288 with 1 Axes>"
      ]
     },
     "metadata": {
      "needs_background": "light"
     },
     "output_type": "display_data"
    }
   ],
   "source": [
    "plt.plot(history_9.history['accuracy'],label = \"Adam\")\n",
    "plt.plot(history_6.history['accuracy'],label = \"SGD\")\n",
    "plt.plot(history_10.history['accuracy'],label = \"RMSprop\")\n",
    "plt.title(\"accuracy\")\n",
    "plt.xlabel('Epoch')\n",
    "plt.ylabel('Accuracy')\n",
    "plt.legend()\n",
    "plt.show()\n"
   ]
  },
  {
   "cell_type": "markdown",
   "id": "986666f4",
   "metadata": {},
   "source": [
    "#### Adam has the highest accuracy among the three optimizers."
   ]
  },
  {
   "cell_type": "code",
   "execution_count": null,
   "id": "59f56827",
   "metadata": {},
   "outputs": [],
   "source": []
  },
  {
   "cell_type": "markdown",
   "id": "b1e77d1a",
   "metadata": {},
   "source": [
    "### Choose the best learning rate: 0.01, 0.001, 0.0001"
   ]
  },
  {
   "cell_type": "markdown",
   "id": "c1df8d6f",
   "metadata": {},
   "source": [
    "#### Learning rate = 0.01"
   ]
  },
  {
   "cell_type": "code",
   "execution_count": 13,
   "id": "0996ecd7",
   "metadata": {},
   "outputs": [
    {
     "name": "stdout",
     "output_type": "stream",
     "text": [
      "Model: \"sequential\"\n",
      "_________________________________________________________________\n",
      "Layer (type)                 Output Shape              Param #   \n",
      "=================================================================\n",
      "conv2d (Conv2D)              (None, 28, 28, 64)        640       \n",
      "_________________________________________________________________\n",
      "max_pooling2d (MaxPooling2D) (None, 14, 14, 64)        0         \n",
      "_________________________________________________________________\n",
      "conv2d_1 (Conv2D)            (None, 14, 14, 128)       73856     \n",
      "_________________________________________________________________\n",
      "max_pooling2d_1 (MaxPooling2 (None, 7, 7, 128)         0         \n",
      "_________________________________________________________________\n",
      "conv2d_2 (Conv2D)            (None, 7, 7, 256)         295168    \n",
      "_________________________________________________________________\n",
      "max_pooling2d_2 (MaxPooling2 (None, 4, 4, 256)         0         \n",
      "_________________________________________________________________\n",
      "conv2d_3 (Conv2D)            (None, 4, 4, 512)         1180160   \n",
      "_________________________________________________________________\n",
      "max_pooling2d_3 (MaxPooling2 (None, 2, 2, 512)         0         \n",
      "_________________________________________________________________\n",
      "flatten (Flatten)            (None, 2048)              0         \n",
      "_________________________________________________________________\n",
      "dense (Dense)                (None, 256)               524544    \n",
      "_________________________________________________________________\n",
      "dropout (Dropout)            (None, 256)               0         \n",
      "_________________________________________________________________\n",
      "dense_1 (Dense)              (None, 62)                15934     \n",
      "=================================================================\n",
      "Total params: 2,090,302\n",
      "Trainable params: 2,090,302\n",
      "Non-trainable params: 0\n",
      "_________________________________________________________________\n"
     ]
    }
   ],
   "source": [
    "model_1 = Sequential()\n",
    "\n",
    "# layer_1\n",
    "model_1.add(Conv2D(64, (3, 3), strides=(1, 1), input_shape=(28, 28, 1), padding='same'))\n",
    "model_1.add(MaxPooling2D(pool_size=(2, 2), padding = 'same'))\n",
    "\n",
    "# layer_2\n",
    "model_1.add(Conv2D(128, (3, 3), activation='relu', padding='same'))\n",
    "model_1.add(MaxPooling2D(pool_size=(2, 2), padding = 'same'))\n",
    "\n",
    "# layer_3\n",
    "model_1.add(Conv2D(256, (3, 3), activation='relu', padding='same'))\n",
    "model_1.add(MaxPooling2D(pool_size=(2, 2), padding = 'same'))\n",
    "\n",
    "# layer_4\n",
    "model_1.add(Conv2D(512, (3, 3), activation='relu', padding='same'))\n",
    "model_1.add(MaxPooling2D(pool_size=(2, 2), padding = 'same'))\n",
    "\n",
    "#full connected layer\n",
    "model_1.add(Flatten())\n",
    "model_1.add(Dense(256, activation='relu'))\n",
    "model_1.add(Dropout(0.5))\n",
    "model_1.add(Dense(62, activation='softmax'))\n",
    "\n",
    "model_1.summary()"
   ]
  },
  {
   "cell_type": "code",
   "execution_count": 16,
   "id": "662fea57",
   "metadata": {},
   "outputs": [],
   "source": [
    "opt_1 = tf.keras.optimizers.Adam(learning_rate=0.01)"
   ]
  },
  {
   "cell_type": "code",
   "execution_count": 17,
   "id": "fec73c71",
   "metadata": {},
   "outputs": [],
   "source": [
    "model_1.compile(loss='sparse_categorical_crossentropy',\n",
    "              optimizer=opt_1,\n",
    "              metrics=['accuracy'])"
   ]
  },
  {
   "cell_type": "code",
   "execution_count": 18,
   "id": "cc0b8090",
   "metadata": {},
   "outputs": [
    {
     "name": "stdout",
     "output_type": "stream",
     "text": [
      "Epoch 1/3\n",
      "4908/4908 [==============================] - 1470s 299ms/step - loss: 1.3957 - accuracy: 0.5976 - val_loss: 0.8469 - val_accuracy: 0.7274\n",
      "Epoch 2/3\n",
      "4908/4908 [==============================] - 1449s 295ms/step - loss: 1.0695 - accuracy: 0.6771 - val_loss: 0.8960 - val_accuracy: 0.7214\n",
      "Epoch 3/3\n",
      "4908/4908 [==============================] - 1436s 293ms/step - loss: 1.0524 - accuracy: 0.6835 - val_loss: 0.8068 - val_accuracy: 0.7439\n"
     ]
    }
   ],
   "source": [
    "batch_size = 128\n",
    "epochs = 3\n",
    "history_1 = model_1.fit(X_train, y_train, batch_size=batch_size,\n",
    "                    epochs=epochs, validation_data=(X_valid, y_valid))"
   ]
  },
  {
   "cell_type": "code",
   "execution_count": 20,
   "id": "e451ee2b",
   "metadata": {},
   "outputs": [
    {
     "data": {
      "image/png": "[encoded data removed]",
      "text/plain": [
       "<Figure size 576x360 with 1 Axes>"
      ]
     },
     "metadata": {
      "needs_background": "light"
     },
     "output_type": "display_data"
    }
   ],
   "source": [
    "accuracies_1 = pd.DataFrame(history_1.history)[['accuracy','val_accuracy']]\n",
    "\n",
    "accuracies_1.plot(figsize=(8,5))\n",
    "plt.title(\"Learning rate=0.01\")\n",
    "plt.grid(True)\n",
    "plt.gca().set_ylim(0.4,0.9)\n",
    "plt.xlabel('Epoch')\n",
    "plt.ylabel('Accuracy')\n",
    "plt.show()"
   ]
  },
  {
   "cell_type": "markdown",
   "id": "107e9aea",
   "metadata": {},
   "source": [
    "#### Learning rate = 0.0001"
   ]
  },
  {
   "cell_type": "code",
   "execution_count": 21,
   "id": "459c9db4",
   "metadata": {},
   "outputs": [
    {
     "name": "stdout",
     "output_type": "stream",
     "text": [
      "Model: \"sequential_1\"\n",
      "_________________________________________________________________\n",
      "Layer (type)                 Output Shape              Param #   \n",
      "=================================================================\n",
      "conv2d_4 (Conv2D)            (None, 28, 28, 64)        640       \n",
      "_________________________________________________________________\n",
      "max_pooling2d_4 (MaxPooling2 (None, 14, 14, 64)        0         \n",
      "_________________________________________________________________\n",
      "conv2d_5 (Conv2D)            (None, 14, 14, 128)       73856     \n",
      "_________________________________________________________________\n",
      "max_pooling2d_5 (MaxPooling2 (None, 7, 7, 128)         0         \n",
      "_________________________________________________________________\n",
      "conv2d_6 (Conv2D)            (None, 7, 7, 256)         295168    \n",
      "_________________________________________________________________\n",
      "max_pooling2d_6 (MaxPooling2 (None, 4, 4, 256)         0         \n",
      "_________________________________________________________________\n",
      "conv2d_7 (Conv2D)            (None, 4, 4, 512)         1180160   \n",
      "_________________________________________________________________\n",
      "max_pooling2d_7 (MaxPooling2 (None, 2, 2, 512)         0         \n",
      "_________________________________________________________________\n",
      "flatten_1 (Flatten)          (None, 2048)              0         \n",
      "_________________________________________________________________\n",
      "dense_2 (Dense)              (None, 256)               524544    \n",
      "_________________________________________________________________\n",
      "dropout_1 (Dropout)          (None, 256)               0         \n",
      "_________________________________________________________________\n",
      "dense_3 (Dense)              (None, 62)                15934     \n",
      "=================================================================\n",
      "Total params: 2,090,302\n",
      "Trainable params: 2,090,302\n",
      "Non-trainable params: 0\n",
      "_________________________________________________________________\n"
     ]
    }
   ],
   "source": [
    "model_2 = Sequential()\n",
    "\n",
    "# layer_1\n",
    "model_2.add(Conv2D(64, (3, 3), strides=(1, 1), input_shape=(28, 28, 1), padding='same'))\n",
    "model_2.add(MaxPooling2D(pool_size=(2, 2), padding = 'same'))\n",
    "\n",
    "# layer_2\n",
    "model_2.add(Conv2D(128, (3, 3), activation='relu', padding='same'))\n",
    "model_2.add(MaxPooling2D(pool_size=(2, 2), padding = 'same'))\n",
    "\n",
    "# layer_3\n",
    "model_2.add(Conv2D(256, (3, 3), activation='relu', padding='same'))\n",
    "model_2.add(MaxPooling2D(pool_size=(2, 2), padding = 'same'))\n",
    "\n",
    "# layer_4\n",
    "model_2.add(Conv2D(512, (3, 3), activation='relu', padding='same'))\n",
    "model_2.add(MaxPooling2D(pool_size=(2, 2), padding = 'same'))\n",
    "\n",
    "#full connected layer\n",
    "model_2.add(Flatten())\n",
    "model_2.add(Dense(256, activation='relu'))\n",
    "model_2.add(Dropout(0.5))\n",
    "model_2.add(Dense(62, activation='softmax'))\n",
    "\n",
    "model_2.summary()"
   ]
  },
  {
   "cell_type": "code",
   "execution_count": 22,
   "id": "cd8d8ead",
   "metadata": {},
   "outputs": [],
   "source": [
    "opt_2 = tf.keras.optimizers.Adam(learning_rate=0.0001)"
   ]
  },
  {
   "cell_type": "code",
   "execution_count": 23,
   "id": "5e39d0d5",
   "metadata": {},
   "outputs": [],
   "source": [
    "model_2.compile(loss='sparse_categorical_crossentropy',\n",
    "              optimizer=opt_2,\n",
    "              metrics=['accuracy'])"
   ]
  },
  {
   "cell_type": "code",
   "execution_count": 24,
   "id": "efafd2d0",
   "metadata": {},
   "outputs": [
    {
     "name": "stdout",
     "output_type": "stream",
     "text": [
      "Epoch 1/3\n",
      "4908/4908 [==============================] - 1495s 304ms/step - loss: 0.8227 - accuracy: 0.7563 - val_loss: 0.4360 - val_accuracy: 0.8451\n",
      "Epoch 2/3\n",
      "4908/4908 [==============================] - 1507s 307ms/step - loss: 0.4728 - accuracy: 0.8379 - val_loss: 0.3908 - val_accuracy: 0.8587\n",
      "Epoch 3/3\n",
      "4908/4908 [==============================] - 1526s 311ms/step - loss: 0.4171 - accuracy: 0.8528 - val_loss: 0.3675 - val_accuracy: 0.8634\n"
     ]
    }
   ],
   "source": [
    "batch_size = 128\n",
    "epochs = 3\n",
    "history_2 = model_2.fit(X_train, y_train, batch_size=batch_size,\n",
    "                    epochs=epochs, validation_data=(X_valid, y_valid))"
   ]
  },
  {
   "cell_type": "code",
   "execution_count": 25,
   "id": "77fed5df",
   "metadata": {},
   "outputs": [
    {
     "data": {
      "image/png": "[encoded data removed]",
      "text/plain": [
       "<Figure size 576x360 with 1 Axes>"
      ]
     },
     "metadata": {
      "needs_background": "light"
     },
     "output_type": "display_data"
    }
   ],
   "source": [
    "accuracies_2 = pd.DataFrame(history_2.history)[['accuracy','val_accuracy']]\n",
    "\n",
    "accuracies_2.plot(figsize=(8,5))\n",
    "plt.title(\"Learning rate=0.0001\")\n",
    "plt.grid(True)\n",
    "plt.gca().set_ylim(0.4,0.9)\n",
    "plt.xlabel('Epoch')\n",
    "plt.ylabel('Accuracy')\n",
    "plt.show()"
   ]
  },
  {
   "cell_type": "code",
   "execution_count": 31,
   "id": "0292fd7f",
   "metadata": {},
   "outputs": [
    {
     "name": "stdout",
     "output_type": "stream",
     "text": [
      "Epoch 1/3\n",
      "4908/4908 [==============================] - 1472s 299ms/step - loss: 0.5415 - accuracy: 0.8220 - val_loss: 0.3865 - val_accuracy: 0.8577\n",
      "Epoch 2/3\n",
      "4908/4908 [==============================] - 1488s 303ms/step - loss: 0.3971 - accuracy: 0.8591 - val_loss: 0.3634 - val_accuracy: 0.8656\n",
      "Epoch 3/3\n",
      "4908/4908 [==============================] - 1493s 304ms/step - loss: 0.3725 - accuracy: 0.8649 - val_loss: 0.3591 - val_accuracy: 0.8685\n"
     ]
    }
   ],
   "source": [
    "batch_size = 128\n",
    "epochs = 3\n",
    "history_9 = model_9.fit(X_train, y_train, batch_size=batch_size,\n",
    "                    epochs=epochs, validation_data=(X_valid, y_valid))"
   ]
  },
  {
   "cell_type": "markdown",
   "id": "dd532731",
   "metadata": {},
   "source": [
    "### Compare: three learning rates"
   ]
  },
  {
   "cell_type": "code",
   "execution_count": 32,
   "id": "0bdd0dbf",
   "metadata": {},
   "outputs": [
    {
     "data": {
      "image/png": "[encoded data removed]",
      "text/plain": [
       "<Figure size 432x288 with 1 Axes>"
      ]
     },
     "metadata": {
      "needs_background": "light"
     },
     "output_type": "display_data"
    }
   ],
   "source": [
    "plt.plot(history_1.history['val_accuracy'],label = \"rate=0.01\")\n",
    "plt.plot(history_9.history['val_accuracy'],label = \"rate=0.001\")\n",
    "plt.plot(history_2.history['val_accuracy'],label = \"rate=0.0001\")\n",
    "plt.title(\"Learning Rate(val_accuracy)\")\n",
    "plt.xlabel('Epoch')\n",
    "plt.ylabel('Accuracy')\n",
    "plt.legend()\n",
    "plt.show()"
   ]
  },
  {
   "cell_type": "code",
   "execution_count": 33,
   "id": "20049985",
   "metadata": {},
   "outputs": [
    {
     "data": {
      "image/png": "[encoded data removed]",
      "text/plain": [
       "<Figure size 432x288 with 1 Axes>"
      ]
     },
     "metadata": {
      "needs_background": "light"
     },
     "output_type": "display_data"
    }
   ],
   "source": [
    "plt.plot(history_1.history['accuracy'],label = \"rate=0.01\")\n",
    "plt.plot(history_9.history['accuracy'],label = \"rate=0.001\")\n",
    "plt.plot(history_2.history['accuracy'],label = \"rate=0.0001\")\n",
    "plt.title(\"Learning Rate(accuracy)\")\n",
    "plt.xlabel('Epoch')\n",
    "plt.ylabel('Accuracy')\n",
    "plt.legend()\n",
    "plt.show()"
   ]
  },
  {
   "cell_type": "markdown",
   "id": "acd23fac",
   "metadata": {},
   "source": [
    "#### Of the three different learning rates, the model with a learning rate of 0.001 had the highest accuracy."
   ]
  },
  {
   "cell_type": "code",
   "execution_count": null,
   "id": "bd786501",
   "metadata": {},
   "outputs": [],
   "source": []
  },
  {
   "cell_type": "markdown",
   "id": "8e2dabff",
   "metadata": {},
   "source": [
    "### Choose the best dropout: 0.5 or 0.25"
   ]
  },
  {
   "cell_type": "markdown",
   "id": "122b3a55",
   "metadata": {},
   "source": [
    "#### dropout = 0.25"
   ]
  },
  {
   "cell_type": "code",
   "execution_count": 13,
   "id": "d2018af0",
   "metadata": {},
   "outputs": [
    {
     "name": "stdout",
     "output_type": "stream",
     "text": [
      "Model: \"sequential_1\"\n",
      "_________________________________________________________________\n",
      "Layer (type)                 Output Shape              Param #   \n",
      "=================================================================\n",
      "conv2d_4 (Conv2D)            (None, 28, 28, 64)        640       \n",
      "_________________________________________________________________\n",
      "max_pooling2d_4 (MaxPooling2 (None, 14, 14, 64)        0         \n",
      "_________________________________________________________________\n",
      "conv2d_5 (Conv2D)            (None, 14, 14, 128)       73856     \n",
      "_________________________________________________________________\n",
      "max_pooling2d_5 (MaxPooling2 (None, 7, 7, 128)         0         \n",
      "_________________________________________________________________\n",
      "conv2d_6 (Conv2D)            (None, 7, 7, 256)         295168    \n",
      "_________________________________________________________________\n",
      "max_pooling2d_6 (MaxPooling2 (None, 4, 4, 256)         0         \n",
      "_________________________________________________________________\n",
      "conv2d_7 (Conv2D)            (None, 4, 4, 512)         1180160   \n",
      "_________________________________________________________________\n",
      "max_pooling2d_7 (MaxPooling2 (None, 2, 2, 512)         0         \n",
      "_________________________________________________________________\n",
      "flatten_1 (Flatten)          (None, 2048)              0         \n",
      "_________________________________________________________________\n",
      "dense_2 (Dense)              (None, 256)               524544    \n",
      "_________________________________________________________________\n",
      "dropout_1 (Dropout)          (None, 256)               0         \n",
      "_________________________________________________________________\n",
      "dense_3 (Dense)              (None, 62)                15934     \n",
      "=================================================================\n",
      "Total params: 2,090,302\n",
      "Trainable params: 2,090,302\n",
      "Non-trainable params: 0\n",
      "_________________________________________________________________\n"
     ]
    }
   ],
   "source": [
    "model_3 = Sequential()\n",
    "\n",
    "# layer_1\n",
    "model_3.add(Conv2D(64, (3, 3), strides=(1, 1), input_shape=(28, 28, 1), padding='same'))\n",
    "model_3.add(MaxPooling2D(pool_size=(2, 2), padding = 'same'))\n",
    "\n",
    "# layer_2\n",
    "model_3.add(Conv2D(128, (3, 3), activation='relu', padding='same'))\n",
    "model_3.add(MaxPooling2D(pool_size=(2, 2), padding = 'same'))\n",
    "\n",
    "# layer_3\n",
    "model_3.add(Conv2D(256, (3, 3), activation='relu', padding='same'))\n",
    "model_3.add(MaxPooling2D(pool_size=(2, 2), padding = 'same'))\n",
    "\n",
    "# layer_4\n",
    "model_3.add(Conv2D(512, (3, 3), activation='relu', padding='same'))\n",
    "model_3.add(MaxPooling2D(pool_size=(2, 2), padding = 'same'))\n",
    "\n",
    "#full connected layer\n",
    "model_3.add(Flatten())\n",
    "model_3.add(Dense(256, activation='relu'))\n",
    "model_3.add(Dropout(0.25))\n",
    "model_3.add(Dense(62, activation='softmax'))\n",
    "\n",
    "model_3.summary()"
   ]
  },
  {
   "cell_type": "code",
   "execution_count": 14,
   "id": "62dade23",
   "metadata": {},
   "outputs": [],
   "source": [
    "model_3.compile(loss='sparse_categorical_crossentropy',\n",
    "              optimizer=\"adam\",\n",
    "              metrics=['accuracy'])"
   ]
  },
  {
   "cell_type": "code",
   "execution_count": 15,
   "id": "bd88074b",
   "metadata": {},
   "outputs": [
    {
     "name": "stdout",
     "output_type": "stream",
     "text": [
      "Epoch 1/3\n",
      "4908/4908 [==============================] - 1370s 279ms/step - loss: 0.4975 - accuracy: 0.8318 - val_loss: 0.3830 - val_accuracy: 0.8581\n",
      "Epoch 2/3\n",
      "4908/4908 [==============================] - 1321s 269ms/step - loss: 0.3769 - accuracy: 0.8620 - val_loss: 0.3586 - val_accuracy: 0.8659\n",
      "Epoch 3/3\n",
      "4908/4908 [==============================] - 1304s 266ms/step - loss: 0.3553 - accuracy: 0.8682 - val_loss: 0.3575 - val_accuracy: 0.8647\n"
     ]
    }
   ],
   "source": [
    "batch_size = 128\n",
    "epochs = 3\n",
    "history_3 = model_3.fit(X_train, y_train, batch_size=batch_size,\n",
    "                    epochs=epochs, validation_data=(X_valid, y_valid))"
   ]
  },
  {
   "cell_type": "code",
   "execution_count": 16,
   "id": "c95954f7",
   "metadata": {},
   "outputs": [
    {
     "data": {
      "image/png": "[encoded data removed]",
      "text/plain": [
       "<Figure size 576x360 with 1 Axes>"
      ]
     },
     "metadata": {
      "needs_background": "light"
     },
     "output_type": "display_data"
    }
   ],
   "source": [
    "accuracies_3 = pd.DataFrame(history_3.history)[['accuracy','val_accuracy']]\n",
    "\n",
    "accuracies_3.plot(figsize=(8,5))\n",
    "plt.title(\"Dropout=0.25\")\n",
    "plt.grid(True)\n",
    "plt.gca().set_ylim(0.4,0.9)\n",
    "plt.xlabel('Epoch')\n",
    "plt.ylabel('Accuracy')\n",
    "plt.show()"
   ]
  },
  {
   "cell_type": "markdown",
   "id": "10f4c625",
   "metadata": {},
   "source": [
    "#### Dropout = 0.5"
   ]
  },
  {
   "cell_type": "code",
   "execution_count": 19,
   "id": "dd748e63",
   "metadata": {},
   "outputs": [
    {
     "name": "stdout",
     "output_type": "stream",
     "text": [
      "Epoch 1/3\n",
      "4908/4908 [==============================] - 1384s 282ms/step - loss: 0.5357 - accuracy: 0.8237 - val_loss: 0.3940 - val_accuracy: 0.8549\n",
      "Epoch 2/3\n",
      "4908/4908 [==============================] - 1414s 288ms/step - loss: 0.3974 - accuracy: 0.8586 - val_loss: 0.3684 - val_accuracy: 0.8638\n",
      "Epoch 3/3\n",
      "4908/4908 [==============================] - 1299s 265ms/step - loss: 0.3715 - accuracy: 0.8651 - val_loss: 0.3562 - val_accuracy: 0.8682\n"
     ]
    }
   ],
   "source": [
    "batch_size = 128\n",
    "epochs = 3\n",
    "history_9 = model_9.fit(X_train, y_train, batch_size=batch_size,\n",
    "                    epochs=epochs, validation_data=(X_valid, y_valid))"
   ]
  },
  {
   "cell_type": "markdown",
   "id": "62c49950",
   "metadata": {},
   "source": [
    "### Compare: dropout 0.5 or 0.25"
   ]
  },
  {
   "cell_type": "code",
   "execution_count": 20,
   "id": "865bf98d",
   "metadata": {},
   "outputs": [
    {
     "data": {
      "image/png": "[encoded data removed]",
      "text/plain": [
       "<Figure size 432x288 with 1 Axes>"
      ]
     },
     "metadata": {
      "needs_background": "light"
     },
     "output_type": "display_data"
    }
   ],
   "source": [
    "plt.plot(history_9.history['val_accuracy'],label = \"dropout=0.5\")\n",
    "plt.plot(history_3.history['val_accuracy'],label = \"dropout=0.25\")\n",
    "plt.title(\"Dropout(val_accuracy)\")\n",
    "plt.xlabel('Epoch')\n",
    "plt.ylabel('Accuracy')\n",
    "plt.legend()\n",
    "plt.show()"
   ]
  },
  {
   "cell_type": "code",
   "execution_count": 21,
   "id": "1bf025bf",
   "metadata": {},
   "outputs": [
    {
     "data": {
      "image/png": "[encoded data removed]",
      "text/plain": [
       "<Figure size 432x288 with 1 Axes>"
      ]
     },
     "metadata": {
      "needs_background": "light"
     },
     "output_type": "display_data"
    }
   ],
   "source": [
    "plt.plot(history_9.history['accuracy'],label = \"dropout=0.5\")\n",
    "plt.plot(history_3.history['accuracy'],label = \"dropout=0.25\")\n",
    "plt.title(\"Dropout(accuracy)\")\n",
    "plt.xlabel('Epoch')\n",
    "plt.ylabel('Accuracy')\n",
    "plt.legend()\n",
    "plt.show()"
   ]
  },
  {
   "cell_type": "markdown",
   "id": "6a21588e",
   "metadata": {},
   "source": [
    "#### According to the accuracy of the validation set, it can be concluded that the accuracy of dropout 0.5 is higher than that of dropout 0.25."
   ]
  },
  {
   "cell_type": "code",
   "execution_count": null,
   "id": "b0906609",
   "metadata": {},
   "outputs": [],
   "source": []
  },
  {
   "cell_type": "markdown",
   "id": "ec7af783",
   "metadata": {},
   "source": [
    "### Choose the best fully connected layers"
   ]
  },
  {
   "cell_type": "markdown",
   "id": "49d0dcb4",
   "metadata": {},
   "source": [
    "#### two fully connected layers"
   ]
  },
  {
   "cell_type": "code",
   "execution_count": 22,
   "id": "c5bfa3fc",
   "metadata": {},
   "outputs": [
    {
     "name": "stdout",
     "output_type": "stream",
     "text": [
      "Model: \"sequential_3\"\n",
      "_________________________________________________________________\n",
      "Layer (type)                 Output Shape              Param #   \n",
      "=================================================================\n",
      "conv2d_12 (Conv2D)           (None, 28, 28, 64)        640       \n",
      "_________________________________________________________________\n",
      "max_pooling2d_12 (MaxPooling (None, 14, 14, 64)        0         \n",
      "_________________________________________________________________\n",
      "conv2d_13 (Conv2D)           (None, 14, 14, 128)       73856     \n",
      "_________________________________________________________________\n",
      "max_pooling2d_13 (MaxPooling (None, 7, 7, 128)         0         \n",
      "_________________________________________________________________\n",
      "conv2d_14 (Conv2D)           (None, 7, 7, 256)         295168    \n",
      "_________________________________________________________________\n",
      "max_pooling2d_14 (MaxPooling (None, 4, 4, 256)         0         \n",
      "_________________________________________________________________\n",
      "conv2d_15 (Conv2D)           (None, 4, 4, 512)         1180160   \n",
      "_________________________________________________________________\n",
      "max_pooling2d_15 (MaxPooling (None, 2, 2, 512)         0         \n",
      "_________________________________________________________________\n",
      "flatten_3 (Flatten)          (None, 2048)              0         \n",
      "_________________________________________________________________\n",
      "dense_6 (Dense)              (None, 512)               1049088   \n",
      "_________________________________________________________________\n",
      "dense_7 (Dense)              (None, 256)               131328    \n",
      "_________________________________________________________________\n",
      "dropout_3 (Dropout)          (None, 256)               0         \n",
      "_________________________________________________________________\n",
      "dense_8 (Dense)              (None, 62)                15934     \n",
      "=================================================================\n",
      "Total params: 2,746,174\n",
      "Trainable params: 2,746,174\n",
      "Non-trainable params: 0\n",
      "_________________________________________________________________\n"
     ]
    }
   ],
   "source": [
    "model_8 = Sequential()\n",
    "\n",
    "# layer_1\n",
    "model_8.add(Conv2D(64, (3, 3), strides=(1, 1), input_shape=(28, 28, 1), padding='same'))\n",
    "model_8.add(MaxPooling2D(pool_size=(2, 2), padding = 'same'))\n",
    "\n",
    "# layer_2\n",
    "model_8.add(Conv2D(128, (3, 3), activation='relu', padding='same'))\n",
    "model_8.add(MaxPooling2D(pool_size=(2, 2), padding = 'same'))\n",
    "\n",
    "# layer_3\n",
    "model_8.add(Conv2D(256, (3, 3), activation='relu', padding='same'))\n",
    "model_8.add(MaxPooling2D(pool_size=(2, 2), padding = 'same'))\n",
    "\n",
    "# layer_4\n",
    "model_8.add(Conv2D(512, (3, 3), activation='relu', padding='same'))\n",
    "model_8.add(MaxPooling2D(pool_size=(2, 2), padding = 'same'))\n",
    "\n",
    "#full connected layer\n",
    "model_8.add(Flatten())\n",
    "model_8.add(Dense(512, activation='relu'))\n",
    "model_8.add(Dense(256, activation='relu'))\n",
    "model_8.add(Dropout(0.5))\n",
    "model_8.add(Dense(62, activation='softmax'))\n",
    "\n",
    "model_8.summary()"
   ]
  },
  {
   "cell_type": "code",
   "execution_count": 23,
   "id": "1ad6e470",
   "metadata": {},
   "outputs": [],
   "source": [
    "model_8.compile(loss='sparse_categorical_crossentropy',\n",
    "              optimizer=\"adam\",\n",
    "              metrics=['accuracy'])"
   ]
  },
  {
   "cell_type": "code",
   "execution_count": 24,
   "id": "6c61a74e",
   "metadata": {},
   "outputs": [
    {
     "name": "stdout",
     "output_type": "stream",
     "text": [
      "Epoch 1/3\n",
      "4908/4908 [==============================] - 1334s 272ms/step - loss: 0.5218 - accuracy: 0.8272 - val_loss: 0.3993 - val_accuracy: 0.8532\n",
      "Epoch 2/3\n",
      "4908/4908 [==============================] - 1331s 271ms/step - loss: 0.3880 - accuracy: 0.8608 - val_loss: 0.3798 - val_accuracy: 0.8615\n",
      "Epoch 3/3\n",
      "4908/4908 [==============================] - 1350s 275ms/step - loss: 0.3645 - accuracy: 0.8666 - val_loss: 0.3649 - val_accuracy: 0.8673\n"
     ]
    }
   ],
   "source": [
    "batch_size = 128\n",
    "epochs = 3\n",
    "history_8 = model_8.fit(X_train, y_train, batch_size=batch_size,\n",
    "                    epochs=epochs, validation_data=(X_valid, y_valid))"
   ]
  },
  {
   "cell_type": "code",
   "execution_count": 27,
   "id": "d40624cd",
   "metadata": {},
   "outputs": [
    {
     "data": {
      "image/png": "[encoded data removed]",
      "text/plain": [
       "<Figure size 576x360 with 1 Axes>"
      ]
     },
     "metadata": {
      "needs_background": "light"
     },
     "output_type": "display_data"
    }
   ],
   "source": [
    "accuracies_8 = pd.DataFrame(history_8.history)[['accuracy','val_accuracy']]\n",
    "\n",
    "accuracies_8.plot(figsize=(8,5))\n",
    "plt.title(\"2 fully connected layers\")\n",
    "plt.grid(True)\n",
    "plt.gca().set_ylim(0.4,0.9)\n",
    "plt.xlabel('Epoch')\n",
    "plt.ylabel('Accuracy')\n",
    "plt.show()"
   ]
  },
  {
   "cell_type": "markdown",
   "id": "b9673fec",
   "metadata": {},
   "source": [
    "### Compare: fully connected layers"
   ]
  },
  {
   "cell_type": "code",
   "execution_count": 30,
   "id": "653b67eb",
   "metadata": {},
   "outputs": [
    {
     "data": {
      "image/png": "[encoded data removed]",
      "text/plain": [
       "<Figure size 432x288 with 1 Axes>"
      ]
     },
     "metadata": {
      "needs_background": "light"
     },
     "output_type": "display_data"
    }
   ],
   "source": [
    "plt.plot(history_8.history['val_accuracy'],label = \"2 hidden layer\")\n",
    "plt.plot(history_3.history['val_accuracy'],label = \"1 hidden layer\")\n",
    "plt.title(\"Fully connected layer (val_accuracy)\")\n",
    "plt.xlabel('Epoch')\n",
    "plt.ylabel('Accuracy')\n",
    "plt.legend()\n",
    "plt.show()"
   ]
  },
  {
   "cell_type": "code",
   "execution_count": 31,
   "id": "6631a668",
   "metadata": {},
   "outputs": [
    {
     "data": {
      "image/png": "[encoded data removed]",
      "text/plain": [
       "<Figure size 432x288 with 1 Axes>"
      ]
     },
     "metadata": {
      "needs_background": "light"
     },
     "output_type": "display_data"
    }
   ],
   "source": [
    "plt.plot(history_8.history['accuracy'],label = \"2 hidden layer\")\n",
    "plt.plot(history_3.history['accuracy'],label = \"1 hidden layer\")\n",
    "plt.title(\"Fully connected layer (accuracy)\")\n",
    "plt.xlabel('Epoch')\n",
    "plt.ylabel('Accuracy')\n",
    "plt.legend()\n",
    "plt.show()"
   ]
  },
  {
   "cell_type": "markdown",
   "id": "64c154b3",
   "metadata": {},
   "source": [
    "#### According to the accuracy of the validation set, it can be concluded that the accuracy of 2  fully connected layers is higher than that of 1 layers."
   ]
  },
  {
   "cell_type": "markdown",
   "id": "4223db55",
   "metadata": {},
   "source": [
    "#### Three fully connected layers"
   ]
  },
  {
   "cell_type": "code",
   "execution_count": 46,
   "id": "f7b6ffca",
   "metadata": {},
   "outputs": [
    {
     "name": "stdout",
     "output_type": "stream",
     "text": [
      "Model: \"sequential_5\"\n",
      "_________________________________________________________________\n",
      "Layer (type)                 Output Shape              Param #   \n",
      "=================================================================\n",
      "conv2d_20 (Conv2D)           (None, 28, 28, 64)        640       \n",
      "_________________________________________________________________\n",
      "max_pooling2d_20 (MaxPooling (None, 14, 14, 64)        0         \n",
      "_________________________________________________________________\n",
      "conv2d_21 (Conv2D)           (None, 14, 14, 128)       73856     \n",
      "_________________________________________________________________\n",
      "max_pooling2d_21 (MaxPooling (None, 7, 7, 128)         0         \n",
      "_________________________________________________________________\n",
      "conv2d_22 (Conv2D)           (None, 7, 7, 256)         295168    \n",
      "_________________________________________________________________\n",
      "max_pooling2d_22 (MaxPooling (None, 4, 4, 256)         0         \n",
      "_________________________________________________________________\n",
      "conv2d_23 (Conv2D)           (None, 4, 4, 512)         1180160   \n",
      "_________________________________________________________________\n",
      "max_pooling2d_23 (MaxPooling (None, 2, 2, 512)         0         \n",
      "_________________________________________________________________\n",
      "flatten_5 (Flatten)          (None, 2048)              0         \n",
      "_________________________________________________________________\n",
      "dense_12 (Dense)             (None, 512)               1049088   \n",
      "_________________________________________________________________\n",
      "dense_13 (Dense)             (None, 256)               131328    \n",
      "_________________________________________________________________\n",
      "dense_14 (Dense)             (None, 128)               32896     \n",
      "_________________________________________________________________\n",
      "dropout_5 (Dropout)          (None, 128)               0         \n",
      "_________________________________________________________________\n",
      "dense_15 (Dense)             (None, 62)                7998      \n",
      "=================================================================\n",
      "Total params: 2,771,134\n",
      "Trainable params: 2,771,134\n",
      "Non-trainable params: 0\n",
      "_________________________________________________________________\n"
     ]
    }
   ],
   "source": [
    "model_4 = Sequential()\n",
    "\n",
    "# layer_1\n",
    "model_4.add(Conv2D(64, (3, 3), strides=(1, 1), input_shape=(28, 28, 1), padding='same'))\n",
    "model_4.add(MaxPooling2D(pool_size=(2, 2), padding = 'same'))\n",
    "\n",
    "# layer_2\n",
    "model_4.add(Conv2D(128, (3, 3), activation='relu', padding='same'))\n",
    "model_4.add(MaxPooling2D(pool_size=(2, 2), padding = 'same'))\n",
    "\n",
    "# layer_3\n",
    "model_4.add(Conv2D(256, (3, 3), activation='relu', padding='same'))\n",
    "model_4.add(MaxPooling2D(pool_size=(2, 2), padding = 'same'))\n",
    "\n",
    "# layer_4\n",
    "model_4.add(Conv2D(512, (3, 3), activation='relu', padding='same'))\n",
    "model_4.add(MaxPooling2D(pool_size=(2, 2), padding = 'same'))\n",
    "\n",
    "#full connected layer\n",
    "model_4.add(Flatten())\n",
    "model_4.add(Dense(512, activation='relu'))\n",
    "model_4.add(Dense(256, activation='relu'))\n",
    "model_4.add(Dense(128, activation='relu'))\n",
    "model_4.add(Dropout(0.5))\n",
    "model_4.add(Dense(62, activation='softmax'))\n",
    "\n",
    "model_4.summary()"
   ]
  },
  {
   "cell_type": "code",
   "execution_count": 47,
   "id": "a6020850",
   "metadata": {},
   "outputs": [],
   "source": [
    "model_4.compile(loss='sparse_categorical_crossentropy',\n",
    "              optimizer=\"adam\",\n",
    "              metrics=['accuracy'])"
   ]
  },
  {
   "cell_type": "code",
   "execution_count": 48,
   "id": "07961fd2",
   "metadata": {},
   "outputs": [
    {
     "name": "stdout",
     "output_type": "stream",
     "text": [
      "Epoch 1/3\n",
      "4908/4908 [==============================] - 1278s 260ms/step - loss: 0.5711 - accuracy: 0.8187 - val_loss: 0.3937 - val_accuracy: 0.8582\n",
      "Epoch 2/3\n",
      "4908/4908 [==============================] - 1409s 287ms/step - loss: 0.4089 - accuracy: 0.8579 - val_loss: 0.3891 - val_accuracy: 0.8599\n",
      "Epoch 3/3\n",
      "4908/4908 [==============================] - 1324s 270ms/step - loss: 0.3841 - accuracy: 0.8642 - val_loss: 0.3764 - val_accuracy: 0.8647\n"
     ]
    }
   ],
   "source": [
    "batch_size = 128\n",
    "epochs = 3\n",
    "history_4 = model_4.fit(X_train, y_train, batch_size=batch_size,\n",
    "                    epochs=epochs, validation_data=(X_valid, y_valid))"
   ]
  },
  {
   "cell_type": "code",
   "execution_count": 49,
   "id": "3c6172ec",
   "metadata": {},
   "outputs": [
    {
     "data": {
      "image/png": "[encoded data removed]",
      "text/plain": [
       "<Figure size 576x360 with 1 Axes>"
      ]
     },
     "metadata": {
      "needs_background": "light"
     },
     "output_type": "display_data"
    }
   ],
   "source": [
    "accuracies_4 = pd.DataFrame(history_4.history)[['accuracy','val_accuracy']]\n",
    "\n",
    "accuracies_4.plot(figsize=(8,5))\n",
    "plt.title(\"3 fully connected layer\")\n",
    "plt.grid(True)\n",
    "plt.gca().set_ylim(0.4,0.9)\n",
    "plt.xlabel('Epoch')\n",
    "plt.ylabel('Accuracy')\n",
    "plt.show()"
   ]
  },
  {
   "cell_type": "markdown",
   "id": "65abc832",
   "metadata": {},
   "source": [
    "### Compare: number of fully connected layers"
   ]
  },
  {
   "cell_type": "code",
   "execution_count": 50,
   "id": "fa1ea17c",
   "metadata": {},
   "outputs": [
    {
     "data": {
      "image/png": "[encoded data removed]",
      "text/plain": [
       "<Figure size 432x288 with 1 Axes>"
      ]
     },
     "metadata": {
      "needs_background": "light"
     },
     "output_type": "display_data"
    }
   ],
   "source": [
    "plt.plot(history_4.history['val_accuracy'],label = \"3 hidden layer\")\n",
    "plt.plot(history_8.history['val_accuracy'],label = \"2 hidden layer\")\n",
    "plt.plot(history_3.history['val_accuracy'],label = \"1 hidden layer\")\n",
    "plt.title(\"Fully connected layer (val_accuracy)\")\n",
    "plt.xlabel('Epoch')\n",
    "plt.ylabel('Accuracy')\n",
    "plt.legend()\n",
    "plt.show()"
   ]
  },
  {
   "cell_type": "code",
   "execution_count": 51,
   "id": "39f89e1e",
   "metadata": {},
   "outputs": [
    {
     "data": {
      "image/png": "[encoded data removed]",
      "text/plain": [
       "<Figure size 432x288 with 1 Axes>"
      ]
     },
     "metadata": {
      "needs_background": "light"
     },
     "output_type": "display_data"
    }
   ],
   "source": [
    "plt.plot(history_4.history['accuracy'],label = \"3 hidden layer\")\n",
    "plt.plot(history_8.history['accuracy'],label = \"2 hidden layer\")\n",
    "plt.plot(history_3.history['accuracy'],label = \"1 hidden layer\")\n",
    "plt.title(\"Fully connected layer (accuracy)\")\n",
    "plt.xlabel('Epoch')\n",
    "plt.ylabel('Accuracy')\n",
    "plt.legend()\n",
    "plt.show()"
   ]
  },
  {
   "cell_type": "markdown",
   "id": "1288327f",
   "metadata": {},
   "source": [
    "#### According to the accuracy of the validation set, it can be concluded that the accuracy of 2 fully connected layers has the highest accuracy.¶"
   ]
  },
  {
   "cell_type": "code",
   "execution_count": null,
   "id": "e04f02ec",
   "metadata": {},
   "outputs": [],
   "source": []
  },
  {
   "cell_type": "markdown",
   "id": "3a85876e",
   "metadata": {},
   "source": [
    "### Final Model with epoch = 10"
   ]
  },
  {
   "cell_type": "code",
   "execution_count": 10,
   "id": "49b39486",
   "metadata": {},
   "outputs": [
    {
     "name": "stdout",
     "output_type": "stream",
     "text": [
      "Model: \"sequential\"\n",
      "_________________________________________________________________\n",
      "Layer (type)                 Output Shape              Param #   \n",
      "=================================================================\n",
      "conv2d (Conv2D)              (None, 28, 28, 64)        640       \n",
      "_________________________________________________________________\n",
      "max_pooling2d (MaxPooling2D) (None, 14, 14, 64)        0         \n",
      "_________________________________________________________________\n",
      "conv2d_1 (Conv2D)            (None, 14, 14, 128)       73856     \n",
      "_________________________________________________________________\n",
      "max_pooling2d_1 (MaxPooling2 (None, 7, 7, 128)         0         \n",
      "_________________________________________________________________\n",
      "conv2d_2 (Conv2D)            (None, 7, 7, 256)         295168    \n",
      "_________________________________________________________________\n",
      "max_pooling2d_2 (MaxPooling2 (None, 4, 4, 256)         0         \n",
      "_________________________________________________________________\n",
      "conv2d_3 (Conv2D)            (None, 4, 4, 512)         1180160   \n",
      "_________________________________________________________________\n",
      "max_pooling2d_3 (MaxPooling2 (None, 2, 2, 512)         0         \n",
      "_________________________________________________________________\n",
      "flatten (Flatten)            (None, 2048)              0         \n",
      "_________________________________________________________________\n",
      "dense (Dense)                (None, 512)               1049088   \n",
      "_________________________________________________________________\n",
      "dense_1 (Dense)              (None, 256)               131328    \n",
      "_________________________________________________________________\n",
      "dropout (Dropout)            (None, 256)               0         \n",
      "_________________________________________________________________\n",
      "dense_2 (Dense)              (None, 62)                15934     \n",
      "=================================================================\n",
      "Total params: 2,746,174\n",
      "Trainable params: 2,746,174\n",
      "Non-trainable params: 0\n",
      "_________________________________________________________________\n"
     ]
    }
   ],
   "source": [
    "time_start =time.time()\n",
    "\n",
    "model_final = Sequential()\n",
    "\n",
    "# layer_1\n",
    "model_final.add(Conv2D(64, (3, 3), strides=(1, 1), input_shape=(28, 28, 1), padding='same'))\n",
    "model_final.add(MaxPooling2D(pool_size=(2, 2), padding = 'same'))\n",
    "\n",
    "# layer_2\n",
    "model_final.add(Conv2D(128, (3, 3), activation='relu', padding='same'))\n",
    "model_final.add(MaxPooling2D(pool_size=(2, 2), padding = 'same'))\n",
    "\n",
    "# layer_3\n",
    "model_final.add(Conv2D(256, (3, 3), activation='relu', padding='same'))\n",
    "model_final.add(MaxPooling2D(pool_size=(2, 2), padding = 'same'))\n",
    "\n",
    "# layer_4\n",
    "model_final.add(Conv2D(512, (3, 3), activation='relu', padding='same'))\n",
    "model_final.add(MaxPooling2D(pool_size=(2, 2), padding = 'same'))\n",
    "\n",
    "#full connected layer\n",
    "model_final.add(Flatten())\n",
    "model_final.add(Dense(512, activation='relu'))\n",
    "model_final.add(Dense(256, activation='relu'))\n",
    "model_final.add(Dropout(0.5))\n",
    "model_final.add(Dense(62, activation='softmax'))\n",
    "\n",
    "model_final.summary()"
   ]
  },
  {
   "cell_type": "code",
   "execution_count": 11,
   "id": "90eb9f7e",
   "metadata": {},
   "outputs": [],
   "source": [
    "model_final.compile(loss='sparse_categorical_crossentropy',\n",
    "              optimizer=\"adam\",\n",
    "              metrics=['accuracy'])"
   ]
  },
  {
   "cell_type": "code",
   "execution_count": 14,
   "id": "953ad98c",
   "metadata": {},
   "outputs": [],
   "source": [
    "early_stop_cb = tf.keras.callbacks.EarlyStopping(\n",
    "    monitor='val_loss', min_delta=0, patience=4, verbose=0,\n",
    "    mode='auto'\n",
    ")\n"
   ]
  },
  {
   "cell_type": "code",
   "execution_count": 18,
   "id": "0c16d85b",
   "metadata": {},
   "outputs": [
    {
     "name": "stdout",
     "output_type": "stream",
     "text": [
      "Epoch 1/10\n",
      "4908/4908 [==============================] - 1414s 288ms/step - loss: 0.4657 - accuracy: 0.8399 - val_loss: 0.3876 - val_accuracy: 0.8579\n",
      "Epoch 2/10\n",
      "4908/4908 [==============================] - 1451s 296ms/step - loss: 0.3880 - accuracy: 0.8612 - val_loss: 0.3699 - val_accuracy: 0.8637\n",
      "Epoch 3/10\n",
      "4908/4908 [==============================] - 1362s 277ms/step - loss: 0.3653 - accuracy: 0.8673 - val_loss: 0.3750 - val_accuracy: 0.8649\n",
      "Epoch 4/10\n",
      "4908/4908 [==============================] - 1357s 277ms/step - loss: 0.3514 - accuracy: 0.8708 - val_loss: 0.3681 - val_accuracy: 0.8649\n",
      "Epoch 5/10\n",
      "4908/4908 [==============================] - 1402s 286ms/step - loss: 0.3410 - accuracy: 0.8728 - val_loss: 0.3719 - val_accuracy: 0.8649\n",
      "Epoch 6/10\n",
      "4908/4908 [==============================] - 1329s 271ms/step - loss: 0.3336 - accuracy: 0.8752 - val_loss: 0.3691 - val_accuracy: 0.8655\n",
      "Epoch 7/10\n",
      "4908/4908 [==============================] - 1347s 274ms/step - loss: 0.3285 - accuracy: 0.8766 - val_loss: 0.3747 - val_accuracy: 0.8663\n",
      "Epoch 8/10\n",
      "4908/4908 [==============================] - 1355s 276ms/step - loss: 0.3236 - accuracy: 0.8781 - val_loss: 0.3806 - val_accuracy: 0.8682\n"
     ]
    }
   ],
   "source": [
    "batch_size = 128\n",
    "epochs = 10\n",
    "history_final = model_final.fit(X_train, y_train, batch_size=batch_size,\n",
    "                    epochs=epochs, validation_data=(X_valid, y_valid),\n",
    "                                callbacks = [early_stop_cb])"
   ]
  },
  {
   "cell_type": "code",
   "execution_count": 19,
   "id": "6abb037e",
   "metadata": {},
   "outputs": [
    {
     "name": "stdout",
     "output_type": "stream",
     "text": [
      "time cost 11496.632786750793 s\n"
     ]
    }
   ],
   "source": [
    "time_end=time.time()\n",
    "time_c =time_end - time_start\n",
    "print('time cost',time_c,'s')"
   ]
  },
  {
   "cell_type": "code",
   "execution_count": 20,
   "id": "93a05845",
   "metadata": {},
   "outputs": [
    {
     "data": {
      "image/png": "[encoded data removed]",
      "text/plain": [
       "<Figure size 792x576 with 1 Axes>"
      ]
     },
     "metadata": {
      "needs_background": "light"
     },
     "output_type": "display_data"
    }
   ],
   "source": [
    "accuracies_final = pd.DataFrame(history_final.history)[['accuracy','val_accuracy','loss']]\n",
    "accuracies_final.plot(figsize=(11,8))\n",
    "plt.title(\"Best Model\")\n",
    "plt.grid(True)\n",
    "plt.gca().set_ylim(0,1)\n",
    "plt.xlabel('Epoch')\n",
    "plt.ylabel('Accuracy')\n",
    "plt.show()"
   ]
  },
  {
   "cell_type": "markdown",
   "id": "99d5e304",
   "metadata": {},
   "source": [
    "### Using the final model do predict on test set"
   ]
  },
  {
   "cell_type": "code",
   "execution_count": 21,
   "id": "c2864482",
   "metadata": {},
   "outputs": [],
   "source": [
    "X_test = np.expand_dims(X_test, -1)"
   ]
  },
  {
   "cell_type": "code",
   "execution_count": 22,
   "id": "de6556ad",
   "metadata": {},
   "outputs": [
    {
     "name": "stdout",
     "output_type": "stream",
     "text": [
      "3636/3636 [==============================] - 95s 26ms/step - loss: 0.3721 - accuracy: 0.8709\n",
      "Accuracy on test data: 0.8709\n"
     ]
    }
   ],
   "source": [
    "loss,accuracy = model_final.evaluate(X_test,test_lab_raw)\n",
    "print(f'Accuracy on test data: {accuracy:.4f}')"
   ]
  },
  {
   "cell_type": "markdown",
   "id": "2f478bea",
   "metadata": {},
   "source": [
    "### Show accuracy, precision, recall, F1 score of the prediction"
   ]
  },
  {
   "cell_type": "code",
   "execution_count": 26,
   "id": "723d4b27",
   "metadata": {},
   "outputs": [
    {
     "name": "stdout",
     "output_type": "stream",
     "text": [
      "The accuracy socre of VGG model is: 0.87 \n",
      "The precision socre of VGG model is: 0.86 \n",
      "The recall socre of VGG model is: 0.87 \n",
      "The F1 socre of VGG model is: 0.85 \n"
     ]
    }
   ],
   "source": [
    "import warnings\n",
    "warnings.filterwarnings(\"ignore\")\n",
    "from sklearn.metrics import precision_score\n",
    "from sklearn.metrics import recall_score\n",
    "from sklearn.metrics import f1_score\n",
    "from sklearn.metrics import accuracy_score\n",
    "\n",
    "\n",
    "test_sample = X_test\n",
    "pred = model_final.predict(test_sample).round(2)\n",
    "y_predict = np.argmax(pred, axis = -1)\n",
    "\n",
    "print('The accuracy socre of VGG model is: {:.2f} '.format(accuracy_score(test_lab_raw,y_predict)))\n",
    "print('The precision socre of VGG model is: {:.2f} '.format(precision_score(test_lab_raw,y_predict,average='weighted')))\n",
    "print('The recall socre of VGG model is: {:.2f} '.format(recall_score(test_lab_raw,y_predict,average='weighted')))\n",
    "print('The F1 socre of VGG model is: {:.2f} '.format(f1_score(test_lab_raw,y_predict,average='weighted')))\n",
    "\n"
   ]
  },
  {
   "cell_type": "code",
   "execution_count": null,
   "id": "31e54f91",
   "metadata": {},
   "outputs": [],
   "source": []
  }
 ],
 "metadata": {
  "kernelspec": {
   "display_name": "Python 3 (ipykernel)",
   "language": "python",
   "name": "python3"
  },
  "language_info": {
   "codemirror_mode": {
    "name": "ipython",
    "version": 3
   },
   "file_extension": ".py",
   "mimetype": "text/x-python",
   "name": "python",
   "nbconvert_exporter": "python",
   "pygments_lexer": "ipython3",
   "version": "3.9.7"
  }
 },
 "nbformat": 4,
 "nbformat_minor": 5
}
