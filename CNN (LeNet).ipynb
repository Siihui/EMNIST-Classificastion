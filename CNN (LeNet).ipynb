{
 "cells": [
  {
   "cell_type": "markdown",
   "metadata": {
    "id": "2G7EkdmPCvRX"
   },
   "source": [
    "## CNN (LeNet), Data: EMNIST"
   ]
  },
  {
   "cell_type": "markdown",
   "metadata": {},
   "source": [
    "**READ ME**\n",
    "\n",
    " Before running the code, make sure that data folder and code are in the same directory, and the data folder needs to contain four decompressed input files, which are named as ‘emnist-byclass-test-images-idx3-ubyte’, ‘emnist-byclass-test-labels-idx1-ubyte’, ‘emnist-byclass-train-images-idx3-ubyte’, ‘emnist-byclass-train-labels-idx1-ubyte’.\n",
    "The code cells in the Setup and Preprocessing parts need to be run one by one. If you want to explore the whole building model step completely, you can run all the code cells in Build and tunning model one by one. If you only want to get the final tunned model, then you can run the summary module directly. Then run the complete prediction to predict on the test set.\n"
   ]
  },
  {
   "cell_type": "markdown",
   "metadata": {
    "id": "H0Vko6VPCvRa"
   },
   "source": [
    "## Setup"
   ]
  },
  {
   "cell_type": "code",
   "execution_count": 1,
   "metadata": {
    "id": "l_jvYvisCvRb"
   },
   "outputs": [],
   "source": [
    "# ignore warnings\n",
    "import warnings\n",
    "warnings.filterwarnings('ignore')\n",
    "import time\n",
    "import numpy as np\n",
    "import pandas as pd\n",
    "import struct\n",
    "import matplotlib.pyplot as plt\n",
    "import tensorflow as tf\n",
    "from tensorflow import keras\n",
    "from scikeras.wrappers import KerasClassifier\n",
    "from sklearn.model_selection import GridSearchCV\n",
    "\n",
    "# To plot pretty figure\n",
    "%matplotlib inline\n",
    "\n",
    "keras.backend.clear_session()\n",
    "tf.random.set_seed(42)\n",
    "\n",
    "from sklearn.model_selection import train_test_split\n",
    "from sklearn.metrics import confusion_matrix\n",
    "from sklearn.metrics import precision_score\n",
    "from sklearn.metrics import recall_score\n",
    "from sklearn.metrics import f1_score\n",
    "from sklearn.metrics import accuracy_score\n",
    "\n",
    "# Data direction\n",
    "train_data_dir='data/emnist-byclass-train-images-idx3-ubyte'\n",
    "train_label_dir = 'data/emnist-byclass-train-labels-idx1-ubyte'\n",
    "test_data_dir = 'data/emnist-byclass-test-images-idx3-ubyte'\n",
    "test_label_dir = 'data/emnist-byclass-test-labels-idx1-ubyte'\n",
    "\n",
    "# Read binary image data\n",
    "def decode_idx3_ubyte(file):\n",
    "    '''\n",
    "    file: file dirction\n",
    "    return: data set\n",
    "    '''\n",
    "\n",
    "    # read binary data\n",
    "    bin_read_data = open(file,'rb').read()\n",
    "    offset = 0\n",
    "    header = '>iiii'\n",
    "    magic_num, num_img, num_row, num_col = struct.unpack_from(header, bin_read_data,offset)\n",
    "    print('magic number: %d, number of images: %d, image size: %d*%d' % (magic_num, num_img, num_row, num_col ))\n",
    "    img_size = num_row * num_col\n",
    "    offset += struct.calcsize(header)\n",
    "    print(offset)\n",
    "    fmt_image = '>' + str(img_size) + 'B'\n",
    "    print(fmt_image, offset, struct.calcsize(fmt_image))\n",
    "    images = np.empty((num_img, num_row, num_col))\n",
    "\n",
    "    for i in range(num_img):\n",
    "        if (i +1) % 10000 == 0:\n",
    "            print('Decode: %d' % (i+1))\n",
    "            print(offset)\n",
    "        images[i] = np.array(struct.unpack_from(fmt_image, bin_read_data, offset)).reshape((num_row, num_col))\n",
    "        offset += struct.calcsize(fmt_image)\n",
    "    return images\n",
    "\n",
    "# Read binary data\n",
    "def decode_idx1_ubyte(file):\n",
    "    '''\n",
    "    file: file dirction\n",
    "    return: data set\n",
    "    '''\n",
    "    bin_read_data = open(file, 'rb').read()\n",
    "    offset = 0\n",
    "    header = '>ii'\n",
    "    magic_num, num_img = struct.unpack_from(header, bin_read_data,offset)\n",
    "    print('magic number: %d, number of images: %d' % (magic_num, num_img))\n",
    "\n",
    "    offset += struct.calcsize(header)\n",
    "    fmt_img ='>B'\n",
    "    labels = np.empty(num_img)\n",
    "    for i in range(num_img):\n",
    "        if (i + 1) % 10000 ==0:\n",
    "            print('Decode: %d' %(i+1))\n",
    "        labels[i] = struct.unpack_from(fmt_img,bin_read_data,offset)[0]\n",
    "        offset += struct.calcsize(fmt_img)\n",
    "    return labels\n"
   ]
  },
  {
   "cell_type": "markdown",
   "metadata": {},
   "source": [
    "### Data loading"
   ]
  },
  {
   "cell_type": "code",
   "execution_count": 2,
   "metadata": {
    "colab": {
     "base_uri": "https://localhost:8080/"
    },
    "id": "hazyr_1sCvRd",
    "outputId": "ac7827f4-06f2-40c1-989c-5f164b710c02"
   },
   "outputs": [
    {
     "name": "stdout",
     "output_type": "stream",
     "text": [
      "magic number: 2051, number of images: 697932, image size: 28*28\n",
      "16\n",
      ">784B 16 784\n",
      "Decode: 10000\n",
      "7839232\n",
      "Decode: 20000\n",
      "15679232\n",
      "Decode: 30000\n",
      "23519232\n",
      "Decode: 40000\n",
      "31359232\n",
      "Decode: 50000\n",
      "39199232\n",
      "Decode: 60000\n",
      "47039232\n",
      "Decode: 70000\n",
      "54879232\n",
      "Decode: 80000\n",
      "62719232\n",
      "Decode: 90000\n",
      "70559232\n",
      "Decode: 100000\n",
      "78399232\n",
      "Decode: 110000\n",
      "86239232\n",
      "Decode: 120000\n",
      "94079232\n",
      "Decode: 130000\n",
      "101919232\n",
      "Decode: 140000\n",
      "109759232\n",
      "Decode: 150000\n",
      "117599232\n",
      "Decode: 160000\n",
      "125439232\n",
      "Decode: 170000\n",
      "133279232\n",
      "Decode: 180000\n",
      "141119232\n",
      "Decode: 190000\n",
      "148959232\n",
      "Decode: 200000\n",
      "156799232\n",
      "Decode: 210000\n",
      "164639232\n",
      "Decode: 220000\n",
      "172479232\n",
      "Decode: 230000\n",
      "180319232\n",
      "Decode: 240000\n",
      "188159232\n",
      "Decode: 250000\n",
      "195999232\n",
      "Decode: 260000\n",
      "203839232\n",
      "Decode: 270000\n",
      "211679232\n",
      "Decode: 280000\n",
      "219519232\n",
      "Decode: 290000\n",
      "227359232\n",
      "Decode: 300000\n",
      "235199232\n",
      "Decode: 310000\n",
      "243039232\n",
      "Decode: 320000\n",
      "250879232\n",
      "Decode: 330000\n",
      "258719232\n",
      "Decode: 340000\n",
      "266559232\n",
      "Decode: 350000\n",
      "274399232\n",
      "Decode: 360000\n",
      "282239232\n",
      "Decode: 370000\n",
      "290079232\n",
      "Decode: 380000\n",
      "297919232\n",
      "Decode: 390000\n",
      "305759232\n",
      "Decode: 400000\n",
      "313599232\n",
      "Decode: 410000\n",
      "321439232\n",
      "Decode: 420000\n",
      "329279232\n",
      "Decode: 430000\n",
      "337119232\n",
      "Decode: 440000\n",
      "344959232\n",
      "Decode: 450000\n",
      "352799232\n",
      "Decode: 460000\n",
      "360639232\n",
      "Decode: 470000\n",
      "368479232\n",
      "Decode: 480000\n",
      "376319232\n",
      "Decode: 490000\n",
      "384159232\n",
      "Decode: 500000\n",
      "391999232\n",
      "Decode: 510000\n",
      "399839232\n",
      "Decode: 520000\n",
      "407679232\n",
      "Decode: 530000\n",
      "415519232\n",
      "Decode: 540000\n",
      "423359232\n",
      "Decode: 550000\n",
      "431199232\n",
      "Decode: 560000\n",
      "439039232\n",
      "Decode: 570000\n",
      "446879232\n",
      "Decode: 580000\n",
      "454719232\n",
      "Decode: 590000\n",
      "462559232\n",
      "Decode: 600000\n",
      "470399232\n",
      "Decode: 610000\n",
      "478239232\n",
      "Decode: 620000\n",
      "486079232\n",
      "Decode: 630000\n",
      "493919232\n",
      "Decode: 640000\n",
      "501759232\n",
      "Decode: 650000\n",
      "509599232\n",
      "Decode: 660000\n",
      "517439232\n",
      "Decode: 670000\n",
      "525279232\n",
      "Decode: 680000\n",
      "533119232\n",
      "Decode: 690000\n",
      "540959232\n",
      "magic number: 2051, number of images: 116323, image size: 28*28\n",
      "16\n",
      ">784B 16 784\n",
      "Decode: 10000\n",
      "7839232\n",
      "Decode: 20000\n",
      "15679232\n",
      "Decode: 30000\n",
      "23519232\n",
      "Decode: 40000\n",
      "31359232\n",
      "Decode: 50000\n",
      "39199232\n",
      "Decode: 60000\n",
      "47039232\n",
      "Decode: 70000\n",
      "54879232\n",
      "Decode: 80000\n",
      "62719232\n",
      "Decode: 90000\n",
      "70559232\n",
      "Decode: 100000\n",
      "78399232\n",
      "Decode: 110000\n",
      "86239232\n"
     ]
    }
   ],
   "source": [
    "trian_img_raw = decode_idx3_ubyte(train_data_dir)\n",
    "test_img_raw = decode_idx3_ubyte(test_data_dir)"
   ]
  },
  {
   "cell_type": "code",
   "execution_count": 3,
   "metadata": {
    "colab": {
     "base_uri": "https://localhost:8080/"
    },
    "id": "pkbu9jdwCvRd",
    "outputId": "c24dd393-39d0-4557-da9e-c902cc6e8562"
   },
   "outputs": [
    {
     "name": "stdout",
     "output_type": "stream",
     "text": [
      "magic number: 2049, number of images: 697932\n",
      "Decode: 10000\n",
      "Decode: 20000\n",
      "Decode: 30000\n",
      "Decode: 40000\n",
      "Decode: 50000\n",
      "Decode: 60000\n",
      "Decode: 70000\n",
      "Decode: 80000\n",
      "Decode: 90000\n",
      "Decode: 100000\n",
      "Decode: 110000\n",
      "Decode: 120000\n",
      "Decode: 130000\n",
      "Decode: 140000\n",
      "Decode: 150000\n",
      "Decode: 160000\n",
      "Decode: 170000\n",
      "Decode: 180000\n",
      "Decode: 190000\n",
      "Decode: 200000\n",
      "Decode: 210000\n",
      "Decode: 220000\n",
      "Decode: 230000\n",
      "Decode: 240000\n",
      "Decode: 250000\n",
      "Decode: 260000\n",
      "Decode: 270000\n",
      "Decode: 280000\n",
      "Decode: 290000\n",
      "Decode: 300000\n",
      "Decode: 310000\n",
      "Decode: 320000\n",
      "Decode: 330000\n",
      "Decode: 340000\n",
      "Decode: 350000\n",
      "Decode: 360000\n",
      "Decode: 370000\n",
      "Decode: 380000\n",
      "Decode: 390000\n",
      "Decode: 400000\n",
      "Decode: 410000\n",
      "Decode: 420000\n",
      "Decode: 430000\n",
      "Decode: 440000\n",
      "Decode: 450000\n",
      "Decode: 460000\n",
      "Decode: 470000\n",
      "Decode: 480000\n",
      "Decode: 490000\n",
      "Decode: 500000\n",
      "Decode: 510000\n",
      "Decode: 520000\n",
      "Decode: 530000\n",
      "Decode: 540000\n",
      "Decode: 550000\n",
      "Decode: 560000\n",
      "Decode: 570000\n",
      "Decode: 580000\n",
      "Decode: 590000\n",
      "Decode: 600000\n",
      "Decode: 610000\n",
      "Decode: 620000\n",
      "Decode: 630000\n",
      "Decode: 640000\n",
      "Decode: 650000\n",
      "Decode: 660000\n",
      "Decode: 670000\n",
      "Decode: 680000\n",
      "Decode: 690000\n",
      "magic number: 2049, number of images: 116323\n",
      "Decode: 10000\n",
      "Decode: 20000\n",
      "Decode: 30000\n",
      "Decode: 40000\n",
      "Decode: 50000\n",
      "Decode: 60000\n",
      "Decode: 70000\n",
      "Decode: 80000\n",
      "Decode: 90000\n",
      "Decode: 100000\n",
      "Decode: 110000\n"
     ]
    }
   ],
   "source": [
    "train_lab_raw = decode_idx1_ubyte(train_label_dir)\n",
    "test_lab_raw = decode_idx1_ubyte(test_label_dir)"
   ]
  },
  {
   "cell_type": "markdown",
   "metadata": {
    "id": "2lhjPHFCCvRe"
   },
   "source": [
    "## Preprocess data"
   ]
  },
  {
   "cell_type": "markdown",
   "metadata": {},
   "source": [
    "### Scale data"
   ]
  },
  {
   "cell_type": "code",
   "execution_count": 4,
   "metadata": {
    "colab": {
     "base_uri": "https://localhost:8080/"
    },
    "id": "BlCH04zfCvRf",
    "outputId": "a02b9c60-ad6c-41fc-d357-d4e40cec8a4d"
   },
   "outputs": [
    {
     "name": "stdout",
     "output_type": "stream",
     "text": [
      "Shape of X_train:(697932, 28, 28)\n"
     ]
    }
   ],
   "source": [
    "# Scale the data to the range 0-1\n",
    "trian_img_raw = trian_img_raw / 255.\n",
    "test_img_raw =test_img_raw / 255.\n",
    "print('Shape of X_train:{}'.format(trian_img_raw.shape))"
   ]
  },
  {
   "cell_type": "markdown",
   "metadata": {},
   "source": [
    "### View all labels"
   ]
  },
  {
   "cell_type": "code",
   "execution_count": null,
   "metadata": {
    "id": "x8ocD8G2CvRg",
    "outputId": "ca360bbf-08a3-4b47-eeae-4344359be5a3"
   },
   "outputs": [
    {
     "name": "stdout",
     "output_type": "stream",
     "text": [
      "[ 0.  1.  2.  3.  4.  5.  6.  7.  8.  9. 10. 11. 12. 13. 14. 15. 16. 17.\n",
      " 18. 19. 20. 21. 22. 23. 24. 25. 26. 27. 28. 29. 30. 31. 32. 33. 34. 35.\n",
      " 36. 37. 38. 39. 40. 41. 42. 43. 44. 45. 46. 47. 48. 49. 50. 51. 52. 53.\n",
      " 54. 55. 56. 57. 58. 59. 60. 61.]\n"
     ]
    }
   ],
   "source": [
    "print(np.unique(train_lab_raw))"
   ]
  },
  {
   "cell_type": "markdown",
   "metadata": {},
   "source": [
    "### Split training set into training set and validation set"
   ]
  },
  {
   "cell_type": "code",
   "execution_count": 6,
   "metadata": {
    "id": "NeT3jcVICvRg"
   },
   "outputs": [],
   "source": [
    "X_train, X_val, y_train, y_val = train_test_split(trian_img_raw,train_lab_raw,random_state=42)"
   ]
  },
  {
   "cell_type": "code",
   "execution_count": 7,
   "metadata": {
    "colab": {
     "base_uri": "https://localhost:8080/"
    },
    "id": "EcDCMOW3CvRh",
    "outputId": "d709e3e5-e5ec-4d32-e475-0585c9f1bad5"
   },
   "outputs": [
    {
     "name": "stdout",
     "output_type": "stream",
     "text": [
      "New shape of X_train: (523449, 28, 28, 1)\n"
     ]
    }
   ],
   "source": [
    "# Add an extra dimension to our data\n",
    "X_train_sc = np.expand_dims(X_train, -1)\n",
    "X_val_sc = np.expand_dims(X_val, -1)\n",
    "X_test_sc = np.expand_dims(test_img_raw, -1)\n",
    "\n",
    "print(f\"New shape of X_train: {X_train_sc.shape}\")"
   ]
  },
  {
   "cell_type": "markdown",
   "metadata": {
    "id": "dajpi-hlCvRh"
   },
   "source": [
    "## CNN model using Keras"
   ]
  },
  {
   "cell_type": "markdown",
   "metadata": {
    "id": "qGFbmyx9CvRi"
   },
   "source": [
    "##### Baseline CNN model [CONV-POOL-CONV-POOL-FC-FC]"
   ]
  },
  {
   "cell_type": "code",
   "execution_count": 7,
   "metadata": {},
   "outputs": [
    {
     "name": "stderr",
     "output_type": "stream",
     "text": [
      "2022-05-14 17:09:16.683296: I tensorflow/core/platform/cpu_feature_guard.cc:151] This TensorFlow binary is optimized with oneAPI Deep Neural Network Library (oneDNN) to use the following CPU instructions in performance-critical operations:  AVX2 FMA\n",
      "To enable them in other operations, rebuild TensorFlow with the appropriate compiler flags.\n"
     ]
    },
    {
     "name": "stdout",
     "output_type": "stream",
     "text": [
      "Epoch 1/10\n",
      "4090/4090 [==============================] - 167s 41ms/step - loss: 2.1685 - accuracy: 0.4850 - val_loss: 1.3110 - val_accuracy: 0.6446\n",
      "Epoch 2/10\n",
      "4090/4090 [==============================] - 154s 38ms/step - loss: 1.1458 - accuracy: 0.6791 - val_loss: 1.0054 - val_accuracy: 0.7105\n",
      "Epoch 3/10\n",
      "4090/4090 [==============================] - 155s 38ms/step - loss: 0.9405 - accuracy: 0.7257 - val_loss: 0.8641 - val_accuracy: 0.7443\n",
      "Epoch 4/10\n",
      "4090/4090 [==============================] - 157s 38ms/step - loss: 0.8277 - accuracy: 0.7519 - val_loss: 0.7774 - val_accuracy: 0.7644\n",
      "Epoch 5/10\n",
      "4090/4090 [==============================] - 155s 38ms/step - loss: 0.7570 - accuracy: 0.7690 - val_loss: 0.7220 - val_accuracy: 0.7788\n",
      "Epoch 6/10\n",
      "4090/4090 [==============================] - 162s 40ms/step - loss: 0.7090 - accuracy: 0.7803 - val_loss: 0.6856 - val_accuracy: 0.7855\n",
      "Epoch 7/10\n",
      "4090/4090 [==============================] - 157s 38ms/step - loss: 0.6740 - accuracy: 0.7890 - val_loss: 0.6554 - val_accuracy: 0.7919\n",
      "Epoch 8/10\n",
      "4090/4090 [==============================] - 158s 39ms/step - loss: 0.6470 - accuracy: 0.7953 - val_loss: 0.6287 - val_accuracy: 0.8002\n",
      "Epoch 9/10\n",
      "4090/4090 [==============================] - 156s 38ms/step - loss: 0.6253 - accuracy: 0.8006 - val_loss: 0.6160 - val_accuracy: 0.8021\n",
      "Epoch 10/10\n",
      "4090/4090 [==============================] - 177s 43ms/step - loss: 0.6074 - accuracy: 0.8052 - val_loss: 0.5953 - val_accuracy: 0.8084\n"
     ]
    }
   ],
   "source": [
    "model = keras.Sequential([   \n",
    "    # Specify the input shape\n",
    "    keras.Input(shape=(28, 28, 1)),\n",
    "    keras.layers.Conv2D(16,kernel_size=(5,5),activation='relu'),\n",
    "    keras.layers.MaxPooling2D(2,2),\n",
    "    keras.layers.Conv2D(32,kernel_size=(5,5),activation='relu'),\n",
    "    keras.layers.MaxPooling2D(2,2),\n",
    "    keras.layers.Flatten(input_shape=(28,28,1)),\n",
    "    keras.layers.Dense(512,activation='relu'),\n",
    "    keras.layers.Dense(128,activation='relu'),\n",
    "    keras.layers.Dense(62,activation='softmax')\n",
    "])\n",
    "\n",
    "# Compile model with loss, optimiser, and metrics\n",
    "model.compile(loss='sparse_categorical_crossentropy',\n",
    "              optimizer=tf.keras.optimizers.Adam(learning_rate=0.00001),\n",
    "              metrics=['accuracy'])\n",
    "\n",
    "\n",
    "# Train the model for 10 epochs with batch size 128\n",
    "batch_size = 128\n",
    "epochs = 10\n",
    "history = model.fit(X_train_sc, y_train, batch_size=batch_size,\n",
    "                    epochs=epochs, validation_data=(X_val_sc, y_val))"
   ]
  },
  {
   "cell_type": "code",
   "execution_count": 8,
   "metadata": {},
   "outputs": [
    {
     "data": {
      "image/png": "[encoded data removed]",
      "text/plain": [
       "<Figure size 576x360 with 1 Axes>"
      ]
     },
     "metadata": {
      "needs_background": "light"
     },
     "output_type": "display_data"
    }
   ],
   "source": [
    "accuracies = pd.DataFrame(history.history)[['accuracy','val_accuracy']]\n",
    "accuracies.plot(figsize=(8,5))\n",
    "plt.grid(True)\n",
    "plt.gca().set_ylim(0.6,0.9)\n",
    "plt.xlabel('Epoch')\n",
    "plt.show()"
   ]
  },
  {
   "cell_type": "markdown",
   "metadata": {
    "id": "n5yqQbZcCvRk"
   },
   "source": [
    "##### Use sklearn grid search to turn neurons"
   ]
  },
  {
   "cell_type": "code",
   "execution_count": null,
   "metadata": {
    "id": "2iw1iwwzCvRl",
    "outputId": "673a4793-1e84-44cd-c27d-f9f145b4de17"
   },
   "outputs": [
    {
     "name": "stdout",
     "output_type": "stream",
     "text": [
      "Fitting 3 folds for each of 3 candidates, totalling 9 fits\n",
      "Epoch 1/10\n",
      "10906/10906 [==============================] - 126s 12ms/step - loss: 0.8423 - accuracy: 0.7468\n",
      "Epoch 2/10\n",
      "10906/10906 [==============================] - 122s 11ms/step - loss: 0.5004 - accuracy: 0.8278\n",
      "Epoch 3/10\n",
      "10906/10906 [==============================] - 109s 10ms/step - loss: 0.4445 - accuracy: 0.8427\n",
      "Epoch 4/10\n",
      "10906/10906 [==============================] - 108s 10ms/step - loss: 0.4157 - accuracy: 0.8509\n",
      "Epoch 5/10\n",
      "10906/10906 [==============================] - 107s 10ms/step - loss: 0.3962 - accuracy: 0.8562\n",
      "Epoch 6/10\n",
      "10906/10906 [==============================] - 108s 10ms/step - loss: 0.3814 - accuracy: 0.8607\n",
      "Epoch 7/10\n",
      "10906/10906 [==============================] - 110s 10ms/step - loss: 0.3696 - accuracy: 0.8637\n",
      "Epoch 8/10\n",
      "10906/10906 [==============================] - 107s 10ms/step - loss: 0.3592 - accuracy: 0.8662\n",
      "Epoch 9/10\n",
      "10906/10906 [==============================] - 106s 10ms/step - loss: 0.3505 - accuracy: 0.8686\n",
      "Epoch 10/10\n",
      "10906/10906 [==============================] - 108s 10ms/step - loss: 0.3426 - accuracy: 0.8714\n",
      "5453/5453 [==============================] - 17s 3ms/step\n",
      "[CV] END ..........................n_hidden_neurons=[16, 32]; total time=19.1min\n",
      "Epoch 1/10\n",
      "10906/10906 [==============================] - 119s 10ms/step - loss: 0.8445 - accuracy: 0.7481\n",
      "Epoch 2/10\n",
      "10906/10906 [==============================] - 106s 10ms/step - loss: 0.4933 - accuracy: 0.8292\n",
      "Epoch 3/10\n",
      "10906/10906 [==============================] - 107s 10ms/step - loss: 0.4397 - accuracy: 0.8436\n",
      "Epoch 4/10\n",
      "10906/10906 [==============================] - 107s 10ms/step - loss: 0.4121 - accuracy: 0.8513\n",
      "Epoch 5/10\n",
      "10906/10906 [==============================] - 107s 10ms/step - loss: 0.3932 - accuracy: 0.8568\n",
      "Epoch 6/10\n",
      "10906/10906 [==============================] - 119s 11ms/step - loss: 0.3792 - accuracy: 0.8605\n",
      "Epoch 7/10\n",
      "10906/10906 [==============================] - 109s 10ms/step - loss: 0.3676 - accuracy: 0.8635\n",
      "Epoch 8/10\n",
      "10906/10906 [==============================] - 107s 10ms/step - loss: 0.3570 - accuracy: 0.8667\n",
      "Epoch 9/10\n",
      "10906/10906 [==============================] - 108s 10ms/step - loss: 0.3485 - accuracy: 0.8690\n",
      "Epoch 10/10\n",
      "10906/10906 [==============================] - 109s 10ms/step - loss: 0.3404 - accuracy: 0.8714\n",
      "5453/5453 [==============================] - 16s 3ms/step\n",
      "[CV] END ..........................n_hidden_neurons=[16, 32]; total time=18.9min\n",
      "Epoch 1/10\n",
      "10906/10906 [==============================] - 115s 10ms/step - loss: 0.8586 - accuracy: 0.7435\n",
      "Epoch 2/10\n",
      "10906/10906 [==============================] - 110s 10ms/step - loss: 0.5029 - accuracy: 0.8269\n",
      "Epoch 3/10\n",
      "10906/10906 [==============================] - 112s 10ms/step - loss: 0.4468 - accuracy: 0.8416\n",
      "Epoch 4/10\n",
      "10906/10906 [==============================] - 120s 11ms/step - loss: 0.4174 - accuracy: 0.8499\n",
      "Epoch 5/10\n",
      "10906/10906 [==============================] - 107s 10ms/step - loss: 0.3980 - accuracy: 0.8548\n",
      "Epoch 6/10\n",
      "10906/10906 [==============================] - 108s 10ms/step - loss: 0.3834 - accuracy: 0.8590\n",
      "Epoch 7/10\n",
      "10906/10906 [==============================] - 109s 10ms/step - loss: 0.3711 - accuracy: 0.8626\n",
      "Epoch 8/10\n",
      "10906/10906 [==============================] - 111s 10ms/step - loss: 0.3609 - accuracy: 0.8656\n",
      "Epoch 9/10\n",
      "10906/10906 [==============================] - 125s 11ms/step - loss: 0.3514 - accuracy: 0.8679\n",
      "Epoch 10/10\n",
      "10906/10906 [==============================] - 114s 10ms/step - loss: 0.3431 - accuracy: 0.8702\n",
      "5453/5453 [==============================] - 20s 4ms/step\n",
      "[CV] END ..........................n_hidden_neurons=[16, 32]; total time=19.5min\n",
      "Epoch 1/10\n",
      "10906/10906 [==============================] - 183s 17ms/step - loss: 0.8304 - accuracy: 0.7496\n",
      "Epoch 2/10\n",
      "10906/10906 [==============================] - 182s 17ms/step - loss: 0.4898 - accuracy: 0.8309\n",
      "Epoch 3/10\n",
      "10906/10906 [==============================] - 175s 16ms/step - loss: 0.4355 - accuracy: 0.8448\n",
      "Epoch 4/10\n",
      "10906/10906 [==============================] - 168s 15ms/step - loss: 0.4080 - accuracy: 0.8532\n",
      "Epoch 5/10\n",
      "10906/10906 [==============================] - 165s 15ms/step - loss: 0.3887 - accuracy: 0.8583\n",
      "Epoch 6/10\n",
      "10906/10906 [==============================] - 172s 16ms/step - loss: 0.3743 - accuracy: 0.8623\n",
      "Epoch 7/10\n",
      "10906/10906 [==============================] - 177s 16ms/step - loss: 0.3629 - accuracy: 0.8650\n",
      "Epoch 8/10\n",
      "10906/10906 [==============================] - 183s 17ms/step - loss: 0.3527 - accuracy: 0.8685\n",
      "Epoch 9/10\n",
      "10906/10906 [==============================] - 181s 17ms/step - loss: 0.3439 - accuracy: 0.8708\n",
      "Epoch 10/10\n",
      "10906/10906 [==============================] - 180s 16ms/step - loss: 0.3357 - accuracy: 0.8728\n",
      "5453/5453 [==============================] - 26s 5ms/step\n",
      "[CV] END ..........................n_hidden_neurons=[32, 64]; total time=30.2min\n",
      "Epoch 1/10\n",
      "10906/10906 [==============================] - 191s 17ms/step - loss: 0.8338 - accuracy: 0.7499\n",
      "Epoch 2/10\n",
      "10906/10906 [==============================] - 180s 17ms/step - loss: 0.4876 - accuracy: 0.8310\n",
      "Epoch 3/10\n",
      "10906/10906 [==============================] - 176s 16ms/step - loss: 0.4346 - accuracy: 0.8449\n",
      "Epoch 4/10\n",
      "10906/10906 [==============================] - 176s 16ms/step - loss: 0.4071 - accuracy: 0.8527\n",
      "Epoch 5/10\n",
      "10906/10906 [==============================] - 171s 16ms/step - loss: 0.3877 - accuracy: 0.8580\n",
      "Epoch 6/10\n",
      "10906/10906 [==============================] - 176s 16ms/step - loss: 0.3736 - accuracy: 0.8618\n",
      "Epoch 7/10\n",
      "10906/10906 [==============================] - 181s 17ms/step - loss: 0.3620 - accuracy: 0.8655\n",
      "Epoch 8/10\n",
      "10906/10906 [==============================] - 181s 17ms/step - loss: 0.3513 - accuracy: 0.8683\n",
      "Epoch 9/10\n",
      "10906/10906 [==============================] - 182s 17ms/step - loss: 0.3426 - accuracy: 0.8707\n",
      "Epoch 10/10\n",
      "10906/10906 [==============================] - 182s 17ms/step - loss: 0.3344 - accuracy: 0.8731\n",
      "5453/5453 [==============================] - 26s 5ms/step\n",
      "[CV] END ..........................n_hidden_neurons=[32, 64]; total time=30.8min\n",
      "Epoch 1/10\n",
      "10906/10906 [==============================] - 186s 17ms/step - loss: 0.8266 - accuracy: 0.7505\n",
      "Epoch 2/10\n",
      "10906/10906 [==============================] - 180s 17ms/step - loss: 0.4896 - accuracy: 0.8299\n",
      "Epoch 3/10\n",
      "10906/10906 [==============================] - 175s 16ms/step - loss: 0.4373 - accuracy: 0.8444\n",
      "Epoch 4/10\n",
      "10906/10906 [==============================] - 182s 17ms/step - loss: 0.4095 - accuracy: 0.8522\n",
      "Epoch 5/10\n",
      "10906/10906 [==============================] - 175s 16ms/step - loss: 0.3908 - accuracy: 0.8573\n",
      "Epoch 6/10\n",
      "10906/10906 [==============================] - 165s 15ms/step - loss: 0.3765 - accuracy: 0.8615\n",
      "Epoch 7/10\n",
      "10906/10906 [==============================] - 164s 15ms/step - loss: 0.3646 - accuracy: 0.8644\n",
      "Epoch 8/10\n",
      "10906/10906 [==============================] - 164s 15ms/step - loss: 0.3542 - accuracy: 0.8675\n",
      "Epoch 9/10\n",
      "10906/10906 [==============================] - 171s 16ms/step - loss: 0.3449 - accuracy: 0.8700\n",
      "Epoch 10/10\n",
      "10906/10906 [==============================] - 174s 16ms/step - loss: 0.3366 - accuracy: 0.8721\n",
      "5453/5453 [==============================] - 24s 4ms/step\n",
      "[CV] END ..........................n_hidden_neurons=[32, 64]; total time=29.7min\n",
      "Epoch 1/10\n",
      "10906/10906 [==============================] - 131s 12ms/step - loss: 0.8568 - accuracy: 0.7440\n",
      "Epoch 2/10\n",
      "10906/10906 [==============================] - 128s 12ms/step - loss: 0.4968 - accuracy: 0.8289\n",
      "Epoch 3/10\n",
      "10906/10906 [==============================] - 128s 12ms/step - loss: 0.4425 - accuracy: 0.8437\n",
      "Epoch 4/10\n",
      "10906/10906 [==============================] - 127s 12ms/step - loss: 0.4141 - accuracy: 0.8510\n",
      "Epoch 5/10\n",
      "10906/10906 [==============================] - 134s 12ms/step - loss: 0.3941 - accuracy: 0.8570\n",
      "Epoch 6/10\n",
      "10906/10906 [==============================] - 137s 13ms/step - loss: 0.3794 - accuracy: 0.8607\n",
      "Epoch 7/10\n",
      "10906/10906 [==============================] - 136s 12ms/step - loss: 0.3671 - accuracy: 0.8637\n",
      "Epoch 8/10\n",
      "10906/10906 [==============================] - 137s 13ms/step - loss: 0.3564 - accuracy: 0.8669\n",
      "Epoch 9/10\n",
      "10906/10906 [==============================] - 136s 12ms/step - loss: 0.3470 - accuracy: 0.8700\n",
      "Epoch 10/10\n",
      "10906/10906 [==============================] - 137s 13ms/step - loss: 0.3382 - accuracy: 0.8722\n",
      "5453/5453 [==============================] - 19s 3ms/step\n",
      "[CV] END ..........................n_hidden_neurons=[16, 64]; total time=22.8min\n",
      "Epoch 1/10\n",
      "10906/10906 [==============================] - 142s 13ms/step - loss: 0.8205 - accuracy: 0.7520\n",
      "Epoch 2/10\n",
      "10906/10906 [==============================] - 139s 13ms/step - loss: 0.4900 - accuracy: 0.8300\n",
      "Epoch 3/10\n",
      "10906/10906 [==============================] - 136s 13ms/step - loss: 0.4366 - accuracy: 0.8450\n",
      "Epoch 4/10\n",
      "10906/10906 [==============================] - 136s 12ms/step - loss: 0.4092 - accuracy: 0.8518\n",
      "Epoch 5/10\n",
      "10906/10906 [==============================] - 139s 13ms/step - loss: 0.3903 - accuracy: 0.8573\n",
      "Epoch 6/10\n",
      "10906/10906 [==============================] - 138s 13ms/step - loss: 0.3763 - accuracy: 0.8615\n",
      "Epoch 7/10\n",
      "10906/10906 [==============================] - 138s 13ms/step - loss: 0.3649 - accuracy: 0.8643\n",
      "Epoch 8/10\n",
      "10906/10906 [==============================] - 137s 13ms/step - loss: 0.3545 - accuracy: 0.8672\n",
      "Epoch 9/10\n",
      "10906/10906 [==============================] - 129s 12ms/step - loss: 0.3455 - accuracy: 0.8699\n",
      "Epoch 10/10\n",
      "10906/10906 [==============================] - 129s 12ms/step - loss: 0.3376 - accuracy: 0.8726\n",
      "5453/5453 [==============================] - 17s 3ms/step\n",
      "[CV] END ..........................n_hidden_neurons=[16, 64]; total time=23.4min\n",
      "Epoch 1/10\n",
      "10906/10906 [==============================] - 131s 12ms/step - loss: 0.8350 - accuracy: 0.7493\n",
      "Epoch 2/10\n",
      "10906/10906 [==============================] - 130s 12ms/step - loss: 0.4882 - accuracy: 0.8303\n",
      "Epoch 3/10\n",
      "10906/10906 [==============================] - 130s 12ms/step - loss: 0.4364 - accuracy: 0.8443\n",
      "Epoch 4/10\n",
      "10906/10906 [==============================] - 130s 12ms/step - loss: 0.4090 - accuracy: 0.8524\n",
      "Epoch 5/10\n",
      "10906/10906 [==============================] - 131s 12ms/step - loss: 0.3909 - accuracy: 0.8575\n",
      "Epoch 6/10\n",
      "10906/10906 [==============================] - 130s 12ms/step - loss: 0.3765 - accuracy: 0.8617\n",
      "Epoch 7/10\n",
      "10906/10906 [==============================] - 126s 12ms/step - loss: 0.3645 - accuracy: 0.8647\n",
      "Epoch 8/10\n",
      "10906/10906 [==============================] - 127s 12ms/step - loss: 0.3544 - accuracy: 0.8672\n",
      "Epoch 9/10\n",
      "10906/10906 [==============================] - 128s 12ms/step - loss: 0.3452 - accuracy: 0.8702\n",
      "Epoch 10/10\n",
      "10906/10906 [==============================] - 130s 12ms/step - loss: 0.3372 - accuracy: 0.8723\n",
      "5453/5453 [==============================] - 18s 3ms/step\n",
      "[CV] END ..........................n_hidden_neurons=[16, 64]; total time=22.1min\n",
      "Epoch 1/10\n",
      "16358/16358 [==============================] - 255s 16ms/step - loss: 0.7200 - accuracy: 0.7753\n",
      "Epoch 2/10\n",
      "16358/16358 [==============================] - 285s 17ms/step - loss: 0.4534 - accuracy: 0.8405\n",
      "Epoch 3/10\n",
      "16358/16358 [==============================] - 266s 16ms/step - loss: 0.4124 - accuracy: 0.8514\n",
      "Epoch 4/10\n",
      "16358/16358 [==============================] - 271s 17ms/step - loss: 0.3899 - accuracy: 0.8579\n",
      "Epoch 5/10\n",
      "16358/16358 [==============================] - 268s 16ms/step - loss: 0.3744 - accuracy: 0.8617\n",
      "Epoch 6/10\n",
      "16358/16358 [==============================] - 270s 16ms/step - loss: 0.3620 - accuracy: 0.8658\n",
      "Epoch 7/10\n",
      "16358/16358 [==============================] - 265s 16ms/step - loss: 0.3525 - accuracy: 0.8680\n",
      "Epoch 8/10\n",
      "16358/16358 [==============================] - 256s 16ms/step - loss: 0.3439 - accuracy: 0.8703\n",
      "Epoch 9/10\n",
      "16358/16358 [==============================] - 244s 15ms/step - loss: 0.3361 - accuracy: 0.8730\n",
      "Epoch 10/10\n",
      "16358/16358 [==============================] - 247s 15ms/step - loss: 0.3292 - accuracy: 0.8747\n",
      "{'n_hidden_neurons': [32, 64]}\n"
     ]
    }
   ],
   "source": [
    "def build_cnn(n_hidden_neurons= [16,32,64]):\n",
    "    \"\"\"Build a Keras MLP for 62 class classification with desired parameters.\"\"\"\n",
    "    \n",
    "    model = keras.models.Sequential()\n",
    "    model.add(keras.Input(shape=(28, 28, 1))),\n",
    "    model.add(keras.layers.Conv2D(n_hidden_neurons[0],5))\n",
    "    model.add(keras.layers.MaxPooling2D(2,2))\n",
    "    model.add(keras.layers.Conv2D(n_hidden_neurons[1],5))\n",
    "    model.add(keras.layers.MaxPooling2D(2,2))\n",
    "    model.add(keras.layers.Flatten(input_shape=(28,28,1)))\n",
    "    model.add(keras.layers.Dense(512, activation=\"relu\"))\n",
    "    model.add(keras.layers.Dense(128, activation=\"relu\"))\n",
    "    model.add(keras.layers.Dense(62, activation=\"softmax\"))\n",
    "    model.compile(loss=\"sparse_categorical_crossentropy\",\n",
    "                                   optimizer=\"sgd\",\n",
    "                                   metrics=[\"accuracy\"])\n",
    "                                \n",
    "    return model\n",
    "\n",
    "\n",
    "keras_classifier = KerasClassifier(build_cnn,\n",
    "                                    epochs=1,\n",
    "                                    n_hidden_neurons = [16,32]\n",
    "                                  )\n",
    "\n",
    "\n",
    "param_grid = {'n_hidden_neurons': [[16,32],[32,64],[16,64]]}\n",
    "grid_search_cv = GridSearchCV(keras_classifier, param_grid, cv=3, verbose=2)\n",
    "grid_search_cv.fit(X_train, y_train, epochs=10)\n",
    "print(grid_search_cv.best_params_)\n",
    "best_model = grid_search_cv.best_estimator_.model"
   ]
  },
  {
   "cell_type": "code",
   "execution_count": null,
   "metadata": {
    "id": "Vqi6M0aXCvRl",
    "outputId": "b7082b26-2b79-4bb7-e37f-630f23440a4e"
   },
   "outputs": [
    {
     "name": "stdout",
     "output_type": "stream",
     "text": [
      "0.85305 (+/-0.006) for {'n_hidden_neurons': [16, 32]}\n",
      "0.85503 (+/-0.003) for {'n_hidden_neurons': [32, 64]}\n",
      "0.85337 (+/-0.006) for {'n_hidden_neurons': [16, 64]}\n",
      "Best parameters:  {'n_hidden_neurons': [32, 64]}\n"
     ]
    }
   ],
   "source": [
    "means = grid_search_cv.cv_results_['mean_test_score']\n",
    "stds = grid_search_cv.cv_results_['std_test_score']\n",
    "for mean, std, params in zip(means, stds, grid_search_cv.cv_results_['params']):\n",
    "    print(\"%0.5f (+/-%0.03f) for %r\" % (mean, std * 2, params))\n",
    "print('Best parameters: ', grid_search_cv.best_params_)\n",
    "best_model = grid_search_cv.best_estimator_.model"
   ]
  },
  {
   "cell_type": "markdown",
   "metadata": {},
   "source": [
    "##### view current model performance"
   ]
  },
  {
   "cell_type": "code",
   "execution_count": null,
   "metadata": {
    "id": "9rWJfua6CvRl",
    "outputId": "f8845191-b6b4-4003-a799-41e02f0fe574"
   },
   "outputs": [
    {
     "name": "stdout",
     "output_type": "stream",
     "text": [
      "Epoch 1/10\n",
      "4090/4090 [==============================] - 204s 50ms/step - loss: 1.1259 - accuracy: 0.6892 - val_loss: 0.6779 - val_accuracy: 0.7820\n",
      "Epoch 2/10\n",
      "4090/4090 [==============================] - 192s 47ms/step - loss: 0.5882 - accuracy: 0.8073 - val_loss: 0.5604 - val_accuracy: 0.8119\n",
      "Epoch 3/10\n",
      "4090/4090 [==============================] - 197s 48ms/step - loss: 0.5091 - accuracy: 0.8267 - val_loss: 0.4986 - val_accuracy: 0.8287\n",
      "Epoch 4/10\n",
      "4090/4090 [==============================] - 189s 46ms/step - loss: 0.4693 - accuracy: 0.8376 - val_loss: 0.4699 - val_accuracy: 0.8350\n",
      "Epoch 5/10\n",
      "4090/4090 [==============================] - 189s 46ms/step - loss: 0.4449 - accuracy: 0.8442 - val_loss: 0.4472 - val_accuracy: 0.8439\n",
      "Epoch 6/10\n",
      "4090/4090 [==============================] - 201s 49ms/step - loss: 0.4271 - accuracy: 0.8488 - val_loss: 0.4424 - val_accuracy: 0.8439\n",
      "Epoch 7/10\n",
      "4090/4090 [==============================] - 186s 45ms/step - loss: 0.4139 - accuracy: 0.8522 - val_loss: 0.4346 - val_accuracy: 0.8449\n",
      "Epoch 8/10\n",
      "4090/4090 [==============================] - 188s 46ms/step - loss: 0.4033 - accuracy: 0.8548 - val_loss: 0.4268 - val_accuracy: 0.8472\n",
      "Epoch 9/10\n",
      "4090/4090 [==============================] - 183s 45ms/step - loss: 0.3942 - accuracy: 0.8578 - val_loss: 0.4266 - val_accuracy: 0.8482\n",
      "Epoch 10/10\n",
      "4090/4090 [==============================] - 181s 44ms/step - loss: 0.3867 - accuracy: 0.8597 - val_loss: 0.4170 - val_accuracy: 0.8505\n"
     ]
    }
   ],
   "source": [
    "CNN_model_2 = keras.Sequential([\n",
    "    keras.Input(shape=(28, 28, 1)),\n",
    "    keras.layers.Conv2D(32,kernel_size=(5,5),activation='relu'),\n",
    "    keras.layers.MaxPooling2D(2,2),\n",
    "    keras.layers.Conv2D(64,kernel_size=(5,5),activation='relu'),\n",
    "    keras.layers.MaxPooling2D(2,2),\n",
    "    keras.layers.Flatten(),\n",
    "    keras.layers.Dense(512,activation='relu'),\n",
    "    keras.layers.Dense(128,activation='relu'),\n",
    "    keras.layers.Dense(62,activation='softmax')\n",
    "\n",
    "])\n",
    "\n",
    "CNN_model_2.compile(loss='sparse_categorical_crossentropy',\n",
    "              optimizer=\"sgd\",\n",
    "              metrics=['accuracy'])\n",
    "\n",
    "# Train the model for 10 epochs with batch size 128\n",
    "batch_size = 128\n",
    "epochs = 10\n",
    "history = CNN_model_2.fit(X_train_sc, y_train, batch_size=batch_size,\n",
    "                    epochs=epochs, validation_data=(X_val_sc, y_val))"
   ]
  },
  {
   "cell_type": "code",
   "execution_count": null,
   "metadata": {
    "id": "3gMqlaTlCvRm",
    "outputId": "8eab6e9c-921a-432f-92d1-10195f6043b3"
   },
   "outputs": [
    {
     "data": {
      "image/png": "[encoded data removed]",
      "text/plain": [
       "<Figure size 576x360 with 1 Axes>"
      ]
     },
     "metadata": {
      "needs_background": "light"
     },
     "output_type": "display_data"
    }
   ],
   "source": [
    "accuracies = pd.DataFrame(history.history)[['accuracy','val_accuracy']]\n",
    "accuracies.plot(figsize=(8,5))\n",
    "plt.grid(True)\n",
    "plt.gca().set_ylim(0.6,0.9)\n",
    "plt.xlabel('Epoch')\n",
    "plt.show()"
   ]
  },
  {
   "cell_type": "markdown",
   "metadata": {
    "id": "3uLxGf17CvRm"
   },
   "source": [
    "##### Use sklearn grid search to choose the best optimizer"
   ]
  },
  {
   "cell_type": "code",
   "execution_count": null,
   "metadata": {
    "id": "NdQgR9-QCvRm",
    "outputId": "16efccef-5789-4009-a07a-407c02f77238"
   },
   "outputs": [
    {
     "name": "stdout",
     "output_type": "stream",
     "text": [
      "Fitting 3 folds for each of 3 candidates, totalling 9 fits\n",
      "Epoch 1/10\n",
      "10906/10906 [==============================] - 157s 14ms/step - loss: 1.1844 - accuracy: 0.6581\n",
      "Epoch 2/10\n",
      "10906/10906 [==============================] - 158s 15ms/step - loss: 0.6206 - accuracy: 0.7921\n",
      "Epoch 3/10\n",
      "10906/10906 [==============================] - 134s 12ms/step - loss: 0.5416 - accuracy: 0.8134\n",
      "Epoch 4/10\n",
      "10906/10906 [==============================] - 131s 12ms/step - loss: 0.5030 - accuracy: 0.8238\n",
      "Epoch 5/10\n",
      "10906/10906 [==============================] - 132s 12ms/step - loss: 0.4778 - accuracy: 0.8306\n",
      "Epoch 6/10\n",
      "10906/10906 [==============================] - 131s 12ms/step - loss: 0.4587 - accuracy: 0.8365\n",
      "Epoch 7/10\n",
      "10906/10906 [==============================] - 133s 12ms/step - loss: 0.4449 - accuracy: 0.8398\n",
      "Epoch 8/10\n",
      "10906/10906 [==============================] - 131s 12ms/step - loss: 0.4333 - accuracy: 0.8439\n",
      "Epoch 9/10\n",
      "10906/10906 [==============================] - 131s 12ms/step - loss: 0.4236 - accuracy: 0.8468\n",
      "Epoch 10/10\n",
      "10906/10906 [==============================] - 132s 12ms/step - loss: 0.4155 - accuracy: 0.8486\n",
      "5453/5453 [==============================] - 18s 3ms/step\n",
      "[CV] END ......................................optimizer=SGD; total time=23.5min\n",
      "Epoch 1/10\n",
      "10906/10906 [==============================] - 140s 13ms/step - loss: 1.2224 - accuracy: 0.6489\n",
      "Epoch 2/10\n",
      "10906/10906 [==============================] - 132s 12ms/step - loss: 0.6186 - accuracy: 0.7916\n",
      "Epoch 3/10\n",
      "10906/10906 [==============================] - 133s 12ms/step - loss: 0.5387 - accuracy: 0.8138\n",
      "Epoch 4/10\n",
      "10906/10906 [==============================] - 133s 12ms/step - loss: 0.5000 - accuracy: 0.8253\n",
      "Epoch 5/10\n",
      "10906/10906 [==============================] - 129s 12ms/step - loss: 0.4749 - accuracy: 0.8317\n",
      "Epoch 6/10\n",
      "10906/10906 [==============================] - 142s 13ms/step - loss: 0.4571 - accuracy: 0.8371\n",
      "Epoch 7/10\n",
      "10906/10906 [==============================] - 143s 13ms/step - loss: 0.4434 - accuracy: 0.8408\n",
      "Epoch 8/10\n",
      "10906/10906 [==============================] - 139s 13ms/step - loss: 0.4323 - accuracy: 0.8441\n",
      "Epoch 9/10\n",
      "10906/10906 [==============================] - 141s 13ms/step - loss: 0.4226 - accuracy: 0.8470\n",
      "Epoch 10/10\n",
      "10906/10906 [==============================] - 147s 13ms/step - loss: 0.4142 - accuracy: 0.8494\n",
      "5453/5453 [==============================] - 19s 3ms/step\n",
      "[CV] END ......................................optimizer=SGD; total time=23.6min\n",
      "Epoch 1/10\n",
      "10906/10906 [==============================] - 175s 16ms/step - loss: 1.2017 - accuracy: 0.6531\n",
      "Epoch 2/10\n",
      "10906/10906 [==============================] - 155s 14ms/step - loss: 0.6218 - accuracy: 0.7908\n",
      "Epoch 3/10\n",
      "10906/10906 [==============================] - 152s 14ms/step - loss: 0.5403 - accuracy: 0.8133\n",
      "Epoch 4/10\n",
      "10906/10906 [==============================] - 153s 14ms/step - loss: 0.5009 - accuracy: 0.8251\n",
      "Epoch 5/10\n",
      "10906/10906 [==============================] - 142s 13ms/step - loss: 0.4762 - accuracy: 0.8313\n",
      "Epoch 6/10\n",
      "10906/10906 [==============================] - 144s 13ms/step - loss: 0.4584 - accuracy: 0.8368\n",
      "Epoch 7/10\n",
      "10906/10906 [==============================] - 143s 13ms/step - loss: 0.4440 - accuracy: 0.8403\n",
      "Epoch 8/10\n",
      "10906/10906 [==============================] - 142s 13ms/step - loss: 0.4329 - accuracy: 0.8436\n",
      "Epoch 9/10\n",
      "10906/10906 [==============================] - 139s 13ms/step - loss: 0.4232 - accuracy: 0.8464\n",
      "Epoch 10/10\n",
      "10906/10906 [==============================] - 140s 13ms/step - loss: 0.4149 - accuracy: 0.8488\n",
      "5453/5453 [==============================] - 20s 4ms/step\n",
      "[CV] END ......................................optimizer=SGD; total time=25.4min\n",
      "Epoch 1/10\n",
      "10906/10906 [==============================] - 144s 13ms/step - loss: 1.2301 - accuracy: 0.6485\n",
      "Epoch 2/10\n",
      "10906/10906 [==============================] - 140s 13ms/step - loss: 0.6286 - accuracy: 0.7894\n",
      "Epoch 3/10\n",
      "10906/10906 [==============================] - 137s 13ms/step - loss: 0.5466 - accuracy: 0.8118\n",
      "Epoch 4/10\n",
      "10906/10906 [==============================] - 137s 13ms/step - loss: 0.5058 - accuracy: 0.8227\n",
      "Epoch 5/10\n",
      "10906/10906 [==============================] - 143s 13ms/step - loss: 0.4794 - accuracy: 0.8304\n",
      "Epoch 6/10\n",
      "10906/10906 [==============================] - 163s 15ms/step - loss: 0.4602 - accuracy: 0.8362\n",
      "Epoch 7/10\n",
      "10906/10906 [==============================] - 147s 13ms/step - loss: 0.4460 - accuracy: 0.8396\n",
      "Epoch 8/10\n",
      "10906/10906 [==============================] - 146s 13ms/step - loss: 0.4339 - accuracy: 0.8433\n",
      "Epoch 9/10\n",
      "10906/10906 [==============================] - 154s 14ms/step - loss: 0.4237 - accuracy: 0.8463\n",
      "Epoch 10/10\n",
      "10906/10906 [==============================] - 143s 13ms/step - loss: 0.4154 - accuracy: 0.8484\n",
      "5453/5453 [==============================] - 17s 3ms/step\n",
      "[CV] END ..................................optimizer=RMSprop; total time=24.9min\n",
      "Epoch 1/10\n",
      "10906/10906 [==============================] - 153s 14ms/step - loss: 1.2117 - accuracy: 0.6504\n",
      "Epoch 2/10\n",
      "10906/10906 [==============================] - 150s 14ms/step - loss: 0.6222 - accuracy: 0.7904\n",
      "Epoch 3/10\n",
      "10906/10906 [==============================] - 144s 13ms/step - loss: 0.5410 - accuracy: 0.8130\n",
      "Epoch 4/10\n",
      "10906/10906 [==============================] - 143s 13ms/step - loss: 0.5016 - accuracy: 0.8236\n",
      "Epoch 5/10\n",
      "10906/10906 [==============================] - 139s 13ms/step - loss: 0.4756 - accuracy: 0.8315\n",
      "Epoch 6/10\n",
      "10906/10906 [==============================] - 159s 15ms/step - loss: 0.4573 - accuracy: 0.8369\n",
      "Epoch 7/10\n",
      "10906/10906 [==============================] - 164s 15ms/step - loss: 0.4434 - accuracy: 0.8404\n",
      "Epoch 8/10\n",
      "10906/10906 [==============================] - 152s 14ms/step - loss: 0.4317 - accuracy: 0.8442\n",
      "Epoch 9/10\n",
      "10906/10906 [==============================] - 139s 13ms/step - loss: 0.4219 - accuracy: 0.8469\n",
      "Epoch 10/10\n",
      "10906/10906 [==============================] - 144s 13ms/step - loss: 0.4134 - accuracy: 0.8494\n",
      "5453/5453 [==============================] - 21s 4ms/step\n",
      "[CV] END ..................................optimizer=RMSprop; total time=25.8min\n",
      "Epoch 1/10\n",
      "10906/10906 [==============================] - 159s 14ms/step - loss: 1.1823 - accuracy: 0.6592\n",
      "Epoch 2/10\n",
      "10906/10906 [==============================] - 145s 13ms/step - loss: 0.6153 - accuracy: 0.7927\n",
      "Epoch 3/10\n",
      "10906/10906 [==============================] - 146s 13ms/step - loss: 0.5369 - accuracy: 0.8140\n",
      "Epoch 4/10\n",
      "10906/10906 [==============================] - 146s 13ms/step - loss: 0.4977 - accuracy: 0.8257\n",
      "Epoch 5/10\n",
      "10906/10906 [==============================] - 141s 13ms/step - loss: 0.4731 - accuracy: 0.8326\n",
      "Epoch 6/10\n",
      "10906/10906 [==============================] - 145s 13ms/step - loss: 0.4556 - accuracy: 0.8374\n",
      "Epoch 7/10\n",
      "10906/10906 [==============================] - 143s 13ms/step - loss: 0.4417 - accuracy: 0.8410\n",
      "Epoch 8/10\n",
      "10906/10906 [==============================] - 140s 13ms/step - loss: 0.4307 - accuracy: 0.8443\n",
      "Epoch 9/10\n",
      "10906/10906 [==============================] - 141s 13ms/step - loss: 0.4208 - accuracy: 0.8473\n",
      "Epoch 10/10\n",
      "10906/10906 [==============================] - 145s 13ms/step - loss: 0.4129 - accuracy: 0.8490\n",
      "5453/5453 [==============================] - 21s 4ms/step\n",
      "[CV] END ..................................optimizer=RMSprop; total time=24.9min\n",
      "Epoch 1/10\n",
      "10906/10906 [==============================] - 148s 14ms/step - loss: 1.2012 - accuracy: 0.6556\n",
      "Epoch 2/10\n",
      "10906/10906 [==============================] - 145s 13ms/step - loss: 0.6212 - accuracy: 0.7910\n",
      "Epoch 3/10\n",
      "10906/10906 [==============================] - 160s 15ms/step - loss: 0.5431 - accuracy: 0.8129\n",
      "Epoch 4/10\n",
      "10906/10906 [==============================] - 157s 14ms/step - loss: 0.5037 - accuracy: 0.8238\n",
      "Epoch 5/10\n",
      "10906/10906 [==============================] - 159s 15ms/step - loss: 0.4783 - accuracy: 0.8309\n",
      "Epoch 6/10\n",
      "10906/10906 [==============================] - 143s 13ms/step - loss: 0.4597 - accuracy: 0.8364\n",
      "Epoch 7/10\n",
      "10906/10906 [==============================] - 153s 14ms/step - loss: 0.4462 - accuracy: 0.8398\n",
      "Epoch 8/10\n",
      "10906/10906 [==============================] - 147s 13ms/step - loss: 0.4343 - accuracy: 0.8432\n",
      "Epoch 9/10\n",
      "10906/10906 [==============================] - 145s 13ms/step - loss: 0.4242 - accuracy: 0.8457\n",
      "Epoch 10/10\n",
      "10906/10906 [==============================] - 155s 14ms/step - loss: 0.4164 - accuracy: 0.8482\n",
      "5453/5453 [==============================] - 19s 3ms/step\n",
      "[CV] END .....................................optimizer=Adam; total time=25.9min\n",
      "Epoch 1/10\n",
      "10906/10906 [==============================] - 155s 14ms/step - loss: 1.2197 - accuracy: 0.6499\n",
      "Epoch 2/10\n",
      "10906/10906 [==============================] - 162s 15ms/step - loss: 0.6297 - accuracy: 0.7878\n",
      "Epoch 3/10\n",
      "10906/10906 [==============================] - 162s 15ms/step - loss: 0.5453 - accuracy: 0.8115\n",
      "Epoch 4/10\n",
      "10906/10906 [==============================] - 177s 16ms/step - loss: 0.5052 - accuracy: 0.8231\n",
      "Epoch 5/10\n",
      "10906/10906 [==============================] - 168s 15ms/step - loss: 0.4784 - accuracy: 0.8306\n",
      "Epoch 6/10\n",
      "10906/10906 [==============================] - 162s 15ms/step - loss: 0.4599 - accuracy: 0.8360\n",
      "Epoch 7/10\n",
      "10906/10906 [==============================] - 149s 14ms/step - loss: 0.4457 - accuracy: 0.8397\n",
      "Epoch 8/10\n",
      "10906/10906 [==============================] - 152s 14ms/step - loss: 0.4340 - accuracy: 0.8437\n",
      "Epoch 9/10\n",
      "10906/10906 [==============================] - 159s 15ms/step - loss: 0.4245 - accuracy: 0.8457\n",
      "Epoch 10/10\n",
      "10906/10906 [==============================] - 167s 15ms/step - loss: 0.4159 - accuracy: 0.8489\n",
      "5453/5453 [==============================] - 20s 4ms/step\n",
      "[CV] END .....................................optimizer=Adam; total time=28.2min\n",
      "Epoch 1/10\n",
      "10906/10906 [==============================] - 169s 15ms/step - loss: 1.1831 - accuracy: 0.6582\n",
      "Epoch 2/10\n",
      "10906/10906 [==============================] - 170s 16ms/step - loss: 0.6189 - accuracy: 0.7913\n",
      "Epoch 3/10\n",
      "10906/10906 [==============================] - 173s 16ms/step - loss: 0.5422 - accuracy: 0.8125\n",
      "Epoch 4/10\n",
      "10906/10906 [==============================] - 162s 15ms/step - loss: 0.5028 - accuracy: 0.8244\n",
      "Epoch 5/10\n",
      "10906/10906 [==============================] - 157s 14ms/step - loss: 0.4780 - accuracy: 0.8310\n",
      "Epoch 6/10\n",
      "10906/10906 [==============================] - 164s 15ms/step - loss: 0.4596 - accuracy: 0.8363\n",
      "Epoch 7/10\n",
      "10906/10906 [==============================] - 152s 14ms/step - loss: 0.4454 - accuracy: 0.8400\n",
      "Epoch 8/10\n",
      "10906/10906 [==============================] - 150s 14ms/step - loss: 0.4340 - accuracy: 0.8437\n",
      "Epoch 9/10\n",
      "10906/10906 [==============================] - 153s 14ms/step - loss: 0.4235 - accuracy: 0.8463\n",
      "Epoch 10/10\n",
      "10906/10906 [==============================] - 162s 15ms/step - loss: 0.4154 - accuracy: 0.8489\n",
      "5453/5453 [==============================] - 23s 4ms/step\n",
      "[CV] END .....................................optimizer=Adam; total time=27.6min\n",
      "Epoch 1/10\n",
      "16358/16358 [==============================] - 256s 16ms/step - loss: 1.0329 - accuracy: 0.6934\n",
      "Epoch 2/10\n",
      "16358/16358 [==============================] - 250s 15ms/step - loss: 0.5615 - accuracy: 0.8081\n",
      "Epoch 3/10\n",
      "16358/16358 [==============================] - 221s 13ms/step - loss: 0.5014 - accuracy: 0.8250\n",
      "Epoch 4/10\n",
      "16358/16358 [==============================] - 214s 13ms/step - loss: 0.4706 - accuracy: 0.8335\n",
      "Epoch 5/10\n",
      "16358/16358 [==============================] - 217s 13ms/step - loss: 0.4509 - accuracy: 0.8389\n",
      "Epoch 6/10\n",
      "16358/16358 [==============================] - 230s 14ms/step - loss: 0.4363 - accuracy: 0.8434\n",
      "Epoch 7/10\n",
      "16358/16358 [==============================] - 231s 14ms/step - loss: 0.4250 - accuracy: 0.8461\n",
      "Epoch 8/10\n",
      "16358/16358 [==============================] - 248s 15ms/step - loss: 0.4158 - accuracy: 0.8485\n",
      "Epoch 9/10\n",
      "16358/16358 [==============================] - 257s 16ms/step - loss: 0.4079 - accuracy: 0.8510\n",
      "Epoch 10/10\n",
      "16358/16358 [==============================] - 235s 14ms/step - loss: 0.4011 - accuracy: 0.8529\n",
      "{'optimizer': 'Adam'}\n"
     ]
    }
   ],
   "source": [
    "def build_cnn():\n",
    "    \"\"\"Build a Keras CNN for 62 class classification with desired parameters.\"\"\"\n",
    "  \n",
    "    model = keras.models.Sequential()\n",
    "    model.add(keras.Input(shape=(28, 28, 1)))\n",
    "    model.add(keras.layers.Conv2D(32,5))\n",
    "    model.add(keras.layers.MaxPooling2D(2,2))\n",
    "    model.add(keras.layers.Conv2D(64,5))\n",
    "    model.add(keras.layers.MaxPooling2D(2,2))\n",
    "    model.add(keras.layers.Flatten(input_shape=(28,28,1)))\n",
    "    model.add(keras.layers.Dense(512,activation='relu'))\n",
    "    model.add(keras.layers.Dense(128,activation='relu'))\n",
    "    model.add(keras.layers.Dense(62,activation='softmax'))\n",
    "    model.compile(loss=\"sparse_categorical_crossentropy\",\n",
    "                                   optimizer='sgd',\n",
    "                                   metrics=[\"accuracy\"])\n",
    "    return model\n",
    "\n",
    "keras_classifier = KerasClassifier(build_cnn,epochs=1)\n",
    "param_grid = {'optimizer': ['SGD','RMSprop', 'Adam']}\n",
    "grid_search_cv = GridSearchCV(keras_classifier, param_grid, cv=3, verbose=2)\n",
    "grid_search_cv.fit(X_train, y_train, epochs=10)\n",
    "print(grid_search_cv.best_params_)\n",
    "best_model = grid_search_cv.best_estimator_.model"
   ]
  },
  {
   "cell_type": "code",
   "execution_count": null,
   "metadata": {
    "id": "V0ThZyOeCvRn",
    "outputId": "824f097d-6bdb-41c0-bd7b-aadd44d64163"
   },
   "outputs": [
    {
     "name": "stdout",
     "output_type": "stream",
     "text": [
      "0.83830 (+/-0.005) for {'optimizer': 'SGD'}\n",
      "0.83703 (+/-0.008) for {'optimizer': 'RMSprop'}\n",
      "0.83847 (+/-0.004) for {'optimizer': 'Adam'}\n",
      "Best parameters:  {'optimizer': 'Adam'}\n"
     ]
    }
   ],
   "source": [
    "means = grid_search_cv.cv_results_['mean_test_score']\n",
    "stds = grid_search_cv.cv_results_['std_test_score']\n",
    "for mean, std, params in zip(means, stds, grid_search_cv.cv_results_['params']):\n",
    "    print(\"%0.5f (+/-%0.03f) for %r\" % (mean, std * 2, params))\n",
    "print('Best parameters: ', grid_search_cv.best_params_)\n",
    "best_model = grid_search_cv.best_estimator_.model"
   ]
  },
  {
   "cell_type": "markdown",
   "metadata": {
    "id": "mtfG2sMJCvRn"
   },
   "source": [
    "##### Use sklearn grid search to choose learning rate"
   ]
  },
  {
   "cell_type": "code",
   "execution_count": null,
   "metadata": {
    "id": "5r28gLbkCvRn",
    "outputId": "55692f71-6950-4a6c-e6a9-4d5b719e5afa"
   },
   "outputs": [
    {
     "name": "stdout",
     "output_type": "stream",
     "text": [
      "Fitting 3 folds for each of 2 candidates, totalling 6 fits\n"
     ]
    },
    {
     "name": "stderr",
     "output_type": "stream",
     "text": [
      "2022-05-04 20:29:02.266197: I tensorflow/core/platform/cpu_feature_guard.cc:151] This TensorFlow binary is optimized with oneAPI Deep Neural Network Library (oneDNN) to use the following CPU instructions in performance-critical operations:  AVX2 FMA\n",
      "To enable them in other operations, rebuild TensorFlow with the appropriate compiler flags.\n"
     ]
    },
    {
     "name": "stdout",
     "output_type": "stream",
     "text": [
      "Epoch 1/10\n",
      "10906/10906 [==============================] - 163s 15ms/step - loss: 0.7054 - accuracy: 0.7752\n",
      "Epoch 2/10\n",
      "10906/10906 [==============================] - 149s 14ms/step - loss: 0.6380 - accuracy: 0.7985\n",
      "Epoch 3/10\n",
      "10906/10906 [==============================] - 157s 14ms/step - loss: 0.6903 - accuracy: 0.7882\n",
      "Epoch 4/10\n",
      "10906/10906 [==============================] - 150s 14ms/step - loss: 0.7371 - accuracy: 0.7819\n",
      "Epoch 5/10\n",
      "10906/10906 [==============================] - 145s 13ms/step - loss: 0.7793 - accuracy: 0.7745\n",
      "Epoch 6/10\n",
      "10906/10906 [==============================] - 142s 13ms/step - loss: 0.8383 - accuracy: 0.7653\n",
      "Epoch 7/10\n",
      "10906/10906 [==============================] - 144s 13ms/step - loss: 0.9024 - accuracy: 0.7559\n",
      "Epoch 8/10\n",
      "10906/10906 [==============================] - 143s 13ms/step - loss: 0.9595 - accuracy: 0.7453\n",
      "Epoch 9/10\n",
      "10906/10906 [==============================] - 141s 13ms/step - loss: 1.0367 - accuracy: 0.7334\n",
      "Epoch 10/10\n",
      "10906/10906 [==============================] - 147s 14ms/step - loss: 1.1336 - accuracy: 0.7197\n",
      "5453/5453 [==============================] - 19s 3ms/step\n",
      "[CV] END ...............................optimizer__lr=0.0001; total time=25.4min\n",
      "Epoch 1/10\n",
      "10906/10906 [==============================] - 153s 14ms/step - loss: 0.7177 - accuracy: 0.7720\n",
      "Epoch 2/10\n",
      "10906/10906 [==============================] - 162s 15ms/step - loss: 0.6306 - accuracy: 0.8000\n",
      "Epoch 3/10\n",
      "10906/10906 [==============================] - 149s 14ms/step - loss: 0.6789 - accuracy: 0.7907\n",
      "Epoch 4/10\n",
      "10906/10906 [==============================] - 150s 14ms/step - loss: 0.7309 - accuracy: 0.7823\n",
      "Epoch 5/10\n",
      "10906/10906 [==============================] - 153s 14ms/step - loss: 0.7706 - accuracy: 0.7755\n",
      "Epoch 6/10\n",
      "10906/10906 [==============================] - 155s 14ms/step - loss: 0.8204 - accuracy: 0.7661\n",
      "Epoch 7/10\n",
      "10906/10906 [==============================] - 159s 15ms/step - loss: 0.8699 - accuracy: 0.7579\n",
      "Epoch 8/10\n",
      "10906/10906 [==============================] - 161s 15ms/step - loss: 0.9178 - accuracy: 0.7499\n",
      "Epoch 9/10\n",
      "10906/10906 [==============================] - 145s 13ms/step - loss: 0.9410 - accuracy: 0.7464\n",
      "Epoch 10/10\n",
      "10906/10906 [==============================] - 142s 13ms/step - loss: 0.9838 - accuracy: 0.7397\n",
      "5453/5453 [==============================] - 18s 3ms/step\n",
      "[CV] END ...............................optimizer__lr=0.0001; total time=26.1min\n",
      "Epoch 1/10\n",
      "10906/10906 [==============================] - 152s 14ms/step - loss: 0.7059 - accuracy: 0.7743\n",
      "Epoch 2/10\n",
      "10906/10906 [==============================] - 161s 15ms/step - loss: 0.6314 - accuracy: 0.7999\n",
      "Epoch 3/10\n",
      "10906/10906 [==============================] - 160s 15ms/step - loss: 0.6774 - accuracy: 0.7909\n",
      "Epoch 4/10\n",
      "10906/10906 [==============================] - 142s 13ms/step - loss: 0.7271 - accuracy: 0.7826\n",
      "Epoch 5/10\n",
      "10906/10906 [==============================] - 144s 13ms/step - loss: 0.7826 - accuracy: 0.7744\n",
      "Epoch 6/10\n",
      "10906/10906 [==============================] - 143s 13ms/step - loss: 0.8405 - accuracy: 0.7643\n",
      "Epoch 7/10\n",
      "10906/10906 [==============================] - 153s 14ms/step - loss: 0.9099 - accuracy: 0.7537\n",
      "Epoch 8/10\n",
      "10906/10906 [==============================] - 152s 14ms/step - loss: 0.9624 - accuracy: 0.7446\n",
      "Epoch 9/10\n",
      "10906/10906 [==============================] - 151s 14ms/step - loss: 1.0394 - accuracy: 0.7320\n",
      "Epoch 10/10\n",
      "10906/10906 [==============================] - 152s 14ms/step - loss: 1.1384 - accuracy: 0.7178\n",
      "5453/5453 [==============================] - 18s 3ms/step\n",
      "[CV] END ...............................optimizer__lr=0.0001; total time=25.9min\n",
      "Epoch 1/10\n",
      "10906/10906 [==============================] - 261s 24ms/step - loss: 0.7058 - accuracy: 0.7748\n",
      "Epoch 2/10\n",
      "10906/10906 [==============================] - 270s 25ms/step - loss: 0.6338 - accuracy: 0.7995\n",
      "Epoch 3/10\n",
      "10906/10906 [==============================] - 250s 23ms/step - loss: 0.6836 - accuracy: 0.7894\n",
      "Epoch 4/10\n",
      "10906/10906 [==============================] - 248s 23ms/step - loss: 0.7366 - accuracy: 0.7814\n",
      "Epoch 5/10\n",
      "10906/10906 [==============================] - 238s 22ms/step - loss: 0.7892 - accuracy: 0.7724\n",
      "Epoch 6/10\n",
      "10906/10906 [==============================] - 224s 21ms/step - loss: 0.8439 - accuracy: 0.7641\n",
      "Epoch 7/10\n",
      "10906/10906 [==============================] - 232s 21ms/step - loss: 0.9197 - accuracy: 0.7525\n",
      "Epoch 8/10\n",
      "10906/10906 [==============================] - 268s 25ms/step - loss: 1.0052 - accuracy: 0.7391\n",
      "Epoch 9/10\n",
      "10906/10906 [==============================] - 251s 23ms/step - loss: 1.1194 - accuracy: 0.7225\n",
      "Epoch 10/10\n",
      "10906/10906 [==============================] - 196s 18ms/step - loss: 1.2830 - accuracy: 0.6981\n",
      "5453/5453 [==============================] - 20s 4ms/step\n",
      "[CV] END ................................optimizer__lr=0.001; total time=41.4min\n",
      "Epoch 1/10\n",
      "10906/10906 [==============================] - 161s 15ms/step - loss: 0.7128 - accuracy: 0.7728\n",
      "Epoch 2/10\n",
      "10906/10906 [==============================] - 148s 14ms/step - loss: 0.6296 - accuracy: 0.7998\n",
      "Epoch 3/10\n",
      "10906/10906 [==============================] - 151s 14ms/step - loss: 0.6788 - accuracy: 0.7903\n",
      "Epoch 4/10\n",
      "10906/10906 [==============================] - 151s 14ms/step - loss: 0.7315 - accuracy: 0.7814\n",
      "Epoch 5/10\n",
      "10906/10906 [==============================] - 153s 14ms/step - loss: 0.7802 - accuracy: 0.7744\n",
      "Epoch 6/10\n",
      "10906/10906 [==============================] - 153s 14ms/step - loss: 0.8268 - accuracy: 0.7671\n",
      "Epoch 7/10\n",
      "10906/10906 [==============================] - 161s 15ms/step - loss: 0.8719 - accuracy: 0.7596\n",
      "Epoch 8/10\n",
      "10906/10906 [==============================] - 155s 14ms/step - loss: 0.9253 - accuracy: 0.7520\n",
      "Epoch 9/10\n",
      "10906/10906 [==============================] - 164s 15ms/step - loss: 0.9721 - accuracy: 0.7442\n",
      "Epoch 10/10\n",
      "10906/10906 [==============================] - 150s 14ms/step - loss: 1.0511 - accuracy: 0.7342\n",
      "5453/5453 [==============================] - 18s 3ms/step\n",
      "[CV] END ................................optimizer__lr=0.001; total time=26.6min\n",
      "Epoch 1/10\n",
      "10906/10906 [==============================] - 152s 14ms/step - loss: 0.7086 - accuracy: 0.7739\n",
      "Epoch 2/10\n",
      "10906/10906 [==============================] - 148s 14ms/step - loss: 0.6361 - accuracy: 0.7976\n",
      "Epoch 3/10\n",
      "10906/10906 [==============================] - 144s 13ms/step - loss: 0.6794 - accuracy: 0.7908\n",
      "Epoch 4/10\n",
      "10906/10906 [==============================] - 143s 13ms/step - loss: 0.7314 - accuracy: 0.7831\n",
      "Epoch 5/10\n",
      "10906/10906 [==============================] - 142s 13ms/step - loss: 0.7770 - accuracy: 0.7748\n",
      "Epoch 6/10\n",
      "10906/10906 [==============================] - 154s 14ms/step - loss: 0.8344 - accuracy: 0.7661\n",
      "Epoch 7/10\n",
      "10906/10906 [==============================] - 205s 19ms/step - loss: 0.9045 - accuracy: 0.7553\n",
      "Epoch 8/10\n",
      "10906/10906 [==============================] - 168s 15ms/step - loss: 1.0033 - accuracy: 0.7393\n",
      "Epoch 9/10\n",
      "10906/10906 [==============================] - 159s 15ms/step - loss: 1.1144 - accuracy: 0.7221\n",
      "Epoch 10/10\n",
      "10906/10906 [==============================] - 156s 14ms/step - loss: 1.2554 - accuracy: 0.7009\n",
      "5453/5453 [==============================] - 22s 4ms/step\n",
      "[CV] END ................................optimizer__lr=0.001; total time=27.0min\n",
      "Epoch 1/10\n",
      "16358/16358 [==============================] - 245s 15ms/step - loss: 0.6821 - accuracy: 0.7824\n",
      "Epoch 2/10\n",
      "16358/16358 [==============================] - 253s 15ms/step - loss: 0.6811 - accuracy: 0.7902\n",
      "Epoch 3/10\n",
      "16358/16358 [==============================] - 262s 16ms/step - loss: 0.7608 - accuracy: 0.7768\n",
      "Epoch 4/10\n",
      "16358/16358 [==============================] - 254s 16ms/step - loss: 0.8641 - accuracy: 0.7597\n",
      "Epoch 5/10\n",
      "16358/16358 [==============================] - 244s 15ms/step - loss: 0.9570 - accuracy: 0.7458\n",
      "Epoch 6/10\n",
      "16358/16358 [==============================] - 247s 15ms/step - loss: 1.0576 - accuracy: 0.7308\n",
      "Epoch 7/10\n",
      "16358/16358 [==============================] - 231s 14ms/step - loss: 1.1731 - accuracy: 0.7134\n",
      "Epoch 8/10\n",
      "16358/16358 [==============================] - 221s 14ms/step - loss: 1.3703 - accuracy: 0.6800\n",
      "Epoch 9/10\n",
      "16358/16358 [==============================] - 243s 15ms/step - loss: 1.6894 - accuracy: 0.6262\n",
      "Epoch 10/10\n",
      "16358/16358 [==============================] - 250s 15ms/step - loss: 2.3437 - accuracy: 0.4955\n",
      "{'optimizer__lr': 0.001}\n"
     ]
    }
   ],
   "source": [
    "def build_cnn():\n",
    "    \"\"\"Build a Keras CNN for 62 class classification with desired parameters.\"\"\"\n",
    "    \n",
    "    # Specify the input shape\n",
    "    model = keras.models.Sequential()\n",
    "    model.add(keras.Input(shape=(28, 28, 1)))\n",
    "    model.add(keras.layers.Conv2D(32,5))\n",
    "    model.add(keras.layers.MaxPooling2D(2,2))\n",
    "    model.add(keras.layers.Conv2D(64,5))\n",
    "    model.add(keras.layers.MaxPooling2D(2,2))\n",
    "    model.add(keras.layers.Flatten(input_shape=(28,28,1)))\n",
    "    model.add(keras.layers.Dense(512,activation='relu'))\n",
    "    model.add(keras.layers.Dense(128,activation='relu'))\n",
    "    model.add(keras.layers.Dense(62,activation='softmax'))\n",
    "    opt = keras.optimizers.Adam(learning_rate = 0.0001)\n",
    "    model.compile(loss=\"sparse_categorical_crossentropy\",\n",
    "                                   optimizer=opt,\n",
    "                                   metrics=[\"accuracy\"])\n",
    "    return model\n",
    "\n",
    "keras_classifier = KerasClassifier(build_cnn,epochs=1)\n",
    "from sklearn.model_selection import GridSearchCV\n",
    "param_grid = {'optimizer__lr': [0.0001,0.001]}\n",
    "grid_search_cv = GridSearchCV(keras_classifier, param_grid, cv=3, verbose=2)\n",
    "grid_search_cv.fit(X_train, y_train, epochs=10)\n",
    "print(grid_search_cv.best_params_)\n",
    "best_model = grid_search_cv.best_estimator_.model"
   ]
  },
  {
   "cell_type": "code",
   "execution_count": null,
   "metadata": {
    "id": "J2AwHXwSCvRn",
    "outputId": "f58fc77c-c4c5-4ece-98ca-98f9960d3dd6"
   },
   "outputs": [
    {
     "name": "stdout",
     "output_type": "stream",
     "text": [
      "0.69166 (+/-0.088) for {'optimizer__lr': 0.0001}\n",
      "0.69803 (+/-0.011) for {'optimizer__lr': 0.001}\n",
      "Best parameters:  {'optimizer__lr': 0.001}\n"
     ]
    }
   ],
   "source": [
    "means = grid_search_cv.cv_results_['mean_test_score']\n",
    "stds = grid_search_cv.cv_results_['std_test_score']\n",
    "for mean, std, params in zip(means, stds, grid_search_cv.cv_results_['params']):\n",
    "    print(\"%0.5f (+/-%0.03f) for %r\" % (mean, std * 2, params))\n",
    "print('Best parameters: ', grid_search_cv.best_params_)\n",
    "best_model = grid_search_cv.best_estimator_.model"
   ]
  },
  {
   "cell_type": "markdown",
   "metadata": {},
   "source": [
    "##### View current model"
   ]
  },
  {
   "cell_type": "code",
   "execution_count": null,
   "metadata": {
    "id": "3BWo_MaMCvRn",
    "outputId": "1e6088b1-bcc1-4b92-c5ba-1c556be98e64"
   },
   "outputs": [
    {
     "name": "stdout",
     "output_type": "stream",
     "text": [
      "Epoch 1/10\n",
      "4090/4090 [==============================] - 188s 46ms/step - loss: 0.5151 - accuracy: 0.8255 - val_loss: 0.4198 - val_accuracy: 0.8487\n",
      "Epoch 2/10\n",
      "4090/4090 [==============================] - 178s 43ms/step - loss: 0.3898 - accuracy: 0.8577 - val_loss: 0.3803 - val_accuracy: 0.8620\n",
      "Epoch 3/10\n",
      "4090/4090 [==============================] - 181s 44ms/step - loss: 0.3617 - accuracy: 0.8649 - val_loss: 0.3768 - val_accuracy: 0.8616\n",
      "Epoch 4/10\n",
      "4090/4090 [==============================] - 182s 44ms/step - loss: 0.3415 - accuracy: 0.8706 - val_loss: 0.3845 - val_accuracy: 0.8598\n",
      "Epoch 5/10\n",
      "4090/4090 [==============================] - 183s 45ms/step - loss: 0.3232 - accuracy: 0.8760 - val_loss: 0.3911 - val_accuracy: 0.8614\n",
      "Epoch 6/10\n",
      "4090/4090 [==============================] - 183s 45ms/step - loss: 0.3078 - accuracy: 0.8801 - val_loss: 0.3918 - val_accuracy: 0.8598\n",
      "Epoch 7/10\n",
      "4090/4090 [==============================] - 180s 44ms/step - loss: 0.2936 - accuracy: 0.8841 - val_loss: 0.4136 - val_accuracy: 0.8571\n",
      "Epoch 8/10\n",
      "4090/4090 [==============================] - 181s 44ms/step - loss: 0.2817 - accuracy: 0.8878 - val_loss: 0.4213 - val_accuracy: 0.8581\n"
     ]
    }
   ],
   "source": [
    "model = keras.Sequential([\n",
    "    keras.Input(shape=(28, 28, 1)),\n",
    "    keras.layers.Conv2D(32,kernel_size=(5,5),activation='relu'),\n",
    "    keras.layers.MaxPooling2D(2,2),\n",
    "    keras.layers.Conv2D(64,kernel_size=(5,5),activation='relu'),\n",
    "    keras.layers.MaxPooling2D(2,2),\n",
    "    keras.layers.Flatten(input_shape=(28,28,1)),\n",
    "    keras.layers.Dense(512,activation='relu'),\n",
    "    keras.layers.Dense(128,activation='relu'),\n",
    "    keras.layers.Dense(62,activation='softmax')\n",
    "])\n",
    "\n",
    "opt = keras.optimizers.Adam(learning_rate = 0.001)\n",
    "model.compile(loss=\"sparse_categorical_crossentropy\",\n",
    "                                   optimizer=opt,\n",
    "                                   metrics=[\"accuracy\"])   \n",
    "\n",
    "\n",
    "batch_size = 128\n",
    "epochs = 10\n",
    "\n",
    "early_stop_cb = tf.keras.callbacks.EarlyStopping(\n",
    "    monitor='val_loss', min_delta=0, patience=5, verbose=0,\n",
    "    mode='auto'\n",
    ")\n",
    "\n",
    "# Train the model for 10 epochs with batch size 128\n",
    "batch_size = 128\n",
    "epochs = 10\n",
    "history = model.fit(X_train_sc, y_train, batch_size=batch_size,\n",
    "                    epochs=epochs, validation_data=(X_val_sc, y_val),\n",
    "                    callbacks = [early_stop_cb])\n",
    "\n"
   ]
  },
  {
   "cell_type": "code",
   "execution_count": null,
   "metadata": {
    "id": "M_Z_pmmPCvRo",
    "outputId": "9c3833ab-7c91-4d9e-bbec-a320587f9d98"
   },
   "outputs": [
    {
     "data": {
      "image/png": "[encoded data removed]",
      "text/plain": [
       "<Figure size 576x360 with 1 Axes>"
      ]
     },
     "metadata": {
      "needs_background": "light"
     },
     "output_type": "display_data"
    }
   ],
   "source": [
    "import pandas as pd\n",
    "accuracies = pd.DataFrame(history.history)[['accuracy','val_accuracy']]\n",
    "accuracies.plot(figsize=(8,5))\n",
    "plt.grid(True)\n",
    "plt.gca().set_ylim(0.8,0.90)\n",
    "plt.xlabel('Epoch')\n",
    "plt.show()"
   ]
  },
  {
   "cell_type": "markdown",
   "metadata": {
    "id": "nKLooklRCvRo"
   },
   "source": [
    "#### Turning dropout layer"
   ]
  },
  {
   "cell_type": "markdown",
   "metadata": {},
   "source": [
    "##### Dropout rate = 0.1"
   ]
  },
  {
   "cell_type": "code",
   "execution_count": 10,
   "metadata": {
    "colab": {
     "base_uri": "https://localhost:8080/"
    },
    "id": "0Or7YSGeCvRp",
    "outputId": "3c50c091-9124-4f28-c7cc-941b2c7b1dfd"
   },
   "outputs": [
    {
     "name": "stdout",
     "output_type": "stream",
     "text": [
      "Epoch 1/20\n",
      "4090/4090 [==============================] - 526s 128ms/step - loss: 0.5400 - accuracy: 0.8185 - val_loss: 0.4215 - val_accuracy: 0.8489\n",
      "Epoch 2/20\n",
      "4090/4090 [==============================] - 526s 129ms/step - loss: 0.4095 - accuracy: 0.8519 - val_loss: 0.3873 - val_accuracy: 0.8598\n",
      "Epoch 3/20\n",
      "4090/4090 [==============================] - 524s 128ms/step - loss: 0.3848 - accuracy: 0.8585 - val_loss: 0.3788 - val_accuracy: 0.8602\n",
      "Epoch 4/20\n",
      "4090/4090 [==============================] - 524s 128ms/step - loss: 0.3677 - accuracy: 0.8633 - val_loss: 0.3763 - val_accuracy: 0.8606\n",
      "Epoch 5/20\n",
      "4090/4090 [==============================] - 527s 129ms/step - loss: 0.3564 - accuracy: 0.8661 - val_loss: 0.3755 - val_accuracy: 0.8635\n",
      "Epoch 6/20\n",
      "4090/4090 [==============================] - 530s 130ms/step - loss: 0.3464 - accuracy: 0.8688 - val_loss: 0.3795 - val_accuracy: 0.8599\n",
      "Epoch 7/20\n",
      "4090/4090 [==============================] - 527s 129ms/step - loss: 0.3387 - accuracy: 0.8704 - val_loss: 0.3844 - val_accuracy: 0.8615\n",
      "Epoch 8/20\n",
      "4090/4090 [==============================] - 528s 129ms/step - loss: 0.3319 - accuracy: 0.8722 - val_loss: 0.3819 - val_accuracy: 0.8625\n",
      "Epoch 9/20\n",
      "4090/4090 [==============================] - 526s 129ms/step - loss: 0.3260 - accuracy: 0.8740 - val_loss: 0.3821 - val_accuracy: 0.8626\n",
      "Epoch 10/20\n",
      "4090/4090 [==============================] - 527s 129ms/step - loss: 0.3207 - accuracy: 0.8757 - val_loss: 0.3801 - val_accuracy: 0.8646\n",
      "Epoch 11/20\n",
      "4090/4090 [==============================] - 528s 129ms/step - loss: 0.3156 - accuracy: 0.8770 - val_loss: 0.3915 - val_accuracy: 0.8618\n",
      "Epoch 12/20\n",
      "4090/4090 [==============================] - 527s 129ms/step - loss: 0.3126 - accuracy: 0.8783 - val_loss: 0.3877 - val_accuracy: 0.8637\n",
      "Epoch 13/20\n",
      "4090/4090 [==============================] - 528s 129ms/step - loss: 0.3083 - accuracy: 0.8794 - val_loss: 0.3889 - val_accuracy: 0.8633\n",
      "Epoch 14/20\n",
      "4090/4090 [==============================] - 528s 129ms/step - loss: 0.3050 - accuracy: 0.8803 - val_loss: 0.4061 - val_accuracy: 0.8601\n",
      "Epoch 15/20\n",
      "4090/4090 [==============================] - 527s 129ms/step - loss: 0.3014 - accuracy: 0.8812 - val_loss: 0.4107 - val_accuracy: 0.8608\n",
      "Epoch 16/20\n",
      "4090/4090 [==============================] - 529s 129ms/step - loss: 0.2987 - accuracy: 0.8823 - val_loss: 0.4116 - val_accuracy: 0.8620\n",
      "Epoch 17/20\n",
      "4090/4090 [==============================] - 530s 130ms/step - loss: 0.2958 - accuracy: 0.8833 - val_loss: 0.4164 - val_accuracy: 0.8609\n",
      "Epoch 18/20\n",
      "4090/4090 [==============================] - 529s 129ms/step - loss: 0.2937 - accuracy: 0.8843 - val_loss: 0.4121 - val_accuracy: 0.8622\n",
      "Epoch 19/20\n",
      "4090/4090 [==============================] - 531s 130ms/step - loss: 0.2913 - accuracy: 0.8847 - val_loss: 0.4097 - val_accuracy: 0.8625\n",
      "Epoch 20/20\n",
      "4090/4090 [==============================] - 530s 129ms/step - loss: 0.2895 - accuracy: 0.8852 - val_loss: 0.4141 - val_accuracy: 0.8618\n"
     ]
    }
   ],
   "source": [
    "model = keras.Sequential([\n",
    "    keras.Input(shape=(28, 28, 1)),\n",
    "    keras.layers.Conv2D(32,kernel_size=(5,5),activation='relu'),\n",
    "    keras.layers.MaxPooling2D(2,2),\n",
    "    keras.layers.Dropout(0.1),\n",
    "\n",
    "    keras.layers.Conv2D(64,kernel_size=(5,5),activation='relu'),\n",
    "    keras.layers.MaxPooling2D(2,2),\n",
    "    keras.layers.Dropout(0.1),\n",
    "    \n",
    "    keras.layers.Flatten(),\n",
    "    keras.layers.Dense(512,activation='relu'),\n",
    "    keras.layers.Dropout(0.1),\n",
    "    keras.layers.Dense(128,activation='relu'),\n",
    "    keras.layers.Dense(62,activation='softmax')\n",
    "\n",
    "])\n",
    "opt = keras.optimizers.Adam(learning_rate = 0.001)\n",
    "model.compile(loss=\"sparse_categorical_crossentropy\",\n",
    "                                   optimizer=opt,\n",
    "                                   metrics=[\"accuracy\"])   \n",
    "\n",
    "# Train the model for 20 epochs with batch size 128\n",
    "batch_size = 128\n",
    "epochs = 20\n",
    "history = model.fit(X_train_sc, y_train, batch_size=batch_size,\n",
    "                    epochs=epochs, validation_data=(X_val_sc, y_val))"
   ]
  },
  {
   "cell_type": "code",
   "execution_count": 12,
   "metadata": {
    "colab": {
     "base_uri": "https://localhost:8080/",
     "height": 350
    },
    "id": "FeulD5J0CvRp",
    "outputId": "3dabf05e-1f93-4c68-8837-a8350527c228"
   },
   "outputs": [
    {
     "data": {
      "image/png": "[encoded data removed]",
      "text/plain": [
       "<Figure size 576x360 with 1 Axes>"
      ]
     },
     "metadata": {
      "needs_background": "light"
     },
     "output_type": "display_data"
    }
   ],
   "source": [
    "import pandas as pd\n",
    "accuracies = pd.DataFrame(history.history)[['accuracy','val_accuracy']]\n",
    "accuracies.plot(figsize=(8,5))\n",
    "plt.grid(True)\n",
    "plt.gca().set_ylim(0.8,0.9)\n",
    "plt.xlabel('Epoch')\n",
    "plt.title('CNN model')\n",
    "plt.show()"
   ]
  },
  {
   "cell_type": "markdown",
   "metadata": {},
   "source": [
    "##### Dropout rate = 0.2"
   ]
  },
  {
   "cell_type": "code",
   "execution_count": 9,
   "metadata": {
    "id": "jVImxmOTsLB3"
   },
   "outputs": [
    {
     "name": "stdout",
     "output_type": "stream",
     "text": [
      "Epoch 1/20\n",
      "4090/4090 [==============================] - 288s 70ms/step - loss: 0.5658 - accuracy: 0.8109 - val_loss: 0.4040 - val_accuracy: 0.8524\n",
      "Epoch 2/20\n",
      "4090/4090 [==============================] - 263s 64ms/step - loss: 0.4178 - accuracy: 0.8496 - val_loss: 0.3712 - val_accuracy: 0.8641\n",
      "Epoch 3/20\n",
      "4090/4090 [==============================] - 259s 63ms/step - loss: 0.3935 - accuracy: 0.8559 - val_loss: 0.3634 - val_accuracy: 0.8647\n",
      "Epoch 4/20\n",
      "4090/4090 [==============================] - 257s 63ms/step - loss: 0.3798 - accuracy: 0.8597 - val_loss: 0.3613 - val_accuracy: 0.8642\n",
      "Epoch 5/20\n",
      "4090/4090 [==============================] - 275s 67ms/step - loss: 0.3696 - accuracy: 0.8625 - val_loss: 0.3537 - val_accuracy: 0.8683\n",
      "Epoch 6/20\n",
      "4090/4090 [==============================] - 286s 70ms/step - loss: 0.3636 - accuracy: 0.8644 - val_loss: 0.3561 - val_accuracy: 0.8666\n",
      "Epoch 7/20\n",
      "4090/4090 [==============================] - 265s 65ms/step - loss: 0.3577 - accuracy: 0.8658 - val_loss: 0.3501 - val_accuracy: 0.8696\n",
      "Epoch 8/20\n",
      "4090/4090 [==============================] - 297s 73ms/step - loss: 0.3535 - accuracy: 0.8668 - val_loss: 0.3503 - val_accuracy: 0.8689\n",
      "Epoch 9/20\n",
      "4090/4090 [==============================] - 242s 59ms/step - loss: 0.3499 - accuracy: 0.8677 - val_loss: 0.3504 - val_accuracy: 0.8700\n",
      "Epoch 10/20\n",
      "4090/4090 [==============================] - 234s 57ms/step - loss: 0.3471 - accuracy: 0.8689 - val_loss: 0.3468 - val_accuracy: 0.8711\n",
      "Epoch 11/20\n",
      "4090/4090 [==============================] - 243s 59ms/step - loss: 0.3445 - accuracy: 0.8694 - val_loss: 0.3511 - val_accuracy: 0.8691\n",
      "Epoch 12/20\n",
      "4090/4090 [==============================] - 242s 59ms/step - loss: 0.3428 - accuracy: 0.8697 - val_loss: 0.3480 - val_accuracy: 0.8711\n",
      "Epoch 13/20\n",
      "4090/4090 [==============================] - 250s 61ms/step - loss: 0.3401 - accuracy: 0.8704 - val_loss: 0.3475 - val_accuracy: 0.8707\n",
      "Epoch 14/20\n",
      "4090/4090 [==============================] - 244s 60ms/step - loss: 0.3384 - accuracy: 0.8705 - val_loss: 0.3517 - val_accuracy: 0.8704\n",
      "Epoch 15/20\n",
      "4090/4090 [==============================] - 246s 60ms/step - loss: 0.3372 - accuracy: 0.8713 - val_loss: 0.3507 - val_accuracy: 0.8703\n",
      "Epoch 16/20\n",
      "4090/4090 [==============================] - 217s 53ms/step - loss: 0.3357 - accuracy: 0.8713 - val_loss: 0.3514 - val_accuracy: 0.8702\n",
      "Epoch 17/20\n",
      "4090/4090 [==============================] - 216s 53ms/step - loss: 0.3346 - accuracy: 0.8719 - val_loss: 0.3466 - val_accuracy: 0.8728\n",
      "Epoch 18/20\n",
      "4090/4090 [==============================] - 221s 54ms/step - loss: 0.3331 - accuracy: 0.8724 - val_loss: 0.3509 - val_accuracy: 0.8704\n",
      "Epoch 19/20\n",
      "4090/4090 [==============================] - 214s 52ms/step - loss: 0.3319 - accuracy: 0.8727 - val_loss: 0.3484 - val_accuracy: 0.8720\n",
      "Epoch 20/20\n",
      "4090/4090 [==============================] - 214s 52ms/step - loss: 0.3314 - accuracy: 0.8728 - val_loss: 0.3553 - val_accuracy: 0.8702\n",
      "time cost 4988.092720985413 s\n"
     ]
    }
   ],
   "source": [
    "time_start =time.time()\n",
    "model = keras.Sequential([\n",
    "    keras.Input(shape=(28, 28, 1)),\n",
    "    keras.layers.Conv2D(32,kernel_size=(5,5),activation='relu'),\n",
    "    keras.layers.MaxPooling2D(2,2),\n",
    "    keras.layers.Dropout(0.2),\n",
    "\n",
    "    keras.layers.Conv2D(64,kernel_size=(5,5),activation='relu'),\n",
    "    keras.layers.MaxPooling2D(2,2),\n",
    "    keras.layers.Dropout(0.2),\n",
    "\n",
    "    keras.layers.Flatten(),\n",
    "    keras.layers.Dense(512,activation='relu'),\n",
    "    keras.layers.Dropout(0.2),\n",
    "    keras.layers.Dense(128,activation='relu'),\n",
    "    keras.layers.Dense(62,activation='softmax')\n",
    "\n",
    "])\n",
    "opt = keras.optimizers.Adam(learning_rate = 0.001)\n",
    "model.compile(loss=\"sparse_categorical_crossentropy\",\n",
    "                                   optimizer=opt,\n",
    "                                   metrics=[\"accuracy\"])  \n",
    "\n",
    "early_stop_cb = tf.keras.callbacks.EarlyStopping(\n",
    "    monitor='val_loss', min_delta=0, patience=5, verbose=0,\n",
    "    mode='auto'\n",
    ")\n",
    "# Train the model for 20 epochs with batch size 128\n",
    "batch_size = 128\n",
    "epochs = 20\n",
    "history = model.fit(X_train_sc, y_train, batch_size=batch_size,\n",
    "                    epochs=epochs, validation_data=(X_val_sc, y_val),\n",
    "                    callbacks = [early_stop_cb])\n",
    "time_end=time.time()\n",
    "time_c =time_end - time_start\n",
    "print('time cost',time_c,'s')"
   ]
  },
  {
   "cell_type": "code",
   "execution_count": 10,
   "metadata": {},
   "outputs": [
    {
     "data": {
      "image/png": "[encoded data removed]",
      "text/plain": [
       "<Figure size 576x360 with 1 Axes>"
      ]
     },
     "metadata": {
      "needs_background": "light"
     },
     "output_type": "display_data"
    }
   ],
   "source": [
    "accuracies = pd.DataFrame(history.history)[['accuracy','val_accuracy']]\n",
    "accuracies.plot(figsize=(8,5))\n",
    "plt.grid(True)\n",
    "plt.gca().set_ylim(0.8,0.9)\n",
    "plt.xlabel('Epoch')\n",
    "plt.title('CNN model')\n",
    "plt.show()"
   ]
  },
  {
   "cell_type": "markdown",
   "metadata": {},
   "source": [
    "The validation set performs best when the dropout rate is 0.2, so this is set as the final model."
   ]
  },
  {
   "cell_type": "markdown",
   "metadata": {},
   "source": [
    "##### Final model"
   ]
  },
  {
   "cell_type": "code",
   "execution_count": 8,
   "metadata": {},
   "outputs": [
    {
     "name": "stderr",
     "output_type": "stream",
     "text": [
      "2022-05-20 16:45:56.872007: I tensorflow/core/platform/cpu_feature_guard.cc:151] This TensorFlow binary is optimized with oneAPI Deep Neural Network Library (oneDNN) to use the following CPU instructions in performance-critical operations:  AVX2 FMA\n",
      "To enable them in other operations, rebuild TensorFlow with the appropriate compiler flags.\n"
     ]
    },
    {
     "name": "stdout",
     "output_type": "stream",
     "text": [
      "Epoch 1/20\n",
      "4090/4090 [==============================] - 270s 66ms/step - loss: 0.5711 - accuracy: 0.8093 - val_loss: 0.4028 - val_accuracy: 0.8527\n",
      "Epoch 2/20\n",
      "4090/4090 [==============================] - 401s 98ms/step - loss: 0.4191 - accuracy: 0.8493 - val_loss: 0.3720 - val_accuracy: 0.8629\n",
      "Epoch 3/20\n",
      "4090/4090 [==============================] - 421s 103ms/step - loss: 0.3945 - accuracy: 0.8551 - val_loss: 0.3645 - val_accuracy: 0.8640\n",
      "Epoch 4/20\n",
      "4090/4090 [==============================] - 226s 55ms/step - loss: 0.3806 - accuracy: 0.8596 - val_loss: 0.3649 - val_accuracy: 0.8631\n",
      "Epoch 5/20\n",
      "4090/4090 [==============================] - 208s 51ms/step - loss: 0.3706 - accuracy: 0.8619 - val_loss: 0.3551 - val_accuracy: 0.8683\n",
      "Epoch 6/20\n",
      "4090/4090 [==============================] - 205s 50ms/step - loss: 0.3634 - accuracy: 0.8639 - val_loss: 0.3549 - val_accuracy: 0.8671\n",
      "Epoch 7/20\n",
      "4090/4090 [==============================] - 250s 61ms/step - loss: 0.3580 - accuracy: 0.8655 - val_loss: 0.3515 - val_accuracy: 0.8685\n",
      "Epoch 8/20\n",
      "4090/4090 [==============================] - 223s 55ms/step - loss: 0.3538 - accuracy: 0.8666 - val_loss: 0.3503 - val_accuracy: 0.8689\n",
      "Epoch 9/20\n",
      "4090/4090 [==============================] - 228s 56ms/step - loss: 0.3510 - accuracy: 0.8674 - val_loss: 0.3490 - val_accuracy: 0.8698\n",
      "Epoch 10/20\n",
      "4090/4090 [==============================] - 230s 56ms/step - loss: 0.3476 - accuracy: 0.8683 - val_loss: 0.3483 - val_accuracy: 0.8696\n",
      "Epoch 11/20\n",
      "4090/4090 [==============================] - 233s 57ms/step - loss: 0.3449 - accuracy: 0.8691 - val_loss: 0.3485 - val_accuracy: 0.8705\n",
      "Epoch 12/20\n",
      "4090/4090 [==============================] - 228s 56ms/step - loss: 0.3421 - accuracy: 0.8699 - val_loss: 0.3469 - val_accuracy: 0.8714\n",
      "Epoch 13/20\n",
      "4090/4090 [==============================] - 202s 49ms/step - loss: 0.3395 - accuracy: 0.8705 - val_loss: 0.3465 - val_accuracy: 0.8714\n",
      "Epoch 14/20\n",
      "4090/4090 [==============================] - 198s 48ms/step - loss: 0.3380 - accuracy: 0.8708 - val_loss: 0.3485 - val_accuracy: 0.8721\n",
      "Epoch 15/20\n",
      "4090/4090 [==============================] - 198s 48ms/step - loss: 0.3375 - accuracy: 0.8713 - val_loss: 0.3525 - val_accuracy: 0.8694\n",
      "Epoch 16/20\n",
      "4090/4090 [==============================] - 198s 49ms/step - loss: 0.3348 - accuracy: 0.8720 - val_loss: 0.3497 - val_accuracy: 0.8717\n",
      "Epoch 17/20\n",
      "4090/4090 [==============================] - 198s 48ms/step - loss: 0.3343 - accuracy: 0.8720 - val_loss: 0.3505 - val_accuracy: 0.8710\n",
      "Epoch 18/20\n",
      "4090/4090 [==============================] - 214s 52ms/step - loss: 0.3337 - accuracy: 0.8722 - val_loss: 0.3512 - val_accuracy: 0.8700\n",
      "Epoch 19/20\n",
      "4090/4090 [==============================] - 221s 54ms/step - loss: 0.3326 - accuracy: 0.8720 - val_loss: 0.3529 - val_accuracy: 0.8704\n",
      "Epoch 20/20\n",
      "4090/4090 [==============================] - 221s 54ms/step - loss: 0.3321 - accuracy: 0.8724 - val_loss: 0.3504 - val_accuracy: 0.8716\n",
      "time cost 4785.889231204987 s\n"
     ]
    }
   ],
   "source": [
    "time_start =time.time()\n",
    "model = keras.Sequential([\n",
    "    keras.Input(shape=(28, 28, 1)),\n",
    "    keras.layers.Conv2D(32,kernel_size=(5,5),activation='relu'),\n",
    "    keras.layers.MaxPooling2D(2,2),\n",
    "    keras.layers.Dropout(0.2),\n",
    "\n",
    "    keras.layers.Conv2D(64,kernel_size=(5,5),activation='relu'),\n",
    "    keras.layers.MaxPooling2D(2,2),\n",
    "    keras.layers.Dropout(0.2),\n",
    "\n",
    "    keras.layers.Flatten(),\n",
    "    keras.layers.Dense(512,activation='relu'),\n",
    "    keras.layers.Dropout(0.2),\n",
    "    keras.layers.Dense(128,activation='relu'),\n",
    "    keras.layers.Dense(62,activation='softmax')\n",
    "\n",
    "])\n",
    "opt = keras.optimizers.Adam(learning_rate = 0.001)\n",
    "model.compile(loss=\"sparse_categorical_crossentropy\",\n",
    "                                   optimizer=opt,\n",
    "                                   metrics=[\"accuracy\"])  \n",
    "\n",
    "early_stop_cb = tf.keras.callbacks.EarlyStopping(\n",
    "    monitor='val_loss', min_delta=0, patience=5, verbose=0,\n",
    "    mode='auto'\n",
    ")\n",
    "# Train the model for 20 epochs with batch size 128\n",
    "batch_size = 128\n",
    "epochs = 20\n",
    "history = model.fit(X_train_sc, y_train, batch_size=batch_size,\n",
    "                    epochs=epochs, validation_data=(X_val_sc, y_val),\n",
    "                    callbacks = [early_stop_cb]\n",
    "                   )\n",
    "time_end=time.time()\n",
    "time_c =time_end - time_start\n",
    "print('time cost',time_c,'s')"
   ]
  },
  {
   "cell_type": "code",
   "execution_count": 9,
   "metadata": {},
   "outputs": [
    {
     "name": "stdout",
     "output_type": "stream",
     "text": [
      "Model: \"sequential\"\n",
      "_________________________________________________________________\n",
      " Layer (type)                Output Shape              Param #   \n",
      "=================================================================\n",
      " conv2d (Conv2D)             (None, 24, 24, 32)        832       \n",
      "                                                                 \n",
      " max_pooling2d (MaxPooling2D  (None, 12, 12, 32)       0         \n",
      " )                                                               \n",
      "                                                                 \n",
      " dropout (Dropout)           (None, 12, 12, 32)        0         \n",
      "                                                                 \n",
      " conv2d_1 (Conv2D)           (None, 8, 8, 64)          51264     \n",
      "                                                                 \n",
      " max_pooling2d_1 (MaxPooling  (None, 4, 4, 64)         0         \n",
      " 2D)                                                             \n",
      "                                                                 \n",
      " dropout_1 (Dropout)         (None, 4, 4, 64)          0         \n",
      "                                                                 \n",
      " flatten (Flatten)           (None, 1024)              0         \n",
      "                                                                 \n",
      " dense (Dense)               (None, 512)               524800    \n",
      "                                                                 \n",
      " dropout_2 (Dropout)         (None, 512)               0         \n",
      "                                                                 \n",
      " dense_1 (Dense)             (None, 128)               65664     \n",
      "                                                                 \n",
      " dense_2 (Dense)             (None, 62)                7998      \n",
      "                                                                 \n",
      "=================================================================\n",
      "Total params: 650,558\n",
      "Trainable params: 650,558\n",
      "Non-trainable params: 0\n",
      "_________________________________________________________________\n"
     ]
    }
   ],
   "source": [
    "model.summary()"
   ]
  },
  {
   "cell_type": "code",
   "execution_count": 12,
   "metadata": {},
   "outputs": [],
   "source": [
    "model.save('LeNet.h5')"
   ]
  },
  {
   "cell_type": "markdown",
   "metadata": {
    "id": "GVmBPt3-CvRp"
   },
   "source": [
    "### Using the final model do predict on test set"
   ]
  },
  {
   "cell_type": "code",
   "execution_count": 11,
   "metadata": {
    "id": "ecTcFa5bCvRq",
    "outputId": "6e707d29-7260-4f3d-eb7f-3dfd0f703bdf"
   },
   "outputs": [
    {
     "name": "stdout",
     "output_type": "stream",
     "text": [
      "3636/3636 [==============================] - 18s 5ms/step - loss: 0.3545 - accuracy: 0.8707\n",
      "Accuracy on test data: 0.8707\n"
     ]
    }
   ],
   "source": [
    "loss,accuracy = model.evaluate(X_test_sc,test_lab_raw)\n",
    "print(f'Accuracy on test data: {accuracy:.4f}')"
   ]
  },
  {
   "cell_type": "markdown",
   "metadata": {},
   "source": [
    "#### Compare prediction and true label"
   ]
  },
  {
   "cell_type": "markdown",
   "metadata": {},
   "source": [
    "Show the prediction and true label of the first 10 data"
   ]
  },
  {
   "cell_type": "code",
   "execution_count": 13,
   "metadata": {
    "id": "8j6wWvRiCvRq",
    "outputId": "0830b49c-ae33-49d0-90b7-03302e1d2058"
   },
   "outputs": [
    {
     "name": "stdout",
     "output_type": "stream",
     "text": [
      "Model prediction:  [ 1 36  0  3 33 30 24 40  5  8]\n",
      "True label:  [18. 36.  0.  3. 33. 30. 24. 40.  5.  8.]\n"
     ]
    }
   ],
   "source": [
    "X_test_sample = X_test_sc\n",
    "y_proba = model.predict(X_test_sample).round(2)\n",
    "y_pred = np.argmax(y_proba, axis = -1)\n",
    "print('Model prediction: ',y_pred[:10])\n",
    "print('True label: ',test_lab_raw[:10])"
   ]
  },
  {
   "cell_type": "markdown",
   "metadata": {},
   "source": [
    "#### Show accuracy, precision, recall, F1 score of the prediction "
   ]
  },
  {
   "cell_type": "code",
   "execution_count": 14,
   "metadata": {},
   "outputs": [
    {
     "name": "stdout",
     "output_type": "stream",
     "text": [
      "The accuracy socre of CNN model is: 0.87 \n",
      "The precision socre of CNN model is: 0.86 \n",
      "The recall socre of CNN model is: 0.87 \n",
      "The F1 socre of CNN model is: 0.86 \n"
     ]
    }
   ],
   "source": [
    "from sklearn.metrics import precision_score\n",
    "from sklearn.metrics import recall_score\n",
    "from sklearn.metrics import f1_score\n",
    "from sklearn.metrics import accuracy_score\n",
    "print('The accuracy socre of CNN model is: {:.2f} '.format(accuracy_score(test_lab_raw,y_pred)))\n",
    "print('The precision socre of CNN model is: {:.2f} '.format(precision_score(test_lab_raw,y_pred,average='weighted')))\n",
    "print('The recall socre of CNN model is: {:.2f} '.format(recall_score(test_lab_raw,y_pred,average='weighted')))\n",
    "print('The F1 socre of CNN model is: {:.2f} '.format(f1_score(test_lab_raw,y_pred,average='weighted')))"
   ]
  },
  {
   "cell_type": "markdown",
   "metadata": {},
   "source": [
    "#### Plot confusion mactrix"
   ]
  },
  {
   "cell_type": "markdown",
   "metadata": {},
   "source": [
    "Plot confusion mactrix to observe the classification performance of the model for some categories."
   ]
  },
  {
   "cell_type": "code",
   "execution_count": 15,
   "metadata": {
    "id": "PKfIAXLZCvRq",
    "outputId": "90245d49-a27c-4be4-f8b5-6c4c5d72cf2b"
   },
   "outputs": [
    {
     "data": {
      "text/plain": [
       "Text(0.5, 1.0, 'Confusion matrix of CNN')"
      ]
     },
     "execution_count": 15,
     "metadata": {},
     "output_type": "execute_result"
    },
    {
     "data": {
      "image/png": "[encoded data removed]",
      "text/plain": [
       "<Figure size 1133.86x1133.86 with 2 Axes>"
      ]
     },
     "metadata": {
      "needs_background": "light"
     },
     "output_type": "display_data"
    }
   ],
   "source": [
    "def cm_to_inch(value):\n",
    "    return value/2.54\n",
    "\n",
    "matfig = plt.figure(figsize=(cm_to_inch(40),cm_to_inch(40)))\n",
    "plt.matshow(confusion_matrix(test_lab_raw, y_pred), cmap=plt.cm.binary, interpolation='nearest',fignum=matfig.number)\n",
    "plt.colorbar()\n",
    "plt.xticks(range(64))\n",
    "plt.yticks(range(64))\n",
    "plt.ylabel('true label')\n",
    "plt.xlabel('predicted label')\n",
    "plt.title('Confusion matrix of CNN')"
   ]
  }
 ],
 "metadata": {
  "colab": {
   "collapsed_sections": [
    "qGFbmyx9CvRi",
    "GVmBPt3-CvRp"
   ],
   "name": "ASM.ipynb",
   "provenance": []
  },
  "interpreter": {
   "hash": "a43872ee834eb9260b470d2260f3b9d678d378d3b26828fb0f4a91085f8c3769"
  },
  "kernelspec": {
   "display_name": "Python 3 (ipykernel)",
   "language": "python",
   "name": "python3"
  },
  "language_info": {
   "codemirror_mode": {
    "name": "ipython",
    "version": 3
   },
   "file_extension": ".py",
   "mimetype": "text/x-python",
   "name": "python",
   "nbconvert_exporter": "python",
   "pygments_lexer": "ipython3",
   "version": "3.9.7"
  }
 },
 "nbformat": 4,
 "nbformat_minor": 1
}
